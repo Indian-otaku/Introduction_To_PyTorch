{
  "nbformat": 4,
  "nbformat_minor": 0,
  "metadata": {
    "colab": {
      "provenance": [],
      "collapsed_sections": [
        "WDOT9Vpq9kY9",
        "nfGNTABl5iUN",
        "G17zc3Ar-AZv",
        "RQDLWfa1_aek"
      ],
      "authorship_tag": "ABX9TyN/Ar2Hkeuh/PopD8hHo3cz",
      "include_colab_link": true
    },
    "kernelspec": {
      "name": "python3",
      "display_name": "Python 3"
    },
    "language_info": {
      "name": "python"
    },
    "accelerator": "GPU",
    "gpuClass": "standard",
    "widgets": {
      "application/vnd.jupyter.widget-state+json": {
        "a9899051c3bb4ff88390a0e11ffd2df0": {
          "model_module": "@jupyter-widgets/controls",
          "model_name": "HBoxModel",
          "model_module_version": "1.5.0",
          "state": {
            "_dom_classes": [],
            "_model_module": "@jupyter-widgets/controls",
            "_model_module_version": "1.5.0",
            "_model_name": "HBoxModel",
            "_view_count": null,
            "_view_module": "@jupyter-widgets/controls",
            "_view_module_version": "1.5.0",
            "_view_name": "HBoxView",
            "box_style": "",
            "children": [
              "IPY_MODEL_fe5789cd6be240b48953cdf7a3905a30",
              "IPY_MODEL_1ddbc64424884ac39850c65da86a14f5",
              "IPY_MODEL_a7036a59fb3a4db9b97c676b0960547c"
            ],
            "layout": "IPY_MODEL_84adf133387346909a946ec7a682f592"
          }
        },
        "fe5789cd6be240b48953cdf7a3905a30": {
          "model_module": "@jupyter-widgets/controls",
          "model_name": "HTMLModel",
          "model_module_version": "1.5.0",
          "state": {
            "_dom_classes": [],
            "_model_module": "@jupyter-widgets/controls",
            "_model_module_version": "1.5.0",
            "_model_name": "HTMLModel",
            "_view_count": null,
            "_view_module": "@jupyter-widgets/controls",
            "_view_module_version": "1.5.0",
            "_view_name": "HTMLView",
            "description": "",
            "description_tooltip": null,
            "layout": "IPY_MODEL_cf4d1927c92d4c89a7c8b4f40c753242",
            "placeholder": "​",
            "style": "IPY_MODEL_74995e7fa1e44663a4511815632c3149",
            "value": "100%"
          }
        },
        "1ddbc64424884ac39850c65da86a14f5": {
          "model_module": "@jupyter-widgets/controls",
          "model_name": "FloatProgressModel",
          "model_module_version": "1.5.0",
          "state": {
            "_dom_classes": [],
            "_model_module": "@jupyter-widgets/controls",
            "_model_module_version": "1.5.0",
            "_model_name": "FloatProgressModel",
            "_view_count": null,
            "_view_module": "@jupyter-widgets/controls",
            "_view_module_version": "1.5.0",
            "_view_name": "ProgressView",
            "bar_style": "success",
            "description": "",
            "description_tooltip": null,
            "layout": "IPY_MODEL_253b48e505604f299151a94a45f8ef87",
            "max": 3,
            "min": 0,
            "orientation": "horizontal",
            "style": "IPY_MODEL_6c7128d00e1b42f68d03d367f1d17911",
            "value": 3
          }
        },
        "a7036a59fb3a4db9b97c676b0960547c": {
          "model_module": "@jupyter-widgets/controls",
          "model_name": "HTMLModel",
          "model_module_version": "1.5.0",
          "state": {
            "_dom_classes": [],
            "_model_module": "@jupyter-widgets/controls",
            "_model_module_version": "1.5.0",
            "_model_name": "HTMLModel",
            "_view_count": null,
            "_view_module": "@jupyter-widgets/controls",
            "_view_module_version": "1.5.0",
            "_view_name": "HTMLView",
            "description": "",
            "description_tooltip": null,
            "layout": "IPY_MODEL_9015b03489df41379ab08d24a282bc48",
            "placeholder": "​",
            "style": "IPY_MODEL_f50ad2f491374689b8989b499dbff54d",
            "value": " 3/3 [01:01&lt;00:00, 19.95s/it]"
          }
        },
        "84adf133387346909a946ec7a682f592": {
          "model_module": "@jupyter-widgets/base",
          "model_name": "LayoutModel",
          "model_module_version": "1.2.0",
          "state": {
            "_model_module": "@jupyter-widgets/base",
            "_model_module_version": "1.2.0",
            "_model_name": "LayoutModel",
            "_view_count": null,
            "_view_module": "@jupyter-widgets/base",
            "_view_module_version": "1.2.0",
            "_view_name": "LayoutView",
            "align_content": null,
            "align_items": null,
            "align_self": null,
            "border": null,
            "bottom": null,
            "display": null,
            "flex": null,
            "flex_flow": null,
            "grid_area": null,
            "grid_auto_columns": null,
            "grid_auto_flow": null,
            "grid_auto_rows": null,
            "grid_column": null,
            "grid_gap": null,
            "grid_row": null,
            "grid_template_areas": null,
            "grid_template_columns": null,
            "grid_template_rows": null,
            "height": null,
            "justify_content": null,
            "justify_items": null,
            "left": null,
            "margin": null,
            "max_height": null,
            "max_width": null,
            "min_height": null,
            "min_width": null,
            "object_fit": null,
            "object_position": null,
            "order": null,
            "overflow": null,
            "overflow_x": null,
            "overflow_y": null,
            "padding": null,
            "right": null,
            "top": null,
            "visibility": null,
            "width": null
          }
        },
        "cf4d1927c92d4c89a7c8b4f40c753242": {
          "model_module": "@jupyter-widgets/base",
          "model_name": "LayoutModel",
          "model_module_version": "1.2.0",
          "state": {
            "_model_module": "@jupyter-widgets/base",
            "_model_module_version": "1.2.0",
            "_model_name": "LayoutModel",
            "_view_count": null,
            "_view_module": "@jupyter-widgets/base",
            "_view_module_version": "1.2.0",
            "_view_name": "LayoutView",
            "align_content": null,
            "align_items": null,
            "align_self": null,
            "border": null,
            "bottom": null,
            "display": null,
            "flex": null,
            "flex_flow": null,
            "grid_area": null,
            "grid_auto_columns": null,
            "grid_auto_flow": null,
            "grid_auto_rows": null,
            "grid_column": null,
            "grid_gap": null,
            "grid_row": null,
            "grid_template_areas": null,
            "grid_template_columns": null,
            "grid_template_rows": null,
            "height": null,
            "justify_content": null,
            "justify_items": null,
            "left": null,
            "margin": null,
            "max_height": null,
            "max_width": null,
            "min_height": null,
            "min_width": null,
            "object_fit": null,
            "object_position": null,
            "order": null,
            "overflow": null,
            "overflow_x": null,
            "overflow_y": null,
            "padding": null,
            "right": null,
            "top": null,
            "visibility": null,
            "width": null
          }
        },
        "74995e7fa1e44663a4511815632c3149": {
          "model_module": "@jupyter-widgets/controls",
          "model_name": "DescriptionStyleModel",
          "model_module_version": "1.5.0",
          "state": {
            "_model_module": "@jupyter-widgets/controls",
            "_model_module_version": "1.5.0",
            "_model_name": "DescriptionStyleModel",
            "_view_count": null,
            "_view_module": "@jupyter-widgets/base",
            "_view_module_version": "1.2.0",
            "_view_name": "StyleView",
            "description_width": ""
          }
        },
        "253b48e505604f299151a94a45f8ef87": {
          "model_module": "@jupyter-widgets/base",
          "model_name": "LayoutModel",
          "model_module_version": "1.2.0",
          "state": {
            "_model_module": "@jupyter-widgets/base",
            "_model_module_version": "1.2.0",
            "_model_name": "LayoutModel",
            "_view_count": null,
            "_view_module": "@jupyter-widgets/base",
            "_view_module_version": "1.2.0",
            "_view_name": "LayoutView",
            "align_content": null,
            "align_items": null,
            "align_self": null,
            "border": null,
            "bottom": null,
            "display": null,
            "flex": null,
            "flex_flow": null,
            "grid_area": null,
            "grid_auto_columns": null,
            "grid_auto_flow": null,
            "grid_auto_rows": null,
            "grid_column": null,
            "grid_gap": null,
            "grid_row": null,
            "grid_template_areas": null,
            "grid_template_columns": null,
            "grid_template_rows": null,
            "height": null,
            "justify_content": null,
            "justify_items": null,
            "left": null,
            "margin": null,
            "max_height": null,
            "max_width": null,
            "min_height": null,
            "min_width": null,
            "object_fit": null,
            "object_position": null,
            "order": null,
            "overflow": null,
            "overflow_x": null,
            "overflow_y": null,
            "padding": null,
            "right": null,
            "top": null,
            "visibility": null,
            "width": null
          }
        },
        "6c7128d00e1b42f68d03d367f1d17911": {
          "model_module": "@jupyter-widgets/controls",
          "model_name": "ProgressStyleModel",
          "model_module_version": "1.5.0",
          "state": {
            "_model_module": "@jupyter-widgets/controls",
            "_model_module_version": "1.5.0",
            "_model_name": "ProgressStyleModel",
            "_view_count": null,
            "_view_module": "@jupyter-widgets/base",
            "_view_module_version": "1.2.0",
            "_view_name": "StyleView",
            "bar_color": null,
            "description_width": ""
          }
        },
        "9015b03489df41379ab08d24a282bc48": {
          "model_module": "@jupyter-widgets/base",
          "model_name": "LayoutModel",
          "model_module_version": "1.2.0",
          "state": {
            "_model_module": "@jupyter-widgets/base",
            "_model_module_version": "1.2.0",
            "_model_name": "LayoutModel",
            "_view_count": null,
            "_view_module": "@jupyter-widgets/base",
            "_view_module_version": "1.2.0",
            "_view_name": "LayoutView",
            "align_content": null,
            "align_items": null,
            "align_self": null,
            "border": null,
            "bottom": null,
            "display": null,
            "flex": null,
            "flex_flow": null,
            "grid_area": null,
            "grid_auto_columns": null,
            "grid_auto_flow": null,
            "grid_auto_rows": null,
            "grid_column": null,
            "grid_gap": null,
            "grid_row": null,
            "grid_template_areas": null,
            "grid_template_columns": null,
            "grid_template_rows": null,
            "height": null,
            "justify_content": null,
            "justify_items": null,
            "left": null,
            "margin": null,
            "max_height": null,
            "max_width": null,
            "min_height": null,
            "min_width": null,
            "object_fit": null,
            "object_position": null,
            "order": null,
            "overflow": null,
            "overflow_x": null,
            "overflow_y": null,
            "padding": null,
            "right": null,
            "top": null,
            "visibility": null,
            "width": null
          }
        },
        "f50ad2f491374689b8989b499dbff54d": {
          "model_module": "@jupyter-widgets/controls",
          "model_name": "DescriptionStyleModel",
          "model_module_version": "1.5.0",
          "state": {
            "_model_module": "@jupyter-widgets/controls",
            "_model_module_version": "1.5.0",
            "_model_name": "DescriptionStyleModel",
            "_view_count": null,
            "_view_module": "@jupyter-widgets/base",
            "_view_module_version": "1.2.0",
            "_view_name": "StyleView",
            "description_width": ""
          }
        }
      }
    }
  },
  "cells": [
    {
      "cell_type": "markdown",
      "metadata": {
        "id": "view-in-github",
        "colab_type": "text"
      },
      "source": [
        "<a href=\"https://colab.research.google.com/github/Indian-otaku/Introduction_To_PyTorch/blob/main/cnn2.ipynb\" target=\"_parent\"><img src=\"https://colab.research.google.com/assets/colab-badge.svg\" alt=\"Open In Colab\"/></a>"
      ]
    },
    {
      "cell_type": "markdown",
      "source": [
        "## Importing necessary modules"
      ],
      "metadata": {
        "id": "ox_0D4Q93edM"
      }
    },
    {
      "cell_type": "code",
      "source": [
        "import torch \n",
        "from torch import nn\n",
        "from torch.utils.data import DataLoader\n",
        "import torchvision\n",
        "from torchvision.datasets import MNIST\n",
        "from torchvision.transforms import ToTensor\n",
        "from tqdm.auto import tqdm\n",
        "from timeit import default_timer\n",
        "import matplotlib.pyplot as plt\n",
        "from pathlib import Path\n",
        "import pandas as pd\n",
        "import random"
      ],
      "metadata": {
        "id": "bTGT5v5z3xWQ"
      },
      "execution_count": 40,
      "outputs": []
    },
    {
      "cell_type": "code",
      "source": [
        "!pip install torchmetrics"
      ],
      "metadata": {
        "colab": {
          "base_uri": "https://localhost:8080/"
        },
        "id": "kHpods9jFDbh",
        "outputId": "a06b2d6d-15e8-4811-84aa-5ab1cde7037e"
      },
      "execution_count": 41,
      "outputs": [
        {
          "output_type": "stream",
          "name": "stdout",
          "text": [
            "Looking in indexes: https://pypi.org/simple, https://us-python.pkg.dev/colab-wheels/public/simple/\n",
            "Requirement already satisfied: torchmetrics in /usr/local/lib/python3.8/dist-packages (0.11.3)\n",
            "Requirement already satisfied: typing-extensions in /usr/local/lib/python3.8/dist-packages (from torchmetrics) (4.5.0)\n",
            "Requirement already satisfied: torch>=1.8.1 in /usr/local/lib/python3.8/dist-packages (from torchmetrics) (1.13.1+cu116)\n",
            "Requirement already satisfied: numpy>=1.17.2 in /usr/local/lib/python3.8/dist-packages (from torchmetrics) (1.22.4)\n",
            "Requirement already satisfied: packaging in /usr/local/lib/python3.8/dist-packages (from torchmetrics) (23.0)\n"
          ]
        }
      ]
    },
    {
      "cell_type": "code",
      "source": [
        "!pip install -U mlxtend"
      ],
      "metadata": {
        "colab": {
          "base_uri": "https://localhost:8080/"
        },
        "id": "l2Fjy-iVFIL3",
        "outputId": "74ba7efa-dc1c-4c8a-d4f2-6b5eeec903f4"
      },
      "execution_count": 42,
      "outputs": [
        {
          "output_type": "stream",
          "name": "stdout",
          "text": [
            "Looking in indexes: https://pypi.org/simple, https://us-python.pkg.dev/colab-wheels/public/simple/\n",
            "Requirement already satisfied: mlxtend in /usr/local/lib/python3.8/dist-packages (0.21.0)\n",
            "Requirement already satisfied: numpy>=1.16.2 in /usr/local/lib/python3.8/dist-packages (from mlxtend) (1.22.4)\n",
            "Requirement already satisfied: scipy>=1.2.1 in /usr/local/lib/python3.8/dist-packages (from mlxtend) (1.10.1)\n",
            "Requirement already satisfied: scikit-learn>=1.0.2 in /usr/local/lib/python3.8/dist-packages (from mlxtend) (1.2.1)\n",
            "Requirement already satisfied: joblib>=0.13.2 in /usr/local/lib/python3.8/dist-packages (from mlxtend) (1.2.0)\n",
            "Requirement already satisfied: pandas>=0.24.2 in /usr/local/lib/python3.8/dist-packages (from mlxtend) (1.3.5)\n",
            "Requirement already satisfied: setuptools in /usr/local/lib/python3.8/dist-packages (from mlxtend) (57.4.0)\n",
            "Requirement already satisfied: matplotlib>=3.0.0 in /usr/local/lib/python3.8/dist-packages (from mlxtend) (3.5.3)\n",
            "Requirement already satisfied: pillow>=6.2.0 in /usr/local/lib/python3.8/dist-packages (from matplotlib>=3.0.0->mlxtend) (8.4.0)\n",
            "Requirement already satisfied: pyparsing>=2.2.1 in /usr/local/lib/python3.8/dist-packages (from matplotlib>=3.0.0->mlxtend) (3.0.9)\n",
            "Requirement already satisfied: cycler>=0.10 in /usr/local/lib/python3.8/dist-packages (from matplotlib>=3.0.0->mlxtend) (0.11.0)\n",
            "Requirement already satisfied: python-dateutil>=2.7 in /usr/local/lib/python3.8/dist-packages (from matplotlib>=3.0.0->mlxtend) (2.8.2)\n",
            "Requirement already satisfied: fonttools>=4.22.0 in /usr/local/lib/python3.8/dist-packages (from matplotlib>=3.0.0->mlxtend) (4.38.0)\n",
            "Requirement already satisfied: kiwisolver>=1.0.1 in /usr/local/lib/python3.8/dist-packages (from matplotlib>=3.0.0->mlxtend) (1.4.4)\n",
            "Requirement already satisfied: packaging>=20.0 in /usr/local/lib/python3.8/dist-packages (from matplotlib>=3.0.0->mlxtend) (23.0)\n",
            "Requirement already satisfied: pytz>=2017.3 in /usr/local/lib/python3.8/dist-packages (from pandas>=0.24.2->mlxtend) (2022.7.1)\n",
            "Requirement already satisfied: threadpoolctl>=2.0.0 in /usr/local/lib/python3.8/dist-packages (from scikit-learn>=1.0.2->mlxtend) (3.1.0)\n",
            "Requirement already satisfied: six>=1.5 in /usr/local/lib/python3.8/dist-packages (from python-dateutil>=2.7->matplotlib>=3.0.0->mlxtend) (1.15.0)\n"
          ]
        }
      ]
    },
    {
      "cell_type": "code",
      "source": [
        "import torchmetrics\n",
        "import mlxtend"
      ],
      "metadata": {
        "id": "MjdRbMqZGr3Z"
      },
      "execution_count": 43,
      "outputs": []
    },
    {
      "cell_type": "code",
      "source": [
        "print(\"Torch: \",torch.__version__)\n",
        "print(\"Torchvision: \",torchvision.__version__)\n",
        "print(\"Torchmetrics: \",torchmetrics.__version__)\n",
        "print(\"Mlxtend: \",mlxtend.__version__)"
      ],
      "metadata": {
        "colab": {
          "base_uri": "https://localhost:8080/"
        },
        "id": "fmImBf9V4e75",
        "outputId": "3a726e58-8d4f-42b3-eab8-8f1b1d2bb42e"
      },
      "execution_count": 44,
      "outputs": [
        {
          "output_type": "stream",
          "name": "stdout",
          "text": [
            "Torch:  1.13.1+cu116\n",
            "Torchvision:  0.14.1+cu116\n",
            "Torchmetrics:  0.11.3\n",
            "Mlxtend:  0.21.0\n"
          ]
        }
      ]
    },
    {
      "cell_type": "markdown",
      "source": [
        "## Device agnostic code"
      ],
      "metadata": {
        "id": "WDOT9Vpq9kY9"
      }
    },
    {
      "cell_type": "code",
      "source": [
        "device = \"cuda\" if torch.cuda.is_available() else \"cpu\"\n",
        "device"
      ],
      "metadata": {
        "colab": {
          "base_uri": "https://localhost:8080/",
          "height": 0
        },
        "id": "GT-Q228m9o8S",
        "outputId": "4cbf8775-2d7a-428f-f56b-99fd744da73b"
      },
      "execution_count": 45,
      "outputs": [
        {
          "output_type": "execute_result",
          "data": {
            "text/plain": [
              "'cuda'"
            ],
            "application/vnd.google.colaboratory.intrinsic+json": {
              "type": "string"
            }
          },
          "metadata": {},
          "execution_count": 45
        }
      ]
    },
    {
      "cell_type": "markdown",
      "source": [
        "## Getting the data and transforming it into DataLoaders"
      ],
      "metadata": {
        "id": "nfGNTABl5iUN"
      }
    },
    {
      "cell_type": "code",
      "source": [
        "train_data = MNIST(root=\"data\",\n",
        "                   train=True,\n",
        "                   transform=ToTensor(),\n",
        "                   target_transform=None,\n",
        "                   download=True)\n",
        "test_data = MNIST(root=\"data\",\n",
        "                  train=False,\n",
        "                  transform=ToTensor(),\n",
        "                  target_transform=None,\n",
        "                  download=True)"
      ],
      "metadata": {
        "id": "s4D94R085oo-"
      },
      "execution_count": 46,
      "outputs": []
    },
    {
      "cell_type": "code",
      "source": [
        "train_data"
      ],
      "metadata": {
        "colab": {
          "base_uri": "https://localhost:8080/"
        },
        "id": "R3qVAbb96FHz",
        "outputId": "3d4c3415-e71d-4597-bddf-aacfe6340cc9"
      },
      "execution_count": 47,
      "outputs": [
        {
          "output_type": "execute_result",
          "data": {
            "text/plain": [
              "Dataset MNIST\n",
              "    Number of datapoints: 60000\n",
              "    Root location: data\n",
              "    Split: Train\n",
              "    StandardTransform\n",
              "Transform: ToTensor()"
            ]
          },
          "metadata": {},
          "execution_count": 47
        }
      ]
    },
    {
      "cell_type": "code",
      "source": [
        "BATCH_SIZE = 32\n",
        "torch.manual_seed(100)\n",
        "torch.cuda.manual_seed(100)\n",
        "\n",
        "train_data_loader = DataLoader(dataset=train_data,\n",
        "                               batch_size=BATCH_SIZE,\n",
        "                               shuffle=True,\n",
        "                               drop_last=False)\n",
        "test_data_loader = DataLoader(dataset=test_data,\n",
        "                              batch_size=BATCH_SIZE,\n",
        "                              shuffle=True,\n",
        "                              drop_last=False)"
      ],
      "metadata": {
        "id": "bUkxX7RR6GUP"
      },
      "execution_count": 48,
      "outputs": []
    },
    {
      "cell_type": "code",
      "source": [
        "train_data_loader.dataset"
      ],
      "metadata": {
        "colab": {
          "base_uri": "https://localhost:8080/"
        },
        "id": "uC0xkCjb9-5c",
        "outputId": "c2872141-2b45-4aae-e226-33103135f351"
      },
      "execution_count": 49,
      "outputs": [
        {
          "output_type": "execute_result",
          "data": {
            "text/plain": [
              "Dataset MNIST\n",
              "    Number of datapoints: 60000\n",
              "    Root location: data\n",
              "    Split: Train\n",
              "    StandardTransform\n",
              "Transform: ToTensor()"
            ]
          },
          "metadata": {},
          "execution_count": 49
        }
      ]
    },
    {
      "cell_type": "markdown",
      "source": [
        "## Visualize the data"
      ],
      "metadata": {
        "id": "G17zc3Ar-AZv"
      }
    },
    {
      "cell_type": "code",
      "source": [
        "plt.figure(figsize=(9,9))\n",
        "for i, (image, label) in enumerate(random.sample(list(train_data_loader.dataset), k=9)):\n",
        "    plt.subplot(3, 3, i+1)\n",
        "    plt.imshow(image.squeeze(), cmap='gray')\n",
        "    plt.title(train_data_loader.dataset.classes[label])\n",
        "    plt.axis(False)\n",
        "plt.show()"
      ],
      "metadata": {
        "colab": {
          "base_uri": "https://localhost:8080/",
          "height": 0
        },
        "id": "gSRegTKv-msv",
        "outputId": "16aeb0f2-7d8f-48ab-b4f9-bb948276bd21"
      },
      "execution_count": 50,
      "outputs": [
        {
          "output_type": "display_data",
          "data": {
            "text/plain": [
              "<Figure size 648x648 with 9 Axes>"
            ],
            "image/png": "[encoded data removed]"
          },
          "metadata": {
            "needs_background": "light"
          }
        }
      ]
    },
    {
      "cell_type": "markdown",
      "source": [
        "## Creating the model"
      ],
      "metadata": {
        "id": "RQDLWfa1_aek"
      }
    },
    {
      "cell_type": "code",
      "source": [
        "class MNISTModel1(nn.Module):\n",
        "    def __init__(self, n_input_channels, n_neurons_per_hidden_layer, n_output_classes):\n",
        "        super().__init__()\n",
        "        self.convbatch1 = nn.Sequential(\n",
        "            nn.Conv2d(in_channels=n_input_channels,\n",
        "                      out_channels=n_neurons_per_hidden_layer,\n",
        "                      kernel_size=3,\n",
        "                      stride=1,\n",
        "                      padding=0,\n",
        "                      bias=True,\n",
        "                      device=device,\n",
        "                      dtype=torch.float),\n",
        "            nn.ReLU(),\n",
        "            nn.Conv2d(in_channels=n_neurons_per_hidden_layer,\n",
        "                      out_channels=n_neurons_per_hidden_layer,\n",
        "                      kernel_size=3,\n",
        "                      stride=1,\n",
        "                      padding=0,\n",
        "                      bias=True,\n",
        "                      device=device,\n",
        "                      dtype=torch.float),\n",
        "            nn.ReLU(),\n",
        "            nn.MaxPool2d(kernel_size=2,\n",
        "                         stride=1,\n",
        "                         padding=0)\n",
        "        )\n",
        "        self.nnlayer1 = nn.Sequential(\n",
        "            nn.Flatten(),\n",
        "            nn.Linear(in_features=n_neurons_per_hidden_layer*23*23, \n",
        "                      out_features=n_neurons_per_hidden_layer,\n",
        "                      bias=True,\n",
        "                      device=device,\n",
        "                      dtype=torch.float),\n",
        "            nn.ReLU(),\n",
        "            nn.Linear(in_features=n_neurons_per_hidden_layer,\n",
        "                      out_features=n_output_classes,\n",
        "                      bias=True,\n",
        "                      device=device,\n",
        "                      dtype=torch.float)\n",
        "        )\n",
        "    \n",
        "    def forward(self, x: torch.Tensor)-> torch.Tensor:\n",
        "        return self.nnlayer1(self.convbatch1(x))\n"
      ],
      "metadata": {
        "id": "XER97Ii5AVLi"
      },
      "execution_count": 51,
      "outputs": []
    },
    {
      "cell_type": "code",
      "source": [
        "model1 = MNISTModel1(n_input_channels=1,\n",
        "                     n_neurons_per_hidden_layer=10,\n",
        "                     n_output_classes=10).to(device)\n",
        "model1"
      ],
      "metadata": {
        "colab": {
          "base_uri": "https://localhost:8080/"
        },
        "id": "onmLec8IEVYG",
        "outputId": "71a4f2d2-5c51-4ef6-f352-f0d86516c91a"
      },
      "execution_count": 52,
      "outputs": [
        {
          "output_type": "execute_result",
          "data": {
            "text/plain": [
              "MNISTModel1(\n",
              "  (convbatch1): Sequential(\n",
              "    (0): Conv2d(1, 10, kernel_size=(3, 3), stride=(1, 1))\n",
              "    (1): ReLU()\n",
              "    (2): Conv2d(10, 10, kernel_size=(3, 3), stride=(1, 1))\n",
              "    (3): ReLU()\n",
              "    (4): MaxPool2d(kernel_size=2, stride=1, padding=0, dilation=1, ceil_mode=False)\n",
              "  )\n",
              "  (nnlayer1): Sequential(\n",
              "    (0): Flatten(start_dim=1, end_dim=-1)\n",
              "    (1): Linear(in_features=5290, out_features=10, bias=True)\n",
              "    (2): ReLU()\n",
              "    (3): Linear(in_features=10, out_features=10, bias=True)\n",
              "  )\n",
              ")"
            ]
          },
          "metadata": {},
          "execution_count": 52
        }
      ]
    },
    {
      "cell_type": "code",
      "source": [
        "model1(image.unsqueeze(0).to(device))"
      ],
      "metadata": {
        "colab": {
          "base_uri": "https://localhost:8080/"
        },
        "id": "zmNPAAXvVgmJ",
        "outputId": "13a8196b-b777-415c-83f9-3d1e3b559515"
      },
      "execution_count": 53,
      "outputs": [
        {
          "output_type": "execute_result",
          "data": {
            "text/plain": [
              "tensor([[-0.1805,  0.2598,  0.2230,  0.1170,  0.0821, -0.2799,  0.1662,  0.1617,\n",
              "         -0.2958, -0.1800]], device='cuda:0', grad_fn=<AddmmBackward0>)"
            ]
          },
          "metadata": {},
          "execution_count": 53
        }
      ]
    },
    {
      "cell_type": "markdown",
      "source": [
        "## Creating accuracy function, loss function and optimizer"
      ],
      "metadata": {
        "id": "LbB8vFIxEmKu"
      }
    },
    {
      "cell_type": "code",
      "source": [
        "accuracy_fn = torchmetrics.Accuracy(task=\"multiclass\",\n",
        "                                    num_classes=10).to(device)\n",
        "loss_fn = nn.CrossEntropyLoss()\n",
        "optimizer = torch.optim.SGD(params=model1.parameters(),\n",
        "                            lr=0.1)\n",
        "optimizer.state_dict()"
      ],
      "metadata": {
        "colab": {
          "base_uri": "https://localhost:8080/"
        },
        "id": "KivwR5lGE9iN",
        "outputId": "e6a90b88-55ca-4696-c524-df9db6418c3d"
      },
      "execution_count": 54,
      "outputs": [
        {
          "output_type": "execute_result",
          "data": {
            "text/plain": [
              "{'state': {},\n",
              " 'param_groups': [{'lr': 0.1,\n",
              "   'momentum': 0,\n",
              "   'dampening': 0,\n",
              "   'weight_decay': 0,\n",
              "   'nesterov': False,\n",
              "   'maximize': False,\n",
              "   'foreach': None,\n",
              "   'differentiable': False,\n",
              "   'params': [0, 1, 2, 3, 4, 5, 6, 7]}]}"
            ]
          },
          "metadata": {},
          "execution_count": 54
        }
      ]
    },
    {
      "cell_type": "markdown",
      "source": [
        "## Train and test loop"
      ],
      "metadata": {
        "id": "FR-Mkb2uH3KZ"
      }
    },
    {
      "cell_type": "code",
      "source": [
        "def train_step(model: torch.nn.Module,\n",
        "               data_loader: torch.utils.data.DataLoader,\n",
        "               loss_fn,\n",
        "               optimizer: torch.optim.Optimizer,\n",
        "               accuracy_fn,\n",
        "               device: torch.device):\n",
        "    model.to(device)\n",
        "    model.train()\n",
        "    total_loss = 0\n",
        "    total_acc = 0\n",
        "\n",
        "    for index, (images, labels) in enumerate(data_loader):\n",
        "        images = images.to(device)\n",
        "        labels = labels.to(device)\n",
        "\n",
        "        label_pred_logits = model(images)\n",
        "        label_prediction = torch.softmax(label_pred_logits, dim=0).argmax(dim=1)\n",
        "        loss = loss_fn(label_pred_logits, labels)\n",
        "        total_loss += loss\n",
        "        acc = accuracy_fn(label_prediction, labels)\n",
        "        total_acc += acc\n",
        "\n",
        "        model.zero_grad()\n",
        "        loss.backward()\n",
        "        optimizer.step()\n",
        "    \n",
        "    total_loss /= len(data_loader)\n",
        "    total_acc /= len(data_loader)\n",
        "\n",
        "    print(f\"Train loss: {total_loss: .5f} accuracy: {total_acc*100: .3f}\")\n",
        "\n",
        "def test_step(model: torch.nn.Module,\n",
        "              data_loader: torch.utils.data.DataLoader,\n",
        "              loss_fn,\n",
        "              accuracy_fn,\n",
        "              device: torch.device):\n",
        "    model.to(device)\n",
        "    model.eval()\n",
        "    total_loss = 0\n",
        "    total_acc = 0\n",
        "\n",
        "    with torch.inference_mode():\n",
        "        for index, (images, labels) in enumerate(data_loader):\n",
        "            images = images.to(device)\n",
        "            labels = labels.to(device)\n",
        "\n",
        "            label_pred_logits = model(images)\n",
        "            labels_prediction = torch.argmax(label_pred_logits, dim=1)\n",
        "            loss = loss_fn(label_pred_logits, labels)\n",
        "            total_loss += loss\n",
        "            acc = accuracy_fn(labels_prediction, labels)\n",
        "            total_acc += acc\n",
        "\n",
        "        total_loss /= len(data_loader)\n",
        "        total_acc /= len(data_loader)\n",
        "\n",
        "    print(f\"Test loss: {total_loss: .5f} accuracy: {total_acc*100: .3f}\")\n"
      ],
      "metadata": {
        "id": "A6wQ_YG9H9kR"
      },
      "execution_count": 55,
      "outputs": []
    },
    {
      "cell_type": "code",
      "source": [
        "torch.cuda.manual_seed(42)\n",
        "\n",
        "start_time = default_timer()\n",
        "\n",
        "epochs = 3\n",
        "\n",
        "for epoch in tqdm(range(epochs)):\n",
        "    print(f\"--------------------------------------------------{epoch}--------------------------------------------------------\")\n",
        "    train_step(model=model1,\n",
        "                  data_loader=train_data_loader,\n",
        "                  loss_fn=loss_fn,\n",
        "                  accuracy_fn=accuracy_fn,\n",
        "                  optimizer=optimizer,\n",
        "                  device=device)\n",
        "    test_step(model=model1,\n",
        "                 data_loader=test_data_loader,\n",
        "                 loss_fn=loss_fn,\n",
        "                 accuracy_fn=accuracy_fn,\n",
        "                 device=device)\n",
        "\n",
        "end_time = default_timer()\n",
        "\n",
        "total_train_time = end_time - start_time\n",
        "print(f\"Total train time taken is {total_train_time} using device {device}\")"
      ],
      "metadata": {
        "id": "EEG-FSyANq0z",
        "colab": {
          "base_uri": "https://localhost:8080/",
          "height": 223,
          "referenced_widgets": [
            "a9899051c3bb4ff88390a0e11ffd2df0",
            "fe5789cd6be240b48953cdf7a3905a30",
            "1ddbc64424884ac39850c65da86a14f5",
            "a7036a59fb3a4db9b97c676b0960547c",
            "84adf133387346909a946ec7a682f592",
            "cf4d1927c92d4c89a7c8b4f40c753242",
            "74995e7fa1e44663a4511815632c3149",
            "253b48e505604f299151a94a45f8ef87",
            "6c7128d00e1b42f68d03d367f1d17911",
            "9015b03489df41379ab08d24a282bc48",
            "f50ad2f491374689b8989b499dbff54d"
          ]
        },
        "outputId": "f544749a-1118-42e9-9132-938c6b499cc8"
      },
      "execution_count": 56,
      "outputs": [
        {
          "output_type": "display_data",
          "data": {
            "text/plain": [
              "  0%|          | 0/3 [00:00<?, ?it/s]"
            ],
            "application/vnd.jupyter.widget-view+json": {
              "version_major": 2,
              "version_minor": 0,
              "model_id": "a9899051c3bb4ff88390a0e11ffd2df0"
            }
          },
          "metadata": {}
        },
        {
          "output_type": "stream",
          "name": "stdout",
          "text": [
            "--------------------------------------------------0--------------------------------------------------------\n",
            "Train loss:  0.41303 accuracy:  76.927\n",
            "Test loss:  0.09661 accuracy:  97.214\n",
            "--------------------------------------------------1--------------------------------------------------------\n",
            "Train loss:  0.08141 accuracy:  88.110\n",
            "Test loss:  0.06716 accuracy:  97.883\n",
            "--------------------------------------------------2--------------------------------------------------------\n",
            "Train loss:  0.05806 accuracy:  89.433\n",
            "Test loss:  0.05856 accuracy:  98.193\n",
            "Total train time taken is 61.44892628699995 using device cuda\n"
          ]
        }
      ]
    },
    {
      "cell_type": "code",
      "source": [
        "# Just an audio alarm that informs if colab finished executing. \n",
        "from google.colab import output\n",
        "output.eval_js('new Audio(\"https://upload.wikimedia.org/wikipedia/commons/5/5c/Alarm_clock_-_01.ogg\").play()')"
      ],
      "metadata": {
        "id": "xh3V4rucXUAl"
      },
      "execution_count": 57,
      "outputs": []
    },
    {
      "cell_type": "markdown",
      "source": [
        "## Visualize the results of trained model"
      ],
      "metadata": {
        "id": "mETQn2m_aW4P"
      }
    },
    {
      "cell_type": "code",
      "source": [
        "def plot_images_with_labels(model, data_loader, imagelist, labellist):\n",
        "    plt.figure(figsize=(9,9))\n",
        "    pred_probs_list = []\n",
        "    pred_and_actual_list = []\n",
        "    for i in range(9):\n",
        "        plt.subplot(3, 3, i+1)\n",
        "        plt.imshow(imagelist[i].squeeze(), cmap='gray')\n",
        "        pred_label_logits = model(imagelist[i].unsqueeze(0))\n",
        "        pred_label_probs = torch.softmax(pred_label_logits, dim=1)\n",
        "        pred_label = data_loader.dataset.classes[torch.argmax(pred_label_logits, dim=1)]\n",
        "        actual_label = data_loader.dataset.classes[labellist[i]]\n",
        "        title = f\"Pred:{pred_label} | Truth:{actual_label}\"\n",
        "        pred_probs_list.append({\"Prob of \"+test_data_loader.dataset.classes[j]:pred_label_probs[0][j].item() for j in range(9)})\n",
        "        pred_and_actual_list.append({\"Pred\":pred_label, \"Truth\":actual_label})\n",
        "        if (pred_label == actual_label):\n",
        "            plt.title(title, c='g')\n",
        "        else:\n",
        "            plt.title(title, c='r')\n",
        "        plt.axis(False)\n",
        "    plt.show()\n",
        "    return pred_probs_list, pred_and_actual_list\n",
        "       "
      ],
      "metadata": {
        "id": "juY2M8YVbYnD"
      },
      "execution_count": 58,
      "outputs": []
    },
    {
      "cell_type": "code",
      "source": [
        "imagelist = []\n",
        "labellist = []\n",
        "\n",
        "for image, label in random.sample(list(test_data_loader.dataset), k=9):\n",
        "    imagelist.append(image)\n",
        "    labellist.append(label)\n",
        "\n",
        "pred_probs_list, pred_and_actual_list = plot_images_with_labels(model=model1.to(\"cpu\"),\n",
        "                        data_loader=train_data_loader,\n",
        "                        imagelist=imagelist,\n",
        "                        labellist=labellist)"
      ],
      "metadata": {
        "colab": {
          "base_uri": "https://localhost:8080/",
          "height": 536
        },
        "id": "Bam2VDCwdjpc",
        "outputId": "d7da21b8-a2a9-47a1-a785-737803944205"
      },
      "execution_count": 59,
      "outputs": [
        {
          "output_type": "display_data",
          "data": {
            "text/plain": [
              "<Figure size 648x648 with 9 Axes>"
            ],
            "image/png": "[encoded data removed]"
          },
          "metadata": {
            "needs_background": "light"
          }
        }
      ]
    },
    {
      "cell_type": "code",
      "source": [
        "df1 = pd.DataFrame(pred_probs_list, dtype=str)\n",
        "df2 = pd.DataFrame(pred_and_actual_list, dtype=str)\n",
        "df = pd.concat([df1, df2], axis=1)\n",
        "df"
      ],
      "metadata": {
        "colab": {
          "base_uri": "https://localhost:8080/",
          "height": 551
        },
        "id": "Sgs2tDNxeBBF",
        "outputId": "174c5ada-424a-4419-d11d-d7aebfb88b8a"
      },
      "execution_count": 60,
      "outputs": [
        {
          "output_type": "execute_result",
          "data": {
            "text/plain": [
              "         Prob of 0 - zero         Prob of 1 - one         Prob of 2 - two  \\\n",
              "0   6.973910923573079e-14   4.336083065936691e-07   6.033745876266039e-07   \n",
              "1      0.9999873638153076  2.0198018604866697e-12   2.354691019945676e-08   \n",
              "2    1.66437592874491e-11  1.4982541596264554e-10   6.740820026607253e-07   \n",
              "3   2.734293260558962e-12    3.81193862553867e-14  2.5576041257730983e-14   \n",
              "4  7.0443526567487424e-09   2.364711235713912e-06   8.202010626234824e-09   \n",
              "5   2.458330034763728e-13   3.421442462681057e-09   3.483315822450095e-07   \n",
              "6  2.0585953279805835e-06   7.372866965386915e-13  1.6636307609285694e-10   \n",
              "7  4.9309200278457865e-08   4.707423253286214e-12  1.0825350393872668e-08   \n",
              "8  1.0822404170746092e-12   9.564182779087105e-11   8.695922454338145e-11   \n",
              "\n",
              "        Prob of 3 - three        Prob of 4 - four        Prob of 5 - five  \\\n",
              "0      0.9999988079071045    6.22781557227392e-12  1.1972336455556842e-09   \n",
              "1  1.0685858420345085e-08  1.9049480959668075e-13  1.0252067568217171e-06   \n",
              "2        0.99994957447052   5.466014781706327e-16  1.6760460539444466e-06   \n",
              "3  2.7925980248255655e-06   8.642761888674582e-18      0.9999778270721436   \n",
              "4    0.022777849808335304  5.4145012917672375e-09      0.9767962694168091   \n",
              "5      0.9999871253967285   2.330128514996862e-14  3.2724253173910256e-07   \n",
              "6  1.4731681119428686e-07   7.154682402088497e-11      0.9989373087882996   \n",
              "7   3.416845117953926e-08  0.00010372760880272835   8.523064138898917e-07   \n",
              "8   1.919437644850447e-14      0.9999970197677612   2.317841231447293e-11   \n",
              "\n",
              "          Prob of 6 - six       Prob of 7 - seven       Prob of 8 - eight  \\\n",
              "0   7.812248929393048e-16  3.2316201270532474e-08  1.4648782098447555e-07   \n",
              "1   4.310125518713903e-07   8.130748296863999e-10   6.200049824656162e-07   \n",
              "2    1.89939684531841e-14   8.826032127373651e-10  4.7967714635888115e-05   \n",
              "3  1.0272879213957253e-09   3.128237686250701e-14  1.9445500583969988e-05   \n",
              "4   2.586662958492525e-05  1.8175870530878768e-11  0.00018263579113408923   \n",
              "5  2.5775942727348893e-14  2.0494322905406648e-10  1.2119711755076423e-05   \n",
              "6    3.83305705327075e-05  1.0942613135056511e-11   0.0005789849674329162   \n",
              "7    2.10378971188252e-11  6.8312569965200964e-06    8.52332050271798e-06   \n",
              "8   6.521335554898755e-11   6.385910467088252e-08   7.335282816711697e-07   \n",
              "\n",
              "        Pred      Truth  \n",
              "0  3 - three  3 - three  \n",
              "1   0 - zero   0 - zero  \n",
              "2  3 - three  3 - three  \n",
              "3   5 - five   5 - five  \n",
              "4   5 - five   5 - five  \n",
              "5  3 - three  3 - three  \n",
              "6   5 - five   5 - five  \n",
              "7   9 - nine   9 - nine  \n",
              "8   4 - four   4 - four  "
            ],
            "text/html": [
              "\n",
              "  <div id=\"df-3e31082a-a284-4470-85fd-166d3c661374\">\n",
              "    <div class=\"colab-df-container\">\n",
              "      <div>\n",
              "<style scoped>\n",
              "    .dataframe tbody tr th:only-of-type {\n",
              "        vertical-align: middle;\n",
              "    }\n",
              "\n",
              "    .dataframe tbody tr th {\n",
              "        vertical-align: top;\n",
              "    }\n",
              "\n",
              "    .dataframe thead th {\n",
              "        text-align: right;\n",
              "    }\n",
              "</style>\n",
              "<table border=\"1\" class=\"dataframe\">\n",
              "  <thead>\n",
              "    <tr style=\"text-align: right;\">\n",
              "      <th></th>\n",
              "      <th>Prob of 0 - zero</th>\n",
              "      <th>Prob of 1 - one</th>\n",
              "      <th>Prob of 2 - two</th>\n",
              "      <th>Prob of 3 - three</th>\n",
              "      <th>Prob of 4 - four</th>\n",
              "      <th>Prob of 5 - five</th>\n",
              "      <th>Prob of 6 - six</th>\n",
              "      <th>Prob of 7 - seven</th>\n",
              "      <th>Prob of 8 - eight</th>\n",
              "      <th>Pred</th>\n",
              "      <th>Truth</th>\n",
              "    </tr>\n",
              "  </thead>\n",
              "  <tbody>\n",
              "    <tr>\n",
              "      <th>0</th>\n",
              "      <td>6.973910923573079e-14</td>\n",
              "      <td>4.336083065936691e-07</td>\n",
              "      <td>6.033745876266039e-07</td>\n",
              "      <td>0.9999988079071045</td>\n",
              "      <td>6.22781557227392e-12</td>\n",
              "      <td>1.1972336455556842e-09</td>\n",
              "      <td>7.812248929393048e-16</td>\n",
              "      <td>3.2316201270532474e-08</td>\n",
              "      <td>1.4648782098447555e-07</td>\n",
              "      <td>3 - three</td>\n",
              "      <td>3 - three</td>\n",
              "    </tr>\n",
              "    <tr>\n",
              "      <th>1</th>\n",
              "      <td>0.9999873638153076</td>\n",
              "      <td>2.0198018604866697e-12</td>\n",
              "      <td>2.354691019945676e-08</td>\n",
              "      <td>1.0685858420345085e-08</td>\n",
              "      <td>1.9049480959668075e-13</td>\n",
              "      <td>1.0252067568217171e-06</td>\n",
              "      <td>4.310125518713903e-07</td>\n",
              "      <td>8.130748296863999e-10</td>\n",
              "      <td>6.200049824656162e-07</td>\n",
              "      <td>0 - zero</td>\n",
              "      <td>0 - zero</td>\n",
              "    </tr>\n",
              "    <tr>\n",
              "      <th>2</th>\n",
              "      <td>1.66437592874491e-11</td>\n",
              "      <td>1.4982541596264554e-10</td>\n",
              "      <td>6.740820026607253e-07</td>\n",
              "      <td>0.99994957447052</td>\n",
              "      <td>5.466014781706327e-16</td>\n",
              "      <td>1.6760460539444466e-06</td>\n",
              "      <td>1.89939684531841e-14</td>\n",
              "      <td>8.826032127373651e-10</td>\n",
              "      <td>4.7967714635888115e-05</td>\n",
              "      <td>3 - three</td>\n",
              "      <td>3 - three</td>\n",
              "    </tr>\n",
              "    <tr>\n",
              "      <th>3</th>\n",
              "      <td>2.734293260558962e-12</td>\n",
              "      <td>3.81193862553867e-14</td>\n",
              "      <td>2.5576041257730983e-14</td>\n",
              "      <td>2.7925980248255655e-06</td>\n",
              "      <td>8.642761888674582e-18</td>\n",
              "      <td>0.9999778270721436</td>\n",
              "      <td>1.0272879213957253e-09</td>\n",
              "      <td>3.128237686250701e-14</td>\n",
              "      <td>1.9445500583969988e-05</td>\n",
              "      <td>5 - five</td>\n",
              "      <td>5 - five</td>\n",
              "    </tr>\n",
              "    <tr>\n",
              "      <th>4</th>\n",
              "      <td>7.0443526567487424e-09</td>\n",
              "      <td>2.364711235713912e-06</td>\n",
              "      <td>8.202010626234824e-09</td>\n",
              "      <td>0.022777849808335304</td>\n",
              "      <td>5.4145012917672375e-09</td>\n",
              "      <td>0.9767962694168091</td>\n",
              "      <td>2.586662958492525e-05</td>\n",
              "      <td>1.8175870530878768e-11</td>\n",
              "      <td>0.00018263579113408923</td>\n",
              "      <td>5 - five</td>\n",
              "      <td>5 - five</td>\n",
              "    </tr>\n",
              "    <tr>\n",
              "      <th>5</th>\n",
              "      <td>2.458330034763728e-13</td>\n",
              "      <td>3.421442462681057e-09</td>\n",
              "      <td>3.483315822450095e-07</td>\n",
              "      <td>0.9999871253967285</td>\n",
              "      <td>2.330128514996862e-14</td>\n",
              "      <td>3.2724253173910256e-07</td>\n",
              "      <td>2.5775942727348893e-14</td>\n",
              "      <td>2.0494322905406648e-10</td>\n",
              "      <td>1.2119711755076423e-05</td>\n",
              "      <td>3 - three</td>\n",
              "      <td>3 - three</td>\n",
              "    </tr>\n",
              "    <tr>\n",
              "      <th>6</th>\n",
              "      <td>2.0585953279805835e-06</td>\n",
              "      <td>7.372866965386915e-13</td>\n",
              "      <td>1.6636307609285694e-10</td>\n",
              "      <td>1.4731681119428686e-07</td>\n",
              "      <td>7.154682402088497e-11</td>\n",
              "      <td>0.9989373087882996</td>\n",
              "      <td>3.83305705327075e-05</td>\n",
              "      <td>1.0942613135056511e-11</td>\n",
              "      <td>0.0005789849674329162</td>\n",
              "      <td>5 - five</td>\n",
              "      <td>5 - five</td>\n",
              "    </tr>\n",
              "    <tr>\n",
              "      <th>7</th>\n",
              "      <td>4.9309200278457865e-08</td>\n",
              "      <td>4.707423253286214e-12</td>\n",
              "      <td>1.0825350393872668e-08</td>\n",
              "      <td>3.416845117953926e-08</td>\n",
              "      <td>0.00010372760880272835</td>\n",
              "      <td>8.523064138898917e-07</td>\n",
              "      <td>2.10378971188252e-11</td>\n",
              "      <td>6.8312569965200964e-06</td>\n",
              "      <td>8.52332050271798e-06</td>\n",
              "      <td>9 - nine</td>\n",
              "      <td>9 - nine</td>\n",
              "    </tr>\n",
              "    <tr>\n",
              "      <th>8</th>\n",
              "      <td>1.0822404170746092e-12</td>\n",
              "      <td>9.564182779087105e-11</td>\n",
              "      <td>8.695922454338145e-11</td>\n",
              "      <td>1.919437644850447e-14</td>\n",
              "      <td>0.9999970197677612</td>\n",
              "      <td>2.317841231447293e-11</td>\n",
              "      <td>6.521335554898755e-11</td>\n",
              "      <td>6.385910467088252e-08</td>\n",
              "      <td>7.335282816711697e-07</td>\n",
              "      <td>4 - four</td>\n",
              "      <td>4 - four</td>\n",
              "    </tr>\n",
              "  </tbody>\n",
              "</table>\n",
              "</div>\n",
              "      <button class=\"colab-df-convert\" onclick=\"convertToInteractive('df-3e31082a-a284-4470-85fd-166d3c661374')\"\n",
              "              title=\"Convert this dataframe to an interactive table.\"\n",
              "              style=\"display:none;\">\n",
              "        \n",
              "  <svg xmlns=\"http://www.w3.org/2000/svg\" height=\"24px\"viewBox=\"0 0 24 24\"\n",
              "       width=\"24px\">\n",
              "    <path d=\"M0 0h24v24H0V0z\" fill=\"none\"/>\n",
              "    <path d=\"M18.56 5.44l.94 2.06.94-2.06 2.06-.94-2.06-.94-.94-2.06-.94 2.06-2.06.94zm-11 1L8.5 8.5l.94-2.06 2.06-.94-2.06-.94L8.5 2.5l-.94 2.06-2.06.94zm10 10l.94 2.06.94-2.06 2.06-.94-2.06-.94-.94-2.06-.94 2.06-2.06.94z\"/><path d=\"M17.41 7.96l-1.37-1.37c-.4-.4-.92-.59-1.43-.59-.52 0-1.04.2-1.43.59L10.3 9.45l-7.72 7.72c-.78.78-.78 2.05 0 2.83L4 21.41c.39.39.9.59 1.41.59.51 0 1.02-.2 1.41-.59l7.78-7.78 2.81-2.81c.8-.78.8-2.07 0-2.86zM5.41 20L4 18.59l7.72-7.72 1.47 1.35L5.41 20z\"/>\n",
              "  </svg>\n",
              "      </button>\n",
              "      \n",
              "  <style>\n",
              "    .colab-df-container {\n",
              "      display:flex;\n",
              "      flex-wrap:wrap;\n",
              "      gap: 12px;\n",
              "    }\n",
              "\n",
              "    .colab-df-convert {\n",
              "      background-color: #E8F0FE;\n",
              "      border: none;\n",
              "      border-radius: 50%;\n",
              "      cursor: pointer;\n",
              "      display: none;\n",
              "      fill: #1967D2;\n",
              "      height: 32px;\n",
              "      padding: 0 0 0 0;\n",
              "      width: 32px;\n",
              "    }\n",
              "\n",
              "    .colab-df-convert:hover {\n",
              "      background-color: #E2EBFA;\n",
              "      box-shadow: 0px 1px 2px rgba(60, 64, 67, 0.3), 0px 1px 3px 1px rgba(60, 64, 67, 0.15);\n",
              "      fill: #174EA6;\n",
              "    }\n",
              "\n",
              "    [theme=dark] .colab-df-convert {\n",
              "      background-color: #3B4455;\n",
              "      fill: #D2E3FC;\n",
              "    }\n",
              "\n",
              "    [theme=dark] .colab-df-convert:hover {\n",
              "      background-color: #434B5C;\n",
              "      box-shadow: 0px 1px 3px 1px rgba(0, 0, 0, 0.15);\n",
              "      filter: drop-shadow(0px 1px 2px rgba(0, 0, 0, 0.3));\n",
              "      fill: #FFFFFF;\n",
              "    }\n",
              "  </style>\n",
              "\n",
              "      <script>\n",
              "        const buttonEl =\n",
              "          document.querySelector('#df-3e31082a-a284-4470-85fd-166d3c661374 button.colab-df-convert');\n",
              "        buttonEl.style.display =\n",
              "          google.colab.kernel.accessAllowed ? 'block' : 'none';\n",
              "\n",
              "        async function convertToInteractive(key) {\n",
              "          const element = document.querySelector('#df-3e31082a-a284-4470-85fd-166d3c661374');\n",
              "          const dataTable =\n",
              "            await google.colab.kernel.invokeFunction('convertToInteractive',\n",
              "                                                     [key], {});\n",
              "          if (!dataTable) return;\n",
              "\n",
              "          const docLinkHtml = 'Like what you see? Visit the ' +\n",
              "            '<a target=\"_blank\" href=https://colab.research.google.com/notebooks/data_table.ipynb>data table notebook</a>'\n",
              "            + ' to learn more about interactive tables.';\n",
              "          element.innerHTML = '';\n",
              "          dataTable['output_type'] = 'display_data';\n",
              "          await google.colab.output.renderOutput(dataTable, element);\n",
              "          const docLink = document.createElement('div');\n",
              "          docLink.innerHTML = docLinkHtml;\n",
              "          element.appendChild(docLink);\n",
              "        }\n",
              "      </script>\n",
              "    </div>\n",
              "  </div>\n",
              "  "
            ]
          },
          "metadata": {},
          "execution_count": 60
        }
      ]
    },
    {
      "cell_type": "code",
      "source": [
        "def plot_images_with_labels(model, data_loader, imagelist, labellist):\n",
        "    plt.figure(figsize=(9,9))\n",
        "    result_list = []\n",
        "    for i in range(9):\n",
        "        plt.subplot(3, 3, i+1)\n",
        "        plt.imshow(imagelist[i].squeeze(), cmap='gray')\n",
        "        pred_label_logits = model(imagelist[i].unsqueeze(0))\n",
        "        pred_label_probs = torch.softmax(pred_label_logits, dim=1)\n",
        "        pred_label = data_loader.dataset.classes[torch.argmax(pred_label_logits, dim=1)]\n",
        "        actual_label = data_loader.dataset.classes[labellist[i]]\n",
        "        title = f\"Pred:{pred_label} | Truth:{actual_label}\"\n",
        "        result_list.append({\"Actual\": actual_label, \"Prediction\":pred_label, \"Pred confidence\":torch.max(pred_label_probs).item()*100})\n",
        "        if (pred_label == actual_label):\n",
        "            plt.title(title, c='g')\n",
        "        else:\n",
        "            plt.title(title, c='r')\n",
        "        plt.axis(False)\n",
        "    plt.show()\n",
        "    return result_list\n",
        "imagelist = []\n",
        "labellist = []\n",
        "\n",
        "for image, label in random.sample(list(test_data_loader.dataset), k=9):\n",
        "    imagelist.append(image)\n",
        "    labellist.append(label)\n",
        "\n",
        "result_list = plot_images_with_labels(model=model1.to(\"cpu\"),\n",
        "                        data_loader=train_data_loader,\n",
        "                        imagelist=imagelist,\n",
        "                        labellist=labellist)\n",
        "\n",
        "pd.DataFrame(result_list)"
      ],
      "metadata": {
        "colab": {
          "base_uri": "https://localhost:8080/",
          "height": 850
        },
        "id": "SimIcxo7p9gn",
        "outputId": "b8afd229-4fc3-4d19-abcd-c164b8eeeab4"
      },
      "execution_count": 61,
      "outputs": [
        {
          "output_type": "display_data",
          "data": {
            "text/plain": [
              "<Figure size 648x648 with 9 Axes>"
            ],
            "image/png": "[encoded data removed]"
          },
          "metadata": {
            "needs_background": "light"
          }
        },
        {
          "output_type": "execute_result",
          "data": {
            "text/plain": [
              "      Actual Prediction  Pred confidence\n",
              "0   0 - zero   0 - zero        99.925560\n",
              "1   0 - zero   0 - zero        99.999297\n",
              "2  8 - eight  8 - eight        99.143606\n",
              "3  3 - three  3 - three        46.658725\n",
              "4   0 - zero   0 - zero        99.998879\n",
              "5   0 - zero   0 - zero        99.996698\n",
              "6   4 - four   4 - four        99.999726\n",
              "7    2 - two    2 - two        99.683726\n",
              "8    1 - one    1 - one        99.531144"
            ],
            "text/html": [
              "\n",
              "  <div id=\"df-1c64b4d7-f035-4a3f-8e16-b9f58c2c2e15\">\n",
              "    <div class=\"colab-df-container\">\n",
              "      <div>\n",
              "<style scoped>\n",
              "    .dataframe tbody tr th:only-of-type {\n",
              "        vertical-align: middle;\n",
              "    }\n",
              "\n",
              "    .dataframe tbody tr th {\n",
              "        vertical-align: top;\n",
              "    }\n",
              "\n",
              "    .dataframe thead th {\n",
              "        text-align: right;\n",
              "    }\n",
              "</style>\n",
              "<table border=\"1\" class=\"dataframe\">\n",
              "  <thead>\n",
              "    <tr style=\"text-align: right;\">\n",
              "      <th></th>\n",
              "      <th>Actual</th>\n",
              "      <th>Prediction</th>\n",
              "      <th>Pred confidence</th>\n",
              "    </tr>\n",
              "  </thead>\n",
              "  <tbody>\n",
              "    <tr>\n",
              "      <th>0</th>\n",
              "      <td>0 - zero</td>\n",
              "      <td>0 - zero</td>\n",
              "      <td>99.925560</td>\n",
              "    </tr>\n",
              "    <tr>\n",
              "      <th>1</th>\n",
              "      <td>0 - zero</td>\n",
              "      <td>0 - zero</td>\n",
              "      <td>99.999297</td>\n",
              "    </tr>\n",
              "    <tr>\n",
              "      <th>2</th>\n",
              "      <td>8 - eight</td>\n",
              "      <td>8 - eight</td>\n",
              "      <td>99.143606</td>\n",
              "    </tr>\n",
              "    <tr>\n",
              "      <th>3</th>\n",
              "      <td>3 - three</td>\n",
              "      <td>3 - three</td>\n",
              "      <td>46.658725</td>\n",
              "    </tr>\n",
              "    <tr>\n",
              "      <th>4</th>\n",
              "      <td>0 - zero</td>\n",
              "      <td>0 - zero</td>\n",
              "      <td>99.998879</td>\n",
              "    </tr>\n",
              "    <tr>\n",
              "      <th>5</th>\n",
              "      <td>0 - zero</td>\n",
              "      <td>0 - zero</td>\n",
              "      <td>99.996698</td>\n",
              "    </tr>\n",
              "    <tr>\n",
              "      <th>6</th>\n",
              "      <td>4 - four</td>\n",
              "      <td>4 - four</td>\n",
              "      <td>99.999726</td>\n",
              "    </tr>\n",
              "    <tr>\n",
              "      <th>7</th>\n",
              "      <td>2 - two</td>\n",
              "      <td>2 - two</td>\n",
              "      <td>99.683726</td>\n",
              "    </tr>\n",
              "    <tr>\n",
              "      <th>8</th>\n",
              "      <td>1 - one</td>\n",
              "      <td>1 - one</td>\n",
              "      <td>99.531144</td>\n",
              "    </tr>\n",
              "  </tbody>\n",
              "</table>\n",
              "</div>\n",
              "      <button class=\"colab-df-convert\" onclick=\"convertToInteractive('df-1c64b4d7-f035-4a3f-8e16-b9f58c2c2e15')\"\n",
              "              title=\"Convert this dataframe to an interactive table.\"\n",
              "              style=\"display:none;\">\n",
              "        \n",
              "  <svg xmlns=\"http://www.w3.org/2000/svg\" height=\"24px\"viewBox=\"0 0 24 24\"\n",
              "       width=\"24px\">\n",
              "    <path d=\"M0 0h24v24H0V0z\" fill=\"none\"/>\n",
              "    <path d=\"M18.56 5.44l.94 2.06.94-2.06 2.06-.94-2.06-.94-.94-2.06-.94 2.06-2.06.94zm-11 1L8.5 8.5l.94-2.06 2.06-.94-2.06-.94L8.5 2.5l-.94 2.06-2.06.94zm10 10l.94 2.06.94-2.06 2.06-.94-2.06-.94-.94-2.06-.94 2.06-2.06.94z\"/><path d=\"M17.41 7.96l-1.37-1.37c-.4-.4-.92-.59-1.43-.59-.52 0-1.04.2-1.43.59L10.3 9.45l-7.72 7.72c-.78.78-.78 2.05 0 2.83L4 21.41c.39.39.9.59 1.41.59.51 0 1.02-.2 1.41-.59l7.78-7.78 2.81-2.81c.8-.78.8-2.07 0-2.86zM5.41 20L4 18.59l7.72-7.72 1.47 1.35L5.41 20z\"/>\n",
              "  </svg>\n",
              "      </button>\n",
              "      \n",
              "  <style>\n",
              "    .colab-df-container {\n",
              "      display:flex;\n",
              "      flex-wrap:wrap;\n",
              "      gap: 12px;\n",
              "    }\n",
              "\n",
              "    .colab-df-convert {\n",
              "      background-color: #E8F0FE;\n",
              "      border: none;\n",
              "      border-radius: 50%;\n",
              "      cursor: pointer;\n",
              "      display: none;\n",
              "      fill: #1967D2;\n",
              "      height: 32px;\n",
              "      padding: 0 0 0 0;\n",
              "      width: 32px;\n",
              "    }\n",
              "\n",
              "    .colab-df-convert:hover {\n",
              "      background-color: #E2EBFA;\n",
              "      box-shadow: 0px 1px 2px rgba(60, 64, 67, 0.3), 0px 1px 3px 1px rgba(60, 64, 67, 0.15);\n",
              "      fill: #174EA6;\n",
              "    }\n",
              "\n",
              "    [theme=dark] .colab-df-convert {\n",
              "      background-color: #3B4455;\n",
              "      fill: #D2E3FC;\n",
              "    }\n",
              "\n",
              "    [theme=dark] .colab-df-convert:hover {\n",
              "      background-color: #434B5C;\n",
              "      box-shadow: 0px 1px 3px 1px rgba(0, 0, 0, 0.15);\n",
              "      filter: drop-shadow(0px 1px 2px rgba(0, 0, 0, 0.3));\n",
              "      fill: #FFFFFF;\n",
              "    }\n",
              "  </style>\n",
              "\n",
              "      <script>\n",
              "        const buttonEl =\n",
              "          document.querySelector('#df-1c64b4d7-f035-4a3f-8e16-b9f58c2c2e15 button.colab-df-convert');\n",
              "        buttonEl.style.display =\n",
              "          google.colab.kernel.accessAllowed ? 'block' : 'none';\n",
              "\n",
              "        async function convertToInteractive(key) {\n",
              "          const element = document.querySelector('#df-1c64b4d7-f035-4a3f-8e16-b9f58c2c2e15');\n",
              "          const dataTable =\n",
              "            await google.colab.kernel.invokeFunction('convertToInteractive',\n",
              "                                                     [key], {});\n",
              "          if (!dataTable) return;\n",
              "\n",
              "          const docLinkHtml = 'Like what you see? Visit the ' +\n",
              "            '<a target=\"_blank\" href=https://colab.research.google.com/notebooks/data_table.ipynb>data table notebook</a>'\n",
              "            + ' to learn more about interactive tables.';\n",
              "          element.innerHTML = '';\n",
              "          dataTable['output_type'] = 'display_data';\n",
              "          await google.colab.output.renderOutput(dataTable, element);\n",
              "          const docLink = document.createElement('div');\n",
              "          docLink.innerHTML = docLinkHtml;\n",
              "          element.appendChild(docLink);\n",
              "        }\n",
              "      </script>\n",
              "    </div>\n",
              "  </div>\n",
              "  "
            ]
          },
          "metadata": {},
          "execution_count": 61
        }
      ]
    },
    {
      "cell_type": "markdown",
      "source": [
        "## Saving and loading the model"
      ],
      "metadata": {
        "id": "HCpylgFM8YX-"
      }
    },
    {
      "cell_type": "code",
      "source": [
        "MODEL_PATH = Path(\"data\")\n",
        "MODEL_PATH.mkdir(parents=True,\n",
        "                 exist_ok=True)\n",
        "MODEL_NAME = \"MNISTModel1.pth\"\n",
        "FULL_PATH = MODEL_PATH / MODEL_NAME\n",
        "print(\"Model saved at path: \", FULL_PATH)\n",
        "torch.save(obj=model1.state_dict(),\n",
        "           f=FULL_PATH)"
      ],
      "metadata": {
        "colab": {
          "base_uri": "https://localhost:8080/"
        },
        "id": "w-YWuBdZ8cBw",
        "outputId": "27568d65-a59a-41d4-fbd5-6cf0432121f0"
      },
      "execution_count": 64,
      "outputs": [
        {
          "output_type": "stream",
          "name": "stdout",
          "text": [
            "Model saved at path:  data/MNISTModel1.pth\n"
          ]
        }
      ]
    },
    {
      "cell_type": "code",
      "source": [
        "model2 = MNISTModel1(n_input_channels=1,\n",
        "                     n_neurons_per_hidden_layer=10,\n",
        "                     n_output_classes=10)\n",
        "model2.load_state_dict(state_dict=torch.load(f=FULL_PATH))\n",
        "model2.state_dict()"
      ],
      "metadata": {
        "colab": {
          "base_uri": "https://localhost:8080/"
        },
        "id": "3v3R6cuU9P2y",
        "outputId": "8f5df07a-be81-46da-fbc4-a5ed13046002"
      },
      "execution_count": 66,
      "outputs": [
        {
          "output_type": "execute_result",
          "data": {
            "text/plain": [
              "OrderedDict([('convbatch1.0.weight', tensor([[[[-0.3779, -0.4957,  0.2443],\n",
              "                        [-0.3667, -0.4462,  0.4842],\n",
              "                        [-0.2033, -0.5770, -0.2876]]],\n",
              "              \n",
              "              \n",
              "                      [[[-0.0925, -0.1952, -0.2495],\n",
              "                        [-0.3390, -0.2857, -0.2172],\n",
              "                        [-0.0263, -0.2613,  0.5373]]],\n",
              "              \n",
              "              \n",
              "                      [[[-0.2263,  0.4395,  0.6284],\n",
              "                        [-0.6832,  0.3940,  0.2989],\n",
              "                        [-0.1719, -0.1026, -0.3162]]],\n",
              "              \n",
              "              \n",
              "                      [[[ 0.3288,  0.0562, -0.5756],\n",
              "                        [-0.1085, -0.3960, -0.1871],\n",
              "                        [ 0.1406, -0.1908, -0.4594]]],\n",
              "              \n",
              "              \n",
              "                      [[[-0.1956, -0.1464, -0.2248],\n",
              "                        [ 0.0269,  0.0931,  0.0614],\n",
              "                        [-0.1717,  0.0865, -0.0632]]],\n",
              "              \n",
              "              \n",
              "                      [[[-0.2780, -0.4497,  0.0394],\n",
              "                        [-0.2284, -0.3280,  0.0187],\n",
              "                        [ 0.6696,  0.5475, -0.0393]]],\n",
              "              \n",
              "              \n",
              "                      [[[ 0.6007,  0.6155, -0.2893],\n",
              "                        [ 0.3401,  0.0612, -0.0582],\n",
              "                        [-0.1477, -0.5098,  0.1674]]],\n",
              "              \n",
              "              \n",
              "                      [[[-0.3543, -0.5632,  0.1030],\n",
              "                        [-0.3005, -0.1675,  0.3459],\n",
              "                        [-0.5691, -0.2317,  0.6338]]],\n",
              "              \n",
              "              \n",
              "                      [[[-0.7326, -0.5903, -0.2809],\n",
              "                        [-0.4209, -0.1625,  0.1151],\n",
              "                        [ 0.1532,  0.4258,  0.6331]]],\n",
              "              \n",
              "              \n",
              "                      [[[ 0.3616,  0.2259,  0.4990],\n",
              "                        [-0.4858,  0.1674, -0.3155],\n",
              "                        [-0.3947, -0.5374, -0.8319]]]], device='cuda:0')),\n",
              "             ('convbatch1.0.bias',\n",
              "              tensor([ 0.3998,  0.1684, -0.0563,  0.2765, -0.3187, -0.0175, -0.1578,  0.1261,\n",
              "                       0.1534,  0.1077], device='cuda:0')),\n",
              "             ('convbatch1.2.weight',\n",
              "              tensor([[[[-2.0844e-01,  4.3775e-02,  5.5588e-02],\n",
              "                        [-5.9330e-02,  3.8808e-02,  4.8082e-02],\n",
              "                        [ 9.8820e-04,  9.2015e-02,  7.5943e-02]],\n",
              "              \n",
              "                       [[-1.5912e-02, -7.5049e-02,  4.4093e-02],\n",
              "                        [ 1.6172e-02, -5.8123e-02,  9.6228e-02],\n",
              "                        [-1.0355e-03,  5.5342e-02,  5.4778e-02]],\n",
              "              \n",
              "                       [[-2.2506e-01, -1.9506e-01, -1.0400e-01],\n",
              "                        [-1.7724e-01, -7.7716e-02, -1.8221e-01],\n",
              "                        [-2.0558e-01, -8.4434e-02, -1.8016e-01]],\n",
              "              \n",
              "                       [[ 2.4839e-02,  1.4699e-01,  1.2376e-01],\n",
              "                        [ 3.8901e-02,  5.5392e-02,  1.3247e-01],\n",
              "                        [-3.0453e-02,  1.1311e-02,  1.3366e-01]],\n",
              "              \n",
              "                       [[ 9.1837e-02, -6.9702e-02, -6.6869e-02],\n",
              "                        [ 6.5679e-03, -4.3982e-02, -9.9338e-02],\n",
              "                        [-1.6284e-02, -4.1086e-03, -8.3749e-02]],\n",
              "              \n",
              "                       [[-9.3331e-02, -6.9131e-02, -7.3905e-02],\n",
              "                        [-4.6217e-02, -7.5255e-02, -2.2981e-02],\n",
              "                        [-2.5562e-02, -2.2320e-02, -2.3474e-02]],\n",
              "              \n",
              "                       [[ 4.7089e-01,  6.7128e-02, -3.0745e-01],\n",
              "                        [ 2.5943e-01, -1.0503e-01, -2.1067e-01],\n",
              "                        [-1.3690e-01, -2.1196e-01, -1.1060e-01]],\n",
              "              \n",
              "                       [[-7.4927e-02, -1.1762e-01, -2.5854e-02],\n",
              "                        [ 6.4806e-03, -2.0481e-02, -2.0672e-01],\n",
              "                        [-1.0964e-01, -6.1308e-02, -1.2532e-01]],\n",
              "              \n",
              "                       [[-1.4311e-01, -1.9199e-01,  7.8639e-03],\n",
              "                        [-2.4237e-01, -9.5879e-02, -1.8151e-02],\n",
              "                        [-1.5544e-01, -5.4457e-02, -1.5656e-01]],\n",
              "              \n",
              "                       [[-1.2547e-01,  1.2717e-02,  2.7215e-02],\n",
              "                        [ 9.1462e-02,  5.1563e-03,  7.2030e-02],\n",
              "                        [ 1.8865e-01,  3.5874e-02, -1.0976e-02]]],\n",
              "              \n",
              "              \n",
              "                      [[[-8.3884e-02, -9.6091e-02, -9.3319e-02],\n",
              "                        [-2.5992e-01, -1.2021e-01, -2.0835e-01],\n",
              "                        [ 7.1740e-04, -5.4658e-02, -1.0066e-01]],\n",
              "              \n",
              "                       [[-2.2837e-02,  9.3717e-02,  5.7232e-02],\n",
              "                        [-1.8545e-01,  8.7333e-03,  2.0054e-02],\n",
              "                        [-7.1486e-02,  1.8924e-02, -8.5209e-02]],\n",
              "              \n",
              "                       [[-3.6218e-01, -1.7852e-01,  2.7198e-01],\n",
              "                        [-3.2072e-03, -1.5113e-01,  7.1380e-02],\n",
              "                        [ 1.8467e-01, -4.2623e-03, -1.4297e-01]],\n",
              "              \n",
              "                       [[ 1.0914e-02, -8.3177e-02, -1.5690e-01],\n",
              "                        [-3.5195e-02, -1.3473e-01, -3.2288e-01],\n",
              "                        [-2.6490e-02, -1.7927e-01, -2.2194e-02]],\n",
              "              \n",
              "                       [[ 5.3587e-03, -8.5963e-02,  1.0090e-01],\n",
              "                        [-2.8671e-02,  2.0588e-02, -1.0249e-01],\n",
              "                        [-9.8287e-02,  9.9464e-02,  7.9216e-04]],\n",
              "              \n",
              "                       [[-7.8555e-02,  1.2151e-01,  1.1083e-01],\n",
              "                        [ 1.1007e-01,  6.8794e-02,  4.9718e-02],\n",
              "                        [-1.3930e-01, -1.9530e-01, -4.5681e-02]],\n",
              "              \n",
              "                       [[ 1.8814e-01, -4.9091e-01, -4.8072e-01],\n",
              "                        [ 2.3688e-01, -3.3332e-01,  7.4436e-03],\n",
              "                        [ 2.1851e-02,  7.6138e-02,  2.4671e-01]],\n",
              "              \n",
              "                       [[-1.2252e-01, -1.0387e-01,  9.4873e-02],\n",
              "                        [-2.5246e-01, -2.9289e-01,  1.8555e-02],\n",
              "                        [-8.6826e-02, -9.2207e-02, -6.6514e-02]],\n",
              "              \n",
              "                       [[-4.1425e-01,  2.5513e-01,  3.2501e-01],\n",
              "                        [-2.9025e-01,  4.8865e-02, -1.4660e-02],\n",
              "                        [-3.7398e-01, -1.5923e-01, -2.4330e-01]],\n",
              "              \n",
              "                       [[-2.0819e-01, -1.6034e-01, -3.0486e-02],\n",
              "                        [-1.3475e-01,  6.4942e-02, -1.4401e-02],\n",
              "                        [-7.0292e-02,  8.1209e-03, -2.0508e-02]]],\n",
              "              \n",
              "              \n",
              "                      [[[-1.6620e-01,  6.6425e-02, -3.6580e-02],\n",
              "                        [ 1.5251e-01,  3.6556e-02, -7.4153e-02],\n",
              "                        [ 2.0572e-01, -2.6543e-02, -2.4908e-02]],\n",
              "              \n",
              "                       [[-3.0939e-02, -2.1384e-01, -2.3674e-01],\n",
              "                        [ 5.4520e-03,  7.0012e-02, -1.2539e-01],\n",
              "                        [ 1.7327e-01,  1.3686e-01, -2.0232e-02]],\n",
              "              \n",
              "                       [[ 6.2793e-03,  2.6593e-01,  1.4701e-01],\n",
              "                        [ 4.5326e-02, -7.1634e-02,  1.4030e-01],\n",
              "                        [-2.6798e-01, -3.3004e-01, -1.7860e-01]],\n",
              "              \n",
              "                       [[ 7.4405e-03, -2.0474e-01, -3.9013e-01],\n",
              "                        [ 5.4183e-02, -1.3257e-01, -1.6911e-01],\n",
              "                        [ 2.2164e-02, -1.1879e-01, -9.2586e-02]],\n",
              "              \n",
              "                       [[ 9.2424e-02,  9.5520e-02,  1.0385e-01],\n",
              "                        [ 8.1474e-02, -5.7084e-02, -6.3450e-02],\n",
              "                        [ 2.8697e-02, -9.1474e-02,  9.7884e-02]],\n",
              "              \n",
              "                       [[-1.1709e-01, -1.0727e-01,  2.0578e-02],\n",
              "                        [-7.1253e-02, -5.3347e-02, -1.1525e-01],\n",
              "                        [-2.6671e-01, -9.7484e-02,  5.8411e-02]],\n",
              "              \n",
              "                       [[ 6.1301e-02,  2.0499e-01,  4.3076e-01],\n",
              "                        [-3.2824e-01, -6.8979e-02,  1.6810e-01],\n",
              "                        [-5.4886e-01, -2.6034e-01, -3.4568e-01]],\n",
              "              \n",
              "                       [[-2.4206e-01, -7.2127e-02, -4.6452e-02],\n",
              "                        [-5.6160e-02,  3.3658e-02, -8.2491e-02],\n",
              "                        [ 2.2848e-01,  1.3751e-01,  7.6391e-02]],\n",
              "              \n",
              "                       [[-3.0861e-01, -4.0559e-01, -2.6773e-01],\n",
              "                        [-1.6579e-01, -1.4330e-01, -2.2357e-01],\n",
              "                        [ 1.2384e-01,  2.2437e-01,  1.0880e-01]],\n",
              "              \n",
              "                       [[ 1.1832e-01, -5.1873e-03,  4.9259e-03],\n",
              "                        [-1.6624e-02,  9.7202e-02,  1.0250e-01],\n",
              "                        [-7.9176e-02, -1.0656e-02, -1.0715e-01]]],\n",
              "              \n",
              "              \n",
              "                      [[[-1.4129e-01, -8.8491e-02,  2.5486e-02],\n",
              "                        [-8.6248e-02,  1.1240e-02,  2.9857e-01],\n",
              "                        [-1.7838e-01,  2.6043e-02,  3.8465e-01]],\n",
              "              \n",
              "                       [[-8.0025e-02,  2.0406e-02,  2.1324e-01],\n",
              "                        [-1.3397e-01, -1.2932e-01,  2.1237e-01],\n",
              "                        [-1.7161e-01, -8.0800e-02,  2.3649e-02]],\n",
              "              \n",
              "                       [[ 1.0217e-01, -3.1330e-01, -2.9099e-01],\n",
              "                        [-1.1070e-01, -2.2987e-01, -1.5513e-01],\n",
              "                        [-6.9720e-02, -2.5081e-01,  1.9996e-02]],\n",
              "              \n",
              "                       [[-8.7616e-02,  5.0038e-02, -1.3016e-01],\n",
              "                        [ 4.6218e-02,  2.0005e-01, -4.0392e-02],\n",
              "                        [ 1.7280e-01,  1.9387e-01, -1.6142e-01]],\n",
              "              \n",
              "                       [[ 9.5864e-02, -7.6879e-02, -3.3163e-02],\n",
              "                        [ 6.6552e-02, -5.2460e-02, -1.1272e-04],\n",
              "                        [ 5.5515e-02,  7.5876e-02,  8.9651e-02]],\n",
              "              \n",
              "                       [[-8.1095e-02, -1.7931e-01, -1.8006e-01],\n",
              "                        [-6.0472e-02, -9.2234e-02, -2.3356e-01],\n",
              "                        [-9.8895e-02, -4.1327e-02, -9.1604e-02]],\n",
              "              \n",
              "                       [[-4.7163e-02, -7.0496e-02, -2.5040e-01],\n",
              "                        [ 1.7578e-01, -6.9270e-02, -2.0712e-01],\n",
              "                        [ 2.2578e-01, -4.4099e-02, -7.7304e-02]],\n",
              "              \n",
              "                       [[-4.6492e-02,  9.3720e-02,  2.1227e-01],\n",
              "                        [-9.1562e-02,  6.5059e-02,  2.9072e-01],\n",
              "                        [-2.3870e-01, -3.5830e-02,  2.9060e-01]],\n",
              "              \n",
              "                       [[-2.4586e-01, -2.6762e-02,  1.3916e-01],\n",
              "                        [-2.6660e-01, -2.4461e-01,  2.3275e-01],\n",
              "                        [-3.2699e-01, -1.7036e-01,  1.5213e-01]],\n",
              "              \n",
              "                       [[-4.3489e-02, -1.0939e-01,  1.2898e-03],\n",
              "                        [-1.7744e-01, -6.0922e-02, -1.4518e-01],\n",
              "                        [ 1.4565e-02,  1.3125e-01, -8.0475e-02]]],\n",
              "              \n",
              "              \n",
              "                      [[[ 4.5121e-01,  4.3470e-01,  2.6550e-01],\n",
              "                        [ 7.1433e-02,  2.2167e-01,  1.2039e-01],\n",
              "                        [-3.4427e-01, -1.5051e-01, -9.5370e-02]],\n",
              "              \n",
              "                       [[ 4.0649e-02,  3.7237e-02, -1.5681e-01],\n",
              "                        [ 2.2150e-02, -1.1185e-01, -7.3610e-02],\n",
              "                        [-6.7636e-02, -9.6375e-02, -4.9614e-02]],\n",
              "              \n",
              "                       [[-1.7828e-01,  1.5171e-01,  3.3395e-01],\n",
              "                        [-2.1811e-01,  1.3808e-01,  1.2426e-01],\n",
              "                        [-2.2360e-01, -2.6659e-01, -1.5724e-01]],\n",
              "              \n",
              "                       [[ 1.4252e-01,  3.5640e-02, -3.4784e-02],\n",
              "                        [ 3.4325e-02, -6.6856e-03,  1.8651e-01],\n",
              "                        [-1.8575e-01,  8.9547e-02,  1.5516e-01]],\n",
              "              \n",
              "                       [[-8.0871e-02,  7.5760e-03,  4.7100e-02],\n",
              "                        [-8.1747e-02,  6.1419e-02,  4.0867e-02],\n",
              "                        [-1.4317e-02,  1.0279e-01, -8.7995e-02]],\n",
              "              \n",
              "                       [[ 8.6656e-02, -8.5413e-02, -5.0666e-02],\n",
              "                        [ 2.1052e-01,  6.4951e-03, -3.7226e-02],\n",
              "                        [ 1.4361e-01,  3.3594e-01,  8.0063e-02]],\n",
              "              \n",
              "                       [[-5.9082e-01, -2.4957e-01,  1.9011e-01],\n",
              "                        [-3.6361e-01, -3.3145e-01, -4.8593e-03],\n",
              "                        [-1.9530e-01, -2.2355e-01, -4.1194e-01]],\n",
              "              \n",
              "                       [[ 1.5585e-01,  2.4428e-01,  2.5345e-01],\n",
              "                        [-2.6156e-01, -1.9479e-01, -7.3331e-02],\n",
              "                        [-1.0178e-01, -5.1446e-02, -1.9528e-01]],\n",
              "              \n",
              "                       [[ 8.9707e-02, -2.3141e-01, -1.2982e-01],\n",
              "                        [ 1.2831e-01, -2.9308e-01, -3.7632e-01],\n",
              "                        [ 1.6199e-01,  1.1934e-02, -3.4242e-02]],\n",
              "              \n",
              "                       [[-9.0694e-02, -1.4811e-02,  2.2310e-01],\n",
              "                        [-7.3060e-02,  8.7846e-02,  2.6411e-01],\n",
              "                        [-2.4330e-01, -3.6743e-02,  6.8059e-03]]],\n",
              "              \n",
              "              \n",
              "                      [[[-1.7415e-01,  2.1885e-02,  3.5822e-02],\n",
              "                        [-9.0545e-02, -5.5997e-02, -1.0053e-01],\n",
              "                        [ 4.2356e-02, -1.1757e-01, -1.6542e-01]],\n",
              "              \n",
              "                       [[-1.1909e-01, -1.0298e-01,  8.1722e-02],\n",
              "                        [-1.0468e-01, -1.1547e-01,  6.6081e-02],\n",
              "                        [-2.1286e-01, -8.6351e-02,  1.3559e-01]],\n",
              "              \n",
              "                       [[ 2.2459e-01, -2.6177e-01, -1.5334e-01],\n",
              "                        [ 2.7873e-02, -2.9145e-01, -4.5049e-02],\n",
              "                        [ 2.5640e-01,  7.7916e-02,  1.7741e-02]],\n",
              "              \n",
              "                       [[ 9.4409e-02,  3.2971e-02,  2.3203e-01],\n",
              "                        [-1.4031e-01,  9.2716e-02,  3.8291e-02],\n",
              "                        [-2.7629e-01, -3.1800e-01, -2.8895e-01]],\n",
              "              \n",
              "                       [[-2.3314e-02,  3.9961e-02, -4.2473e-02],\n",
              "                        [-8.7287e-03,  9.1063e-02,  4.9656e-02],\n",
              "                        [ 3.5864e-02,  5.2326e-02,  4.2647e-02]],\n",
              "              \n",
              "                       [[-2.2335e-01, -9.3483e-02,  1.1647e-01],\n",
              "                        [-2.1195e-01,  1.0486e-01,  4.1332e-01],\n",
              "                        [ 2.9324e-02,  1.2023e-01,  3.1653e-01]],\n",
              "              \n",
              "                       [[-1.1684e-01,  1.5265e-01, -1.7200e-01],\n",
              "                        [ 2.1376e-01, -1.1124e-01, -4.8228e-01],\n",
              "                        [ 2.3311e-01, -7.0899e-02, -1.0784e-01]],\n",
              "              \n",
              "                       [[-2.5497e-02,  6.5041e-02,  1.3837e-01],\n",
              "                        [ 2.3711e-02, -1.5340e-01, -3.1989e-02],\n",
              "                        [-1.5210e-01, -2.3651e-01, -1.4352e-01]],\n",
              "              \n",
              "                       [[-5.0933e-01, -1.2630e-01,  1.2733e-01],\n",
              "                        [-3.7403e-01, -1.6096e-01,  1.9936e-01],\n",
              "                        [-4.0782e-01, -2.6089e-01,  2.4442e-01]],\n",
              "              \n",
              "                       [[-1.5184e-01,  7.4353e-02,  9.8136e-02],\n",
              "                        [-1.7064e-01, -8.3167e-03, -8.6859e-02],\n",
              "                        [ 4.1580e-02, -2.7316e-02, -9.6069e-02]]],\n",
              "              \n",
              "              \n",
              "                      [[[-5.2517e-02, -1.4091e-01, -2.3248e-01],\n",
              "                        [-7.5077e-02, -1.3219e-01, -3.6483e-02],\n",
              "                        [ 3.3560e-01,  7.3242e-02,  2.6413e-01]],\n",
              "              \n",
              "                       [[-1.7666e-01, -6.2407e-02, -1.2516e-01],\n",
              "                        [-3.5625e-02, -6.1226e-02, -2.2436e-02],\n",
              "                        [-1.3091e-01,  3.7332e-02,  1.5442e-01]],\n",
              "              \n",
              "                       [[-5.0494e-02,  1.8055e-02,  7.3408e-02],\n",
              "                        [ 2.1605e-01,  1.2340e-01, -3.1833e-01],\n",
              "                        [-8.0764e-02, -9.5414e-02, -2.1589e-01]],\n",
              "              \n",
              "                       [[-1.9504e-01, -2.0402e-01, -5.3688e-02],\n",
              "                        [-1.4719e-02,  1.4103e-01,  2.9250e-01],\n",
              "                        [ 7.1342e-02,  1.9848e-01,  1.6141e-01]],\n",
              "              \n",
              "                       [[-7.6362e-02, -2.6692e-02, -3.2212e-02],\n",
              "                        [ 2.7915e-02,  5.8309e-02, -6.2734e-02],\n",
              "                        [ 1.2594e-02, -2.3445e-02, -2.8851e-02]],\n",
              "              \n",
              "                       [[ 5.9785e-02, -1.2591e-02,  1.2948e-02],\n",
              "                        [-3.4955e-02, -1.2157e-01,  3.7809e-02],\n",
              "                        [ 5.3939e-02, -1.9037e-01, -2.8062e-01]],\n",
              "              \n",
              "                       [[ 1.7901e-01, -9.5977e-02,  1.1954e-01],\n",
              "                        [-6.1521e-02,  5.7534e-02, -1.1435e-01],\n",
              "                        [-4.8628e-01, -2.5232e-01, -3.0524e-01]],\n",
              "              \n",
              "                       [[ 3.5726e-02, -5.6274e-02, -1.2015e-01],\n",
              "                        [-4.6786e-02, -1.5483e-01, -2.2629e-01],\n",
              "                        [ 1.1856e-01, -7.6258e-02,  9.7953e-02]],\n",
              "              \n",
              "                       [[-6.3705e-02, -2.1318e-01, -2.0650e-01],\n",
              "                        [-1.3472e-01, -2.7778e-02, -6.6098e-02],\n",
              "                        [ 2.8949e-03, -5.5439e-02, -4.2097e-02]],\n",
              "              \n",
              "                       [[ 9.6174e-02, -1.4351e-05,  2.6291e-01],\n",
              "                        [ 1.7899e-01,  1.2193e-01,  7.2438e-02],\n",
              "                        [-1.1261e-01,  1.2607e-02, -1.5101e-01]]],\n",
              "              \n",
              "              \n",
              "                      [[[ 1.2741e-01, -1.2424e-01,  9.5416e-03],\n",
              "                        [-1.2387e-01, -1.4792e-01, -1.7160e-01],\n",
              "                        [ 2.8965e-02,  1.2680e-01,  1.4754e-01]],\n",
              "              \n",
              "                       [[ 1.6677e-01,  7.5383e-02,  2.8676e-01],\n",
              "                        [ 2.6940e-02,  6.6622e-02,  6.1912e-02],\n",
              "                        [-2.0475e-01, -1.1215e-01, -3.2067e-02]],\n",
              "              \n",
              "                       [[ 2.4483e-02, -2.6305e-01, -5.7876e-01],\n",
              "                        [-5.5838e-02, -2.3902e-01, -3.2245e-01],\n",
              "                        [-8.0708e-02,  5.9751e-02,  2.1926e-01]],\n",
              "              \n",
              "                       [[ 6.6875e-02,  2.6432e-02, -8.0059e-03],\n",
              "                        [-2.6530e-02,  6.8560e-02, -1.5072e-01],\n",
              "                        [-1.0077e-01, -1.5247e-02, -1.4626e-01]],\n",
              "              \n",
              "                       [[ 8.0542e-02,  6.7937e-02, -1.1559e-02],\n",
              "                        [-8.2874e-02,  7.6381e-02, -1.6592e-02],\n",
              "                        [ 8.2873e-02,  5.7712e-02,  1.0305e-01]],\n",
              "              \n",
              "                       [[-1.5637e-01, -1.4530e-01, -4.3516e-02],\n",
              "                        [ 9.5936e-02,  3.2609e-02,  6.5424e-02],\n",
              "                        [ 3.6854e-02, -1.6584e-01, -2.1068e-01]],\n",
              "              \n",
              "                       [[-3.6552e-01, -1.5772e-01, -1.7124e-01],\n",
              "                        [-2.9709e-01, -1.9706e-01, -6.5260e-02],\n",
              "                        [-4.3605e-01, -2.9298e-03,  7.7078e-02]],\n",
              "              \n",
              "                       [[ 1.5832e-01, -1.4458e-02, -8.7025e-02],\n",
              "                        [ 5.3433e-02,  3.7933e-02,  5.2244e-02],\n",
              "                        [-1.6527e-01, -1.9831e-01, -1.5756e-01]],\n",
              "              \n",
              "                       [[ 7.9687e-03, -1.7692e-02,  2.2896e-01],\n",
              "                        [ 3.1027e-01,  1.4362e-01,  2.0159e-01],\n",
              "                        [-2.1136e-01, -2.9015e-01, -3.4827e-01]],\n",
              "              \n",
              "                       [[ 6.0556e-02, -3.2598e-02, -4.2438e-02],\n",
              "                        [-5.8601e-02, -7.9401e-02,  1.7257e-02],\n",
              "                        [ 4.3098e-02,  3.4081e-02,  2.1293e-01]]],\n",
              "              \n",
              "              \n",
              "                      [[[ 1.0764e-01, -1.6156e-01, -2.3858e-02],\n",
              "                        [-5.2848e-02,  1.2659e-02, -6.0358e-02],\n",
              "                        [-1.0473e-01, -1.8208e-01, -2.0369e-01]],\n",
              "              \n",
              "                       [[-1.0125e-01,  1.0553e-01,  5.5610e-02],\n",
              "                        [ 1.0148e-01,  1.3869e-01, -1.2258e-01],\n",
              "                        [ 2.1864e-01, -9.9617e-02, -1.3619e-01]],\n",
              "              \n",
              "                       [[-9.1209e-02, -1.8540e-01, -2.8655e-01],\n",
              "                        [-7.6471e-02, -1.3169e-01, -6.9793e-02],\n",
              "                        [-6.9181e-02, -8.2511e-02,  2.5637e-01]],\n",
              "              \n",
              "                       [[ 2.3862e-02,  1.2470e-02, -1.6576e-01],\n",
              "                        [-1.0270e-01, -4.1754e-02, -7.5139e-02],\n",
              "                        [-1.6374e-01, -1.2374e-01, -1.2919e-01]],\n",
              "              \n",
              "                       [[ 9.1155e-02, -1.0359e-01, -4.5768e-02],\n",
              "                        [-1.5921e-02,  8.1270e-03, -3.2460e-02],\n",
              "                        [ 7.8946e-03, -1.0067e-01,  1.0181e-01]],\n",
              "              \n",
              "                       [[-9.0544e-02, -1.0903e-01,  3.8395e-02],\n",
              "                        [-7.2572e-02, -2.0151e-01,  3.0543e-02],\n",
              "                        [-1.6564e-01,  1.4798e-01,  1.4097e-01]],\n",
              "              \n",
              "                       [[-2.4532e-01, -1.0348e-01, -3.9676e-03],\n",
              "                        [-1.8354e-01, -9.7100e-02, -5.2432e-02],\n",
              "                        [-1.1002e-01, -1.5947e-03, -1.5021e-01]],\n",
              "              \n",
              "                       [[-4.8407e-02, -7.9668e-03,  2.6414e-01],\n",
              "                        [ 8.4521e-02,  1.4070e-01,  2.3265e-01],\n",
              "                        [ 2.8252e-01,  1.1897e-01, -1.7985e-01]],\n",
              "              \n",
              "                       [[-4.9996e-02,  8.0187e-02,  1.8789e-01],\n",
              "                        [-1.5458e-01,  8.2197e-02,  9.9797e-03],\n",
              "                        [ 3.4757e-02,  1.0980e-01, -1.4752e-01]],\n",
              "              \n",
              "                       [[-8.0129e-02, -2.9549e-02, -1.5542e-02],\n",
              "                        [-1.8445e-02, -1.0330e-01, -3.2582e-02],\n",
              "                        [-9.2392e-02,  2.3453e-02, -3.9258e-02]]],\n",
              "              \n",
              "              \n",
              "                      [[[ 1.6423e-01, -1.8744e-01, -1.9575e-01],\n",
              "                        [ 1.8367e-01,  1.3022e-02, -1.4271e-01],\n",
              "                        [ 1.9977e-01, -5.4834e-02, -1.9013e-01]],\n",
              "              \n",
              "                       [[-1.4852e-01, -5.8561e-02, -6.6974e-02],\n",
              "                        [-5.3211e-02, -6.3485e-02, -5.1707e-02],\n",
              "                        [-4.5866e-02, -1.4837e-01,  1.2558e-02]],\n",
              "              \n",
              "                       [[ 3.9925e-01,  1.8125e-01, -3.0024e-01],\n",
              "                        [-3.8827e-03,  4.5047e-02, -4.4668e-01],\n",
              "                        [-4.4437e-02,  1.1382e-01, -1.2611e-01]],\n",
              "              \n",
              "                       [[-1.1782e-01, -7.5375e-02,  2.8925e-01],\n",
              "                        [-1.6613e-01, -1.9318e-01,  2.8867e-02],\n",
              "                        [-2.1581e-01, -1.5330e-01, -1.7823e-01]],\n",
              "              \n",
              "                       [[ 1.8168e-02, -8.0954e-02,  7.0875e-02],\n",
              "                        [-9.8284e-02, -3.9890e-02, -7.1969e-02],\n",
              "                        [-6.1190e-02,  2.9416e-02,  9.5207e-02]],\n",
              "              \n",
              "                       [[-7.0999e-03, -1.3761e-01, -6.6269e-02],\n",
              "                        [-2.3437e-02, -1.3043e-01, -1.2755e-02],\n",
              "                        [-1.0602e-01, -1.2911e-01, -8.8609e-02]],\n",
              "              \n",
              "                       [[ 9.4335e-03,  1.7014e-01, -1.1976e-01],\n",
              "                        [-2.3074e-01,  1.7343e-01, -7.4682e-03],\n",
              "                        [-7.3366e-02,  1.1117e-01,  1.2392e-01]],\n",
              "              \n",
              "                       [[ 8.2274e-02, -2.1006e-01,  6.1276e-02],\n",
              "                        [ 8.4150e-02, -9.2313e-02, -4.3011e-02],\n",
              "                        [ 6.2172e-02,  3.5679e-02, -2.0932e-02]],\n",
              "              \n",
              "                       [[ 7.0878e-02, -4.4148e-01, -4.3267e-01],\n",
              "                        [ 3.3300e-02, -1.8700e-01, -2.3371e-01],\n",
              "                        [ 1.4623e-01, -2.4910e-01, -1.0518e-01]],\n",
              "              \n",
              "                       [[-2.3283e-01, -2.9491e-01, -1.7132e-02],\n",
              "                        [-3.7645e-01, -3.8651e-01, -1.1191e-01],\n",
              "                        [-4.0842e-01, -4.1428e-01, -3.2003e-01]]]], device='cuda:0')),\n",
              "             ('convbatch1.2.bias',\n",
              "              tensor([-0.1599,  0.1922, -0.0969, -0.0538, -0.1039,  0.1408, -0.1247, -0.1758,\n",
              "                      -0.2520,  0.1600], device='cuda:0')),\n",
              "             ('nnlayer1.1.weight',\n",
              "              tensor([[ 0.0027, -0.0155,  0.0063,  ..., -0.0013, -0.0074,  0.0056],\n",
              "                      [ 0.0036, -0.0073,  0.0133,  ...,  0.0021, -0.0086, -0.0024],\n",
              "                      [ 0.0122,  0.0070,  0.0088,  ..., -0.0121, -0.0080, -0.0036],\n",
              "                      ...,\n",
              "                      [-0.0136, -0.0132, -0.0058,  ...,  0.0056, -0.0117, -0.0019],\n",
              "                      [ 0.0109, -0.0064,  0.0154,  ..., -0.0065, -0.0038, -0.0027],\n",
              "                      [-0.0126, -0.0034,  0.0072,  ...,  0.0143, -0.0059,  0.0080]],\n",
              "                     device='cuda:0')),\n",
              "             ('nnlayer1.1.bias',\n",
              "              tensor([ 0.0895,  0.1537,  0.0862, -0.2485, -0.0040, -0.0061,  0.0893,  0.1808,\n",
              "                       0.0787, -0.0854], device='cuda:0')),\n",
              "             ('nnlayer1.3.weight',\n",
              "              tensor([[-0.2578,  0.0264,  0.3263,  0.9651,  0.3032, -0.2593,  0.7850, -0.4005,\n",
              "                       -1.2306, -0.4230],\n",
              "                      [ 0.1425,  0.9552, -0.2872, -0.9104,  0.2253,  0.1964,  0.4934,  0.2851,\n",
              "                        0.4213, -0.6888],\n",
              "                      [-0.3300,  0.1190,  1.2499, -0.1519,  0.0593,  0.3120, -0.8215,  0.1249,\n",
              "                       -0.4355, -0.4450],\n",
              "                      [-0.0987, -0.6535,  0.1315, -0.1565, -0.2362, -0.1846,  0.1819, -0.7415,\n",
              "                        1.4132, -0.4940],\n",
              "                      [-0.4470, -0.1530, -0.4399, -0.8963,  0.1994,  0.2196, -0.4358,  0.9318,\n",
              "                       -0.2494,  1.0261],\n",
              "                      [ 0.6176,  0.0920, -1.2114,  1.0259, -0.2884,  0.1353,  0.0667, -0.4320,\n",
              "                        0.6021, -0.2520],\n",
              "                      [-0.2272, -0.3033, -0.8110,  1.0453,  0.1257,  0.2989,  0.0389,  0.7183,\n",
              "                       -0.7849, -0.9894],\n",
              "                      [ 0.9729,  0.2902,  0.3811, -0.9910,  0.0396,  0.1539, -0.0321, -0.7397,\n",
              "                       -0.2457,  0.6095],\n",
              "                      [ 0.5170, -0.4116,  0.2745,  0.3918,  0.1016,  0.1895, -0.4996,  0.4003,\n",
              "                        0.1424,  0.1136],\n",
              "                      [-0.6687,  0.4192, -0.2056,  0.4026,  0.0216,  0.3124, -0.0813, -0.5093,\n",
              "                        0.2736,  1.1512]], device='cuda:0')),\n",
              "             ('nnlayer1.3.bias',\n",
              "              tensor([ 0.3468,  0.5274,  0.2593, -0.0871,  0.0774, -0.0468,  0.2152,  0.5265,\n",
              "                      -1.1899, -0.4789], device='cuda:0'))])"
            ]
          },
          "metadata": {},
          "execution_count": 66
        }
      ]
    },
    {
      "cell_type": "code",
      "source": [
        "test_step(model=model2,\n",
        "                 data_loader=test_data_loader,\n",
        "                 loss_fn=loss_fn,\n",
        "                 accuracy_fn=accuracy_fn,\n",
        "                 device=device)"
      ],
      "metadata": {
        "colab": {
          "base_uri": "https://localhost:8080/"
        },
        "id": "LcyEi4KX96mo",
        "outputId": "612a1182-a152-4edc-b74c-ccf89fefe48e"
      },
      "execution_count": 68,
      "outputs": [
        {
          "output_type": "stream",
          "name": "stdout",
          "text": [
            "Test loss:  0.05857 accuracy:  98.193\n"
          ]
        }
      ]
    }
  ]
}