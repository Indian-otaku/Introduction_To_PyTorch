{
  "nbformat": 4,
  "nbformat_minor": 0,
  "metadata": {
    "colab": {
      "provenance": [],
      "authorship_tag": "ABX9TyO4axYrF5oPsaWHkGNx8L+t",
      "include_colab_link": true
    },
    "kernelspec": {
      "name": "python3",
      "display_name": "Python 3"
    },
    "language_info": {
      "name": "python"
    },
    "accelerator": "GPU",
    "gpuClass": "standard",
    "widgets": {
      "application/vnd.jupyter.widget-state+json": {
        "8f729583502344c48ba0aaf0baf67ac4": {
          "model_module": "@jupyter-widgets/controls",
          "model_name": "HBoxModel",
          "model_module_version": "1.5.0",
          "state": {
            "_dom_classes": [],
            "_model_module": "@jupyter-widgets/controls",
            "_model_module_version": "1.5.0",
            "_model_name": "HBoxModel",
            "_view_count": null,
            "_view_module": "@jupyter-widgets/controls",
            "_view_module_version": "1.5.0",
            "_view_name": "HBoxView",
            "box_style": "",
            "children": [
              "IPY_MODEL_f44cb8b682b54945bd0d051399ea2236",
              "IPY_MODEL_ead91aaaba5a4aa98ff5984e501c4d58",
              "IPY_MODEL_8f2467818dd6465a8049f7d97b4aa50f"
            ],
            "layout": "IPY_MODEL_c65eaf68f8d44f1cb47278b725119849"
          }
        },
        "f44cb8b682b54945bd0d051399ea2236": {
          "model_module": "@jupyter-widgets/controls",
          "model_name": "HTMLModel",
          "model_module_version": "1.5.0",
          "state": {
            "_dom_classes": [],
            "_model_module": "@jupyter-widgets/controls",
            "_model_module_version": "1.5.0",
            "_model_name": "HTMLModel",
            "_view_count": null,
            "_view_module": "@jupyter-widgets/controls",
            "_view_module_version": "1.5.0",
            "_view_name": "HTMLView",
            "description": "",
            "description_tooltip": null,
            "layout": "IPY_MODEL_648e0d8d444d49219597f70f1c5b284c",
            "placeholder": "​",
            "style": "IPY_MODEL_cf232671daba44b5a5fd0ba37dc8ef9a",
            "value": "100%"
          }
        },
        "ead91aaaba5a4aa98ff5984e501c4d58": {
          "model_module": "@jupyter-widgets/controls",
          "model_name": "FloatProgressModel",
          "model_module_version": "1.5.0",
          "state": {
            "_dom_classes": [],
            "_model_module": "@jupyter-widgets/controls",
            "_model_module_version": "1.5.0",
            "_model_name": "FloatProgressModel",
            "_view_count": null,
            "_view_module": "@jupyter-widgets/controls",
            "_view_module_version": "1.5.0",
            "_view_name": "ProgressView",
            "bar_style": "success",
            "description": "",
            "description_tooltip": null,
            "layout": "IPY_MODEL_2743fd5068834cd39445d317601f0bd0",
            "max": 10,
            "min": 0,
            "orientation": "horizontal",
            "style": "IPY_MODEL_5e16be5b25604a2ba529567526d303d3",
            "value": 10
          }
        },
        "8f2467818dd6465a8049f7d97b4aa50f": {
          "model_module": "@jupyter-widgets/controls",
          "model_name": "HTMLModel",
          "model_module_version": "1.5.0",
          "state": {
            "_dom_classes": [],
            "_model_module": "@jupyter-widgets/controls",
            "_model_module_version": "1.5.0",
            "_model_name": "HTMLModel",
            "_view_count": null,
            "_view_module": "@jupyter-widgets/controls",
            "_view_module_version": "1.5.0",
            "_view_name": "HTMLView",
            "description": "",
            "description_tooltip": null,
            "layout": "IPY_MODEL_2bc989d7fb104998986c9ccf5e04f698",
            "placeholder": "​",
            "style": "IPY_MODEL_4106daac28534d0f97956040d8a0da2b",
            "value": " 10/10 [02:36&lt;00:00, 15.64s/it]"
          }
        },
        "c65eaf68f8d44f1cb47278b725119849": {
          "model_module": "@jupyter-widgets/base",
          "model_name": "LayoutModel",
          "model_module_version": "1.2.0",
          "state": {
            "_model_module": "@jupyter-widgets/base",
            "_model_module_version": "1.2.0",
            "_model_name": "LayoutModel",
            "_view_count": null,
            "_view_module": "@jupyter-widgets/base",
            "_view_module_version": "1.2.0",
            "_view_name": "LayoutView",
            "align_content": null,
            "align_items": null,
            "align_self": null,
            "border": null,
            "bottom": null,
            "display": null,
            "flex": null,
            "flex_flow": null,
            "grid_area": null,
            "grid_auto_columns": null,
            "grid_auto_flow": null,
            "grid_auto_rows": null,
            "grid_column": null,
            "grid_gap": null,
            "grid_row": null,
            "grid_template_areas": null,
            "grid_template_columns": null,
            "grid_template_rows": null,
            "height": null,
            "justify_content": null,
            "justify_items": null,
            "left": null,
            "margin": null,
            "max_height": null,
            "max_width": null,
            "min_height": null,
            "min_width": null,
            "object_fit": null,
            "object_position": null,
            "order": null,
            "overflow": null,
            "overflow_x": null,
            "overflow_y": null,
            "padding": null,
            "right": null,
            "top": null,
            "visibility": null,
            "width": null
          }
        },
        "648e0d8d444d49219597f70f1c5b284c": {
          "model_module": "@jupyter-widgets/base",
          "model_name": "LayoutModel",
          "model_module_version": "1.2.0",
          "state": {
            "_model_module": "@jupyter-widgets/base",
            "_model_module_version": "1.2.0",
            "_model_name": "LayoutModel",
            "_view_count": null,
            "_view_module": "@jupyter-widgets/base",
            "_view_module_version": "1.2.0",
            "_view_name": "LayoutView",
            "align_content": null,
            "align_items": null,
            "align_self": null,
            "border": null,
            "bottom": null,
            "display": null,
            "flex": null,
            "flex_flow": null,
            "grid_area": null,
            "grid_auto_columns": null,
            "grid_auto_flow": null,
            "grid_auto_rows": null,
            "grid_column": null,
            "grid_gap": null,
            "grid_row": null,
            "grid_template_areas": null,
            "grid_template_columns": null,
            "grid_template_rows": null,
            "height": null,
            "justify_content": null,
            "justify_items": null,
            "left": null,
            "margin": null,
            "max_height": null,
            "max_width": null,
            "min_height": null,
            "min_width": null,
            "object_fit": null,
            "object_position": null,
            "order": null,
            "overflow": null,
            "overflow_x": null,
            "overflow_y": null,
            "padding": null,
            "right": null,
            "top": null,
            "visibility": null,
            "width": null
          }
        },
        "cf232671daba44b5a5fd0ba37dc8ef9a": {
          "model_module": "@jupyter-widgets/controls",
          "model_name": "DescriptionStyleModel",
          "model_module_version": "1.5.0",
          "state": {
            "_model_module": "@jupyter-widgets/controls",
            "_model_module_version": "1.5.0",
            "_model_name": "DescriptionStyleModel",
            "_view_count": null,
            "_view_module": "@jupyter-widgets/base",
            "_view_module_version": "1.2.0",
            "_view_name": "StyleView",
            "description_width": ""
          }
        },
        "2743fd5068834cd39445d317601f0bd0": {
          "model_module": "@jupyter-widgets/base",
          "model_name": "LayoutModel",
          "model_module_version": "1.2.0",
          "state": {
            "_model_module": "@jupyter-widgets/base",
            "_model_module_version": "1.2.0",
            "_model_name": "LayoutModel",
            "_view_count": null,
            "_view_module": "@jupyter-widgets/base",
            "_view_module_version": "1.2.0",
            "_view_name": "LayoutView",
            "align_content": null,
            "align_items": null,
            "align_self": null,
            "border": null,
            "bottom": null,
            "display": null,
            "flex": null,
            "flex_flow": null,
            "grid_area": null,
            "grid_auto_columns": null,
            "grid_auto_flow": null,
            "grid_auto_rows": null,
            "grid_column": null,
            "grid_gap": null,
            "grid_row": null,
            "grid_template_areas": null,
            "grid_template_columns": null,
            "grid_template_rows": null,
            "height": null,
            "justify_content": null,
            "justify_items": null,
            "left": null,
            "margin": null,
            "max_height": null,
            "max_width": null,
            "min_height": null,
            "min_width": null,
            "object_fit": null,
            "object_position": null,
            "order": null,
            "overflow": null,
            "overflow_x": null,
            "overflow_y": null,
            "padding": null,
            "right": null,
            "top": null,
            "visibility": null,
            "width": null
          }
        },
        "5e16be5b25604a2ba529567526d303d3": {
          "model_module": "@jupyter-widgets/controls",
          "model_name": "ProgressStyleModel",
          "model_module_version": "1.5.0",
          "state": {
            "_model_module": "@jupyter-widgets/controls",
            "_model_module_version": "1.5.0",
            "_model_name": "ProgressStyleModel",
            "_view_count": null,
            "_view_module": "@jupyter-widgets/base",
            "_view_module_version": "1.2.0",
            "_view_name": "StyleView",
            "bar_color": null,
            "description_width": ""
          }
        },
        "2bc989d7fb104998986c9ccf5e04f698": {
          "model_module": "@jupyter-widgets/base",
          "model_name": "LayoutModel",
          "model_module_version": "1.2.0",
          "state": {
            "_model_module": "@jupyter-widgets/base",
            "_model_module_version": "1.2.0",
            "_model_name": "LayoutModel",
            "_view_count": null,
            "_view_module": "@jupyter-widgets/base",
            "_view_module_version": "1.2.0",
            "_view_name": "LayoutView",
            "align_content": null,
            "align_items": null,
            "align_self": null,
            "border": null,
            "bottom": null,
            "display": null,
            "flex": null,
            "flex_flow": null,
            "grid_area": null,
            "grid_auto_columns": null,
            "grid_auto_flow": null,
            "grid_auto_rows": null,
            "grid_column": null,
            "grid_gap": null,
            "grid_row": null,
            "grid_template_areas": null,
            "grid_template_columns": null,
            "grid_template_rows": null,
            "height": null,
            "justify_content": null,
            "justify_items": null,
            "left": null,
            "margin": null,
            "max_height": null,
            "max_width": null,
            "min_height": null,
            "min_width": null,
            "object_fit": null,
            "object_position": null,
            "order": null,
            "overflow": null,
            "overflow_x": null,
            "overflow_y": null,
            "padding": null,
            "right": null,
            "top": null,
            "visibility": null,
            "width": null
          }
        },
        "4106daac28534d0f97956040d8a0da2b": {
          "model_module": "@jupyter-widgets/controls",
          "model_name": "DescriptionStyleModel",
          "model_module_version": "1.5.0",
          "state": {
            "_model_module": "@jupyter-widgets/controls",
            "_model_module_version": "1.5.0",
            "_model_name": "DescriptionStyleModel",
            "_view_count": null,
            "_view_module": "@jupyter-widgets/base",
            "_view_module_version": "1.2.0",
            "_view_name": "StyleView",
            "description_width": ""
          }
        }
      }
    }
  },
  "cells": [
    {
      "cell_type": "markdown",
      "metadata": {
        "id": "view-in-github",
        "colab_type": "text"
      },
      "source": [
        "<a href=\"https://colab.research.google.com/github/Indian-otaku/Introduction_To_PyTorch/blob/main/cnn1.ipynb\" target=\"_parent\"><img src=\"https://colab.research.google.com/assets/colab-badge.svg\" alt=\"Open In Colab\"/></a>"
      ]
    },
    {
      "cell_type": "markdown",
      "source": [
        "## Import necessary modules"
      ],
      "metadata": {
        "id": "ixeUhgwLuplr"
      }
    },
    {
      "cell_type": "code",
      "source": [
        "import torch\n",
        "from torch import nn\n",
        "from torch.utils.data import DataLoader\n",
        "import torchvision\n",
        "from torchvision.datasets import FashionMNIST\n",
        "from torchvision.transforms import ToTensor\n",
        "import matplotlib.pyplot as plt\n",
        "from tqdm.auto import tqdm\n",
        "from timeit import default_timer"
      ],
      "metadata": {
        "id": "EF7lNYheuwoz"
      },
      "execution_count": 72,
      "outputs": []
    },
    {
      "cell_type": "markdown",
      "source": [
        "## Device agnostic code"
      ],
      "metadata": {
        "id": "adgzgCfVzTRN"
      }
    },
    {
      "cell_type": "code",
      "source": [
        "device = \"cuda\" if torch.cuda.is_available() else \"cpu\"\n",
        "device"
      ],
      "metadata": {
        "colab": {
          "base_uri": "https://localhost:8080/",
          "height": 0
        },
        "id": "YuZf7mNNzYbX",
        "outputId": "ad10bfba-2b48-4a93-908f-7e7ddde16cce"
      },
      "execution_count": 73,
      "outputs": [
        {
          "output_type": "execute_result",
          "data": {
            "text/plain": [
              "'cuda'"
            ],
            "application/vnd.google.colaboratory.intrinsic+json": {
              "type": "string"
            }
          },
          "metadata": {},
          "execution_count": 73
        }
      ]
    },
    {
      "cell_type": "markdown",
      "source": [
        "## Preparing data"
      ],
      "metadata": {
        "id": "ZUCxSPLzzl-P"
      }
    },
    {
      "cell_type": "code",
      "source": [
        "# Downloading the dataset\n",
        "train_data = FashionMNIST(root='data',\n",
        "                          train=True,\n",
        "                          transform=ToTensor(),\n",
        "                          target_transform=None,\n",
        "                          download=True)\n",
        "test_data = FashionMNIST(root='data',\n",
        "                          train=False,\n",
        "                          transform=ToTensor(),\n",
        "                          target_transform=None,\n",
        "                          download=True)"
      ],
      "metadata": {
        "id": "BVJ7IIvPvqt2"
      },
      "execution_count": 74,
      "outputs": []
    },
    {
      "cell_type": "code",
      "source": [
        "# Turning datasets into dataloaders\n",
        "BATCH_SIZE = 32\n",
        "train_data_loader = DataLoader(dataset=train_data,\n",
        "                               batch_size=BATCH_SIZE,\n",
        "                               shuffle=True)\n",
        "test_data_loader = DataLoader(dataset=test_data,\n",
        "                              batch_size=BATCH_SIZE,\n",
        "                              shuffle=False)"
      ],
      "metadata": {
        "id": "Q8FydoraweEp"
      },
      "execution_count": 75,
      "outputs": []
    },
    {
      "cell_type": "code",
      "source": [
        "train_data_loader.dataset"
      ],
      "metadata": {
        "colab": {
          "base_uri": "https://localhost:8080/"
        },
        "id": "Fsc86wAjwupI",
        "outputId": "d4a1cc3c-d53e-4056-e144-b88b71c45dd1"
      },
      "execution_count": 76,
      "outputs": [
        {
          "output_type": "execute_result",
          "data": {
            "text/plain": [
              "Dataset FashionMNIST\n",
              "    Number of datapoints: 60000\n",
              "    Root location: data\n",
              "    Split: Train\n",
              "    StandardTransform\n",
              "Transform: ToTensor()"
            ]
          },
          "metadata": {},
          "execution_count": 76
        }
      ]
    },
    {
      "cell_type": "markdown",
      "source": [
        "## Creating the model"
      ],
      "metadata": {
        "id": "sa1xLN-Szr5H"
      }
    },
    {
      "cell_type": "code",
      "source": [
        "from torch.nn.modules.pooling import MaxPool2d\n",
        "class FMNISTCNNModel1(nn.Module):\n",
        "    def __init__(self, input_shape, hidden_nodes, output_shape):\n",
        "        super().__init__()\n",
        "        self.convbatch1 = nn.Sequential(\n",
        "            nn.Conv2d(in_channels=input_shape,\n",
        "                      out_channels=hidden_nodes,\n",
        "                      kernel_size=3,\n",
        "                      stride=1,\n",
        "                      padding=1,\n",
        "                      bias=True,\n",
        "                      device=device,\n",
        "                      dtype=torch.float),\n",
        "            nn.ReLU(),\n",
        "            nn.Conv2d(in_channels=hidden_nodes,\n",
        "                      out_channels=hidden_nodes,\n",
        "                      kernel_size=(3, 3), # Same as giving the value 3\n",
        "                      stride=1,\n",
        "                      padding=1,\n",
        "                      bias=True,\n",
        "                      device=device,\n",
        "                      dtype=torch.float),\n",
        "            nn.ReLU(),\n",
        "            nn.MaxPool2d(kernel_size=2,\n",
        "                         stride=2)\n",
        "        )\n",
        "        self.convbatch2 = nn.Sequential(\n",
        "            nn.Conv2d(in_channels=hidden_nodes,\n",
        "                      out_channels=hidden_nodes,\n",
        "                      kernel_size=3,\n",
        "                      stride=1,\n",
        "                      padding=1,\n",
        "                      bias=True,\n",
        "                      device=device,\n",
        "                      dtype=torch.float),\n",
        "            nn.ReLU(),\n",
        "            nn.Conv2d(in_channels=hidden_nodes,\n",
        "                      out_channels=hidden_nodes,\n",
        "                      kernel_size=3,\n",
        "                      stride=1,\n",
        "                      padding=1,\n",
        "                      bias=True,\n",
        "                      device=device,\n",
        "                      dtype=torch.float),\n",
        "            nn.MaxPool2d(kernel_size=2,\n",
        "                         stride=2)\n",
        "        )\n",
        "        self.layer = nn.Sequential(\n",
        "            nn.Flatten(),\n",
        "            nn.Linear(in_features=hidden_nodes*7*7,\n",
        "                      out_features=hidden_nodes,\n",
        "                      bias=True,\n",
        "                      device=device,\n",
        "                      dtype=torch.float),\n",
        "            nn.ReLU(),\n",
        "            nn.Linear(in_features=hidden_nodes,\n",
        "                      out_features=output_shape,\n",
        "                      bias=True,\n",
        "                      device=device,\n",
        "                      dtype=torch.float)\n",
        "        )\n",
        "    def forward(self, x: torch.Tensor)-> torch.Tensor:\n",
        "        return self.layer(self.convbatch2(self.convbatch1(x)))\n"
      ],
      "metadata": {
        "id": "c-9gjH3NxZzu"
      },
      "execution_count": 77,
      "outputs": []
    },
    {
      "cell_type": "code",
      "source": [
        "model1 = FMNISTCNNModel1(input_shape=1,\n",
        "                         hidden_nodes=10,\n",
        "                         output_shape=10)\n",
        "model1"
      ],
      "metadata": {
        "colab": {
          "base_uri": "https://localhost:8080/"
        },
        "id": "BzLo8ZJ65Xp7",
        "outputId": "8edfae16-6407-4b7c-f1e6-d37cfdaca1dd"
      },
      "execution_count": 78,
      "outputs": [
        {
          "output_type": "execute_result",
          "data": {
            "text/plain": [
              "FMNISTCNNModel1(\n",
              "  (convbatch1): Sequential(\n",
              "    (0): Conv2d(1, 10, kernel_size=(3, 3), stride=(1, 1), padding=(1, 1))\n",
              "    (1): ReLU()\n",
              "    (2): Conv2d(10, 10, kernel_size=(3, 3), stride=(1, 1), padding=(1, 1))\n",
              "    (3): ReLU()\n",
              "    (4): MaxPool2d(kernel_size=2, stride=2, padding=0, dilation=1, ceil_mode=False)\n",
              "  )\n",
              "  (convbatch2): Sequential(\n",
              "    (0): Conv2d(10, 10, kernel_size=(3, 3), stride=(1, 1), padding=(1, 1))\n",
              "    (1): ReLU()\n",
              "    (2): Conv2d(10, 10, kernel_size=(3, 3), stride=(1, 1), padding=(1, 1))\n",
              "    (3): MaxPool2d(kernel_size=2, stride=2, padding=0, dilation=1, ceil_mode=False)\n",
              "  )\n",
              "  (layer): Sequential(\n",
              "    (0): Flatten(start_dim=1, end_dim=-1)\n",
              "    (1): Linear(in_features=490, out_features=10, bias=True)\n",
              "    (2): ReLU()\n",
              "    (3): Linear(in_features=10, out_features=10, bias=True)\n",
              "  )\n",
              ")"
            ]
          },
          "metadata": {},
          "execution_count": 78
        }
      ]
    },
    {
      "cell_type": "code",
      "source": [
        "image, label = train_data_loader.dataset[0]\n",
        "plt.imshow(image.squeeze(),cmap='gray')\n",
        "plt.title(train_data_loader.dataset.classes[label])\n",
        "plt.show()\n",
        "image.shape"
      ],
      "metadata": {
        "colab": {
          "base_uri": "https://localhost:8080/",
          "height": 298
        },
        "id": "aJq8P6HU5kRB",
        "outputId": "013667cd-6877-4ca7-b215-3cd808ff96dc"
      },
      "execution_count": 79,
      "outputs": [
        {
          "output_type": "display_data",
          "data": {
            "text/plain": [
              "<Figure size 432x288 with 1 Axes>"
            ],
            "image/png": "[encoded data removed]"
          },
          "metadata": {
            "needs_background": "light"
          }
        },
        {
          "output_type": "execute_result",
          "data": {
            "text/plain": [
              "torch.Size([1, 28, 28])"
            ]
          },
          "metadata": {},
          "execution_count": 79
        }
      ]
    },
    {
      "cell_type": "code",
      "source": [
        "p = nn.Conv2d(in_channels=1,\n",
        "              out_channels=9,\n",
        "              kernel_size=2)\n",
        "# q = nn.ReLU()\n",
        "# r = nn.Conv2d(in_channels=9,\n",
        "#               out_channels=9,\n",
        "#               kernel_size=(5,5))\n",
        "y = p(image.unsqueeze(0))\n",
        "plt.figure(figsize=(9,9))\n",
        "for i in range(1,10):\n",
        "    plt.subplot(3,3,i)\n",
        "    plt.imshow(y[0][i-1].detach(),cmap='gray')\n",
        "y.shape"
      ],
      "metadata": {
        "colab": {
          "base_uri": "https://localhost:8080/",
          "height": 555
        },
        "id": "juZ_w4L07BTZ",
        "outputId": "eeec9245-3f42-4cac-d11c-6b9a37d4cc6f"
      },
      "execution_count": 80,
      "outputs": [
        {
          "output_type": "execute_result",
          "data": {
            "text/plain": [
              "torch.Size([1, 9, 27, 27])"
            ]
          },
          "metadata": {},
          "execution_count": 80
        },
        {
          "output_type": "display_data",
          "data": {
            "text/plain": [
              "<Figure size 648x648 with 9 Axes>"
            ],
            "image/png": "[encoded data removed]"
          },
          "metadata": {
            "needs_background": "light"
          }
        }
      ]
    },
    {
      "cell_type": "code",
      "source": [
        "result = model1(image.unsqueeze(0).to(device))\n",
        "result"
      ],
      "metadata": {
        "colab": {
          "base_uri": "https://localhost:8080/"
        },
        "id": "gkMXuTxM8haV",
        "outputId": "fc90f2d8-440e-4e47-9c47-8095b81f10e7"
      },
      "execution_count": 81,
      "outputs": [
        {
          "output_type": "execute_result",
          "data": {
            "text/plain": [
              "tensor([[-0.1328,  0.0176, -0.1887, -0.1446, -0.1714,  0.2265,  0.1461, -0.2864,\n",
              "         -0.1744,  0.0344]], device='cuda:0', grad_fn=<AddmmBackward0>)"
            ]
          },
          "metadata": {},
          "execution_count": 81
        }
      ]
    },
    {
      "cell_type": "code",
      "source": [
        "## Picking a loss function, evalution function and optimizer\n",
        "\n",
        "def accuracy_fn(y_pred, y_true):\n",
        "    return (y_pred==y_true).sum().item() / len(y_pred)\n",
        "\n",
        "loss_fn = nn.CrossEntropyLoss()\n",
        "\n",
        "optimizer = torch.optim.SGD(params=model1.parameters(),\n",
        "                            lr=0.1)\n"
      ],
      "metadata": {
        "id": "h6qqukmlJBrH"
      },
      "execution_count": 82,
      "outputs": []
    },
    {
      "cell_type": "code",
      "source": [
        "def training_step(model:torch.nn.Module,\n",
        "             data_loader:torch.utils.data.DataLoader,\n",
        "             loss_fn:torch.nn.Module,\n",
        "             accuracy_fn,\n",
        "             optimizer:torch.optim.Optimizer,\n",
        "             device:torch.device = device):\n",
        "    \n",
        "    model = model.to(device)\n",
        "    model.train()\n",
        "\n",
        "    train_loss = 0\n",
        "    train_acc = 0\n",
        "\n",
        "    for batch, (X_train, y_train) in enumerate(data_loader):\n",
        "        X_train = X_train.to(device)\n",
        "        y_train = y_train.to(device)\n",
        "        y_pred = model(X_train)\n",
        "        loss = loss_fn(y_pred, y_train)\n",
        "        train_loss += loss\n",
        "        acc = accuracy_fn(y_pred=y_pred.argmax(dim=1), y_true=y_train)\n",
        "        train_acc += acc\n",
        "        model.zero_grad()\n",
        "        loss.backward()\n",
        "        optimizer.step()\n",
        "\n",
        "    train_loss /= len(data_loader)\n",
        "    train_acc /= len(data_loader)\n",
        "\n",
        "    print(f\"Train loss: {train_loss:.5f} accuracy: {train_acc*100:.3f}%\")\n",
        "\n",
        "\n",
        "def testing_step(model:torch.nn.Module,\n",
        "             data_loader:torch.utils.data.DataLoader,\n",
        "             loss_fn:torch.nn.Module,\n",
        "             accuracy_fn,\n",
        "             device:torch.device = device):\n",
        "    \n",
        "    model = model.to(device)\n",
        "    model.eval()\n",
        "\n",
        "    test_loss = 0\n",
        "    test_acc = 0\n",
        "\n",
        "    with torch.inference_mode():    \n",
        "        for X_test, y_test in data_loader:\n",
        "            X_test = X_test.to(device)\n",
        "            y_test = y_test.to(device)\n",
        "            y_pred = model(X_test)\n",
        "            loss = loss_fn(y_pred, y_test)\n",
        "            test_loss += loss\n",
        "            acc = accuracy_fn(y_pred=y_pred.argmax(dim=1), y_true=y_test)\n",
        "            test_acc += acc\n",
        "\n",
        "        test_loss /= len(data_loader)\n",
        "        test_acc /= len(data_loader)\n",
        "\n",
        "    print(f\"Test loss: {test_loss:.5f} accuracy: {test_acc*100:.3f}%\")\n",
        "\n",
        "\n",
        "def accuracy_fn(y_pred, y_true):\n",
        "    return (y_pred==y_true).sum().item() / len(y_pred)"
      ],
      "metadata": {
        "id": "XQ0cGyI4KgIr"
      },
      "execution_count": 83,
      "outputs": []
    },
    {
      "cell_type": "code",
      "source": [
        "torch.manual_seed(42)\n",
        "torch.cuda.manual_seed(42)\n",
        "\n",
        "start_time = default_timer()\n",
        "\n",
        "epochs = 10\n",
        "\n",
        "for epoch in tqdm(range(epochs)):\n",
        "    print(f\"--------------------------------------------------{epoch}--------------------------------------------------------\")\n",
        "    training_step(model=model1,\n",
        "                  data_loader=train_data_loader,\n",
        "                  loss_fn=loss_fn,\n",
        "                  accuracy_fn=accuracy_fn,\n",
        "                  optimizer=optimizer,\n",
        "                  device=device)\n",
        "    testing_step(model=model1,\n",
        "                 data_loader=test_data_loader,\n",
        "                 loss_fn=loss_fn,\n",
        "                 accuracy_fn=accuracy_fn,\n",
        "                 device=device)\n",
        "\n",
        "end_time = default_timer()\n",
        "\n",
        "total_train_time = end_time - start_time\n",
        "print(f\"Total train time taken is {total_train_time} using device {device}\")"
      ],
      "metadata": {
        "colab": {
          "base_uri": "https://localhost:8080/",
          "height": 587,
          "referenced_widgets": [
            "8f729583502344c48ba0aaf0baf67ac4",
            "f44cb8b682b54945bd0d051399ea2236",
            "ead91aaaba5a4aa98ff5984e501c4d58",
            "8f2467818dd6465a8049f7d97b4aa50f",
            "c65eaf68f8d44f1cb47278b725119849",
            "648e0d8d444d49219597f70f1c5b284c",
            "cf232671daba44b5a5fd0ba37dc8ef9a",
            "2743fd5068834cd39445d317601f0bd0",
            "5e16be5b25604a2ba529567526d303d3",
            "2bc989d7fb104998986c9ccf5e04f698",
            "4106daac28534d0f97956040d8a0da2b"
          ]
        },
        "id": "rOyp_sBhKtzO",
        "outputId": "0de18c67-feb1-4b37-e2a1-d5f2af2d20cd"
      },
      "execution_count": 84,
      "outputs": [
        {
          "output_type": "display_data",
          "data": {
            "text/plain": [
              "  0%|          | 0/10 [00:00<?, ?it/s]"
            ],
            "application/vnd.jupyter.widget-view+json": {
              "version_major": 2,
              "version_minor": 0,
              "model_id": "8f729583502344c48ba0aaf0baf67ac4"
            }
          },
          "metadata": {}
        },
        {
          "output_type": "stream",
          "name": "stdout",
          "text": [
            "--------------------------------------------------0--------------------------------------------------------\n",
            "Train loss: 0.69804 accuracy: 73.743%\n",
            "Test loss: 0.39199 accuracy: 85.813%\n",
            "--------------------------------------------------1--------------------------------------------------------\n",
            "Train loss: 0.35654 accuracy: 86.983%\n",
            "Test loss: 0.34670 accuracy: 87.550%\n",
            "--------------------------------------------------2--------------------------------------------------------\n",
            "Train loss: 0.31440 accuracy: 88.657%\n",
            "Test loss: 0.32366 accuracy: 88.578%\n",
            "--------------------------------------------------3--------------------------------------------------------\n",
            "Train loss: 0.29136 accuracy: 89.368%\n",
            "Test loss: 0.30869 accuracy: 88.888%\n",
            "--------------------------------------------------4--------------------------------------------------------\n",
            "Train loss: 0.27813 accuracy: 89.860%\n",
            "Test loss: 0.30484 accuracy: 89.048%\n",
            "--------------------------------------------------5--------------------------------------------------------\n",
            "Train loss: 0.26788 accuracy: 90.150%\n",
            "Test loss: 0.29964 accuracy: 89.327%\n",
            "--------------------------------------------------6--------------------------------------------------------\n",
            "Train loss: 0.25813 accuracy: 90.513%\n",
            "Test loss: 0.28835 accuracy: 89.497%\n",
            "--------------------------------------------------7--------------------------------------------------------\n",
            "Train loss: 0.25676 accuracy: 90.515%\n",
            "Test loss: 0.29665 accuracy: 89.587%\n",
            "--------------------------------------------------8--------------------------------------------------------\n",
            "Train loss: 0.25009 accuracy: 90.798%\n",
            "Test loss: 0.29596 accuracy: 90.046%\n",
            "--------------------------------------------------9--------------------------------------------------------\n",
            "Train loss: 0.24340 accuracy: 91.108%\n",
            "Test loss: 0.32891 accuracy: 89.187%\n",
            "Total train time taken is 156.89335073899997 using device cuda\n"
          ]
        }
      ]
    },
    {
      "cell_type": "code",
      "source": [
        "# Just an audio alarm that informs if colab finished executing. \n",
        "from google.colab import output\n",
        "output.eval_js('new Audio(\"https://upload.wikimedia.org/wikipedia/commons/5/5c/Alarm_clock_-_01.ogg\").play()')"
      ],
      "metadata": {
        "id": "Ag4T0XmuM1Es"
      },
      "execution_count": 85,
      "outputs": []
    },
    {
      "cell_type": "code",
      "source": [],
      "metadata": {
        "id": "ElSvcieWRpPA"
      },
      "execution_count": 85,
      "outputs": []
    }
  ]
}