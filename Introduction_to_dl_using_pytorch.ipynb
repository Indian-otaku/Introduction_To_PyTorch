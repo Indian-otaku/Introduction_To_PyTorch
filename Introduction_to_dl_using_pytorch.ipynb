{
  "nbformat": 4,
  "nbformat_minor": 0,
  "metadata": {
    "colab": {
      "provenance": [],
      "authorship_tag": "ABX9TyNjUDw3WQNFv4g5UvbMVDTq",
      "include_colab_link": true
    },
    "kernelspec": {
      "name": "python3",
      "display_name": "Python 3"
    },
    "language_info": {
      "name": "python"
    },
    "gpuClass": "standard",
    "accelerator": "GPU"
  },
  "cells": [
    {
      "cell_type": "markdown",
      "metadata": {
        "id": "view-in-github",
        "colab_type": "text"
      },
      "source": [
        "<a href=\"https://colab.research.google.com/github/Indian-otaku/Introduction_To_PyTorch/blob/main/Introduction_to_dl_using_pytorch.ipynb\" target=\"_parent\"><img src=\"https://colab.research.google.com/assets/colab-badge.svg\" alt=\"Open In Colab\"/></a>"
      ]
    },
    {
      "cell_type": "code",
      "source": [
        "import torch\n",
        "import pandas as pd\n",
        "import numpy as np\n",
        "import matplotlib.pyplot as plt\n",
        "torch.__version__"
      ],
      "metadata": {
        "colab": {
          "base_uri": "https://localhost:8080/",
          "height": 36
        },
        "id": "W2VrQ6AbV7oL",
        "outputId": "15493e59-b3a6-4bd6-c67b-862b4e6ff073"
      },
      "execution_count": null,
      "outputs": [
        {
          "output_type": "execute_result",
          "data": {
            "text/plain": [
              "'1.13.1+cu116'"
            ],
            "application/vnd.google.colaboratory.intrinsic+json": {
              "type": "string"
            }
          },
          "metadata": {},
          "execution_count": 1
        }
      ]
    },
    {
      "cell_type": "code",
      "source": [
        "value = torch.tensor(29)\n",
        "print(value)\n",
        "print(value.item())"
      ],
      "metadata": {
        "colab": {
          "base_uri": "https://localhost:8080/"
        },
        "id": "B74OPflCWmBD",
        "outputId": "abae6c3a-35ec-4643-f3f0-5556e4b75728"
      },
      "execution_count": null,
      "outputs": [
        {
          "output_type": "stream",
          "name": "stdout",
          "text": [
            "tensor(29)\n",
            "29\n"
          ]
        }
      ]
    },
    {
      "cell_type": "code",
      "source": [
        "MATRIX = torch.tensor([[1,2],\n",
        "                       [3,6]])\n",
        "print(MATRIX.ndim)\n",
        "print(MATRIX.shape)\n",
        "MATRIX[0][0].item()"
      ],
      "metadata": {
        "colab": {
          "base_uri": "https://localhost:8080/"
        },
        "id": "MvblOMWPWn1_",
        "outputId": "01525823-c1bd-434f-9adb-dbc2915c04ac"
      },
      "execution_count": null,
      "outputs": [
        {
          "output_type": "stream",
          "name": "stdout",
          "text": [
            "2\n",
            "torch.Size([2, 2])\n"
          ]
        },
        {
          "output_type": "execute_result",
          "data": {
            "text/plain": [
              "1"
            ]
          },
          "metadata": {},
          "execution_count": 3
        }
      ]
    },
    {
      "cell_type": "code",
      "source": [
        "TENSOR = torch.tensor([[[1,2,3,4],\n",
        "                        [3,5,1,3],\n",
        "                        [5,2,3,4]]])\n",
        "print(TENSOR.shape)\n",
        "print(TENSOR[0][1][2])"
      ],
      "metadata": {
        "colab": {
          "base_uri": "https://localhost:8080/"
        },
        "id": "aNIjfQ57YyoA",
        "outputId": "6cd77992-d3c3-4571-e368-cdaa5e74f89f"
      },
      "execution_count": null,
      "outputs": [
        {
          "output_type": "stream",
          "name": "stdout",
          "text": [
            "torch.Size([1, 3, 4])\n",
            "tensor(1)\n"
          ]
        }
      ]
    },
    {
      "cell_type": "markdown",
      "source": [
        "Random Tensors"
      ],
      "metadata": {
        "id": "-92L3Y0rZiL1"
      }
    },
    {
      "cell_type": "code",
      "source": [
        "TENSOR = torch.rand(4,3,5)\n",
        "TENSOR"
      ],
      "metadata": {
        "colab": {
          "base_uri": "https://localhost:8080/"
        },
        "id": "-VeZ1ZiIbPCY",
        "outputId": "53b3bfe0-6c5f-4a2b-e134-3f31bbcf49f8"
      },
      "execution_count": null,
      "outputs": [
        {
          "output_type": "execute_result",
          "data": {
            "text/plain": [
              "tensor([[[0.8291, 0.3961, 0.0363, 0.3566, 0.4590],\n",
              "         [0.2038, 0.0481, 0.8299, 0.8051, 0.0830],\n",
              "         [0.9071, 0.3983, 0.0380, 0.5156, 0.7668]],\n",
              "\n",
              "        [[0.7451, 0.3953, 0.0047, 0.5908, 0.2454],\n",
              "         [0.3039, 0.3690, 0.9831, 0.3846, 0.9350],\n",
              "         [0.6144, 0.3788, 0.9047, 0.0644, 0.0059]],\n",
              "\n",
              "        [[0.1205, 0.0874, 0.9243, 0.1775, 0.2361],\n",
              "         [0.2554, 0.4146, 0.8158, 0.3898, 0.5776],\n",
              "         [0.8544, 0.5882, 0.2487, 0.7133, 0.9825]],\n",
              "\n",
              "        [[0.9989, 0.8880, 0.0822, 0.1655, 0.0812],\n",
              "         [0.6620, 0.9244, 0.3812, 0.0238, 0.2426],\n",
              "         [0.5702, 0.2795, 0.4411, 0.1154, 0.7564]]])"
            ]
          },
          "metadata": {},
          "execution_count": 5
        }
      ]
    },
    {
      "cell_type": "code",
      "source": [
        "TENSOR1 = torch.rand(2,4,3)\n",
        "TENSOR1"
      ],
      "metadata": {
        "colab": {
          "base_uri": "https://localhost:8080/"
        },
        "id": "dIQJm7sebsxe",
        "outputId": "4989c44d-63f8-42e6-8cad-af420f60528f"
      },
      "execution_count": null,
      "outputs": [
        {
          "output_type": "execute_result",
          "data": {
            "text/plain": [
              "tensor([[[0.8241, 0.8821, 0.8420],\n",
              "         [0.3019, 0.5073, 0.8362],\n",
              "         [0.4688, 0.6170, 0.1153],\n",
              "         [0.9418, 0.3520, 0.2997]],\n",
              "\n",
              "        [[0.2934, 0.3156, 0.3574],\n",
              "         [0.8529, 0.1172, 0.5718],\n",
              "         [0.8760, 0.4186, 0.3349],\n",
              "         [0.6169, 0.4761, 0.7558]]])"
            ]
          },
          "metadata": {},
          "execution_count": 6
        }
      ]
    },
    {
      "cell_type": "markdown",
      "source": [
        "Setting some commmon parameter"
      ],
      "metadata": {
        "id": "_-TdbNASl02K"
      }
    },
    {
      "cell_type": "code",
      "source": [
        "TENSOR_int32 = torch.tensor([[7, 2] ,[4, 5], [3,1]], \n",
        "                      dtype=torch.int32,\n",
        "                      device=None,\n",
        "                      requires_grad=False)\n",
        "TENSOR_int32.shape"
      ],
      "metadata": {
        "id": "sH9u9BrEmI6B",
        "colab": {
          "base_uri": "https://localhost:8080/"
        },
        "outputId": "b58643b0-2ee8-4d4b-e30e-08f7eae5d9e4"
      },
      "execution_count": null,
      "outputs": [
        {
          "output_type": "execute_result",
          "data": {
            "text/plain": [
              "torch.Size([3, 2])"
            ]
          },
          "metadata": {},
          "execution_count": 7
        }
      ]
    },
    {
      "cell_type": "code",
      "source": [
        "TENSOR_int16 = torch.tensor([[1,3,4,2]], dtype=torch.int32)\n",
        "TENSOR_int16.shape"
      ],
      "metadata": {
        "colab": {
          "base_uri": "https://localhost:8080/"
        },
        "id": "FniKjMTr3p7r",
        "outputId": "40e5a9e2-a3d6-4d94-8066-425bfb119311"
      },
      "execution_count": null,
      "outputs": [
        {
          "output_type": "execute_result",
          "data": {
            "text/plain": [
              "torch.Size([1, 4])"
            ]
          },
          "metadata": {},
          "execution_count": 8
        }
      ]
    },
    {
      "cell_type": "code",
      "source": [
        "ten1 = torch.randn(2,3,4)\n",
        "ten2 = torch.randn(2,4,3)\n"
      ],
      "metadata": {
        "id": "z4I2dMr854d8"
      },
      "execution_count": null,
      "outputs": []
    },
    {
      "cell_type": "code",
      "source": [
        "print(ten1,\"Shape: \",ten1.shape)\n",
        "print(ten2,\"Shape: \",ten2.shape)"
      ],
      "metadata": {
        "colab": {
          "base_uri": "https://localhost:8080/"
        },
        "id": "cwrOUn3x8J1d",
        "outputId": "73a65014-7742-4425-cc81-78a278d91efc"
      },
      "execution_count": null,
      "outputs": [
        {
          "output_type": "stream",
          "name": "stdout",
          "text": [
            "tensor([[[ 1.2477,  0.2904,  1.9808, -0.5265],\n",
            "         [ 0.1773, -0.2786,  1.0817,  0.0996],\n",
            "         [-1.6852, -0.5641, -0.2886, -1.4774]],\n",
            "\n",
            "        [[-0.5559,  0.3187, -0.5711, -0.1991],\n",
            "         [ 0.3697,  0.7482,  0.6560, -1.0723],\n",
            "         [-0.0229, -1.7132, -0.7945,  1.0120]]]) Shape:  torch.Size([2, 3, 4])\n",
            "tensor([[[ 1.4915, -0.5411,  0.1831],\n",
            "         [-2.1096,  1.0750, -0.9567],\n",
            "         [ 0.2276,  0.7969, -0.2210],\n",
            "         [-0.2855,  0.5075,  0.2039]],\n",
            "\n",
            "        [[-1.8019, -1.4734, -0.0839],\n",
            "         [ 0.3692, -0.0584,  1.7011],\n",
            "         [ 1.1546,  1.8182, -0.9418],\n",
            "         [ 0.0106,  0.1784,  0.4842]]]) Shape:  torch.Size([2, 4, 3])\n"
          ]
        }
      ]
    },
    {
      "cell_type": "code",
      "source": [
        "list(torch.matmul(ten1, ten2))"
      ],
      "metadata": {
        "colab": {
          "base_uri": "https://localhost:8080/"
        },
        "id": "Qfcq1rRJFbGt",
        "outputId": "4c324113-e296-42d8-b929-71b66ee8b0bb"
      },
      "execution_count": null,
      "outputs": [
        {
          "output_type": "execute_result",
          "data": {
            "text/plain": [
              "[tensor([[ 1.8495,  0.9484, -0.5944],\n",
              "         [ 1.0700,  0.5171,  0.0803],\n",
              "         [-0.9674, -0.6743, -0.0063]]), tensor([[ 0.4579, -0.2733,  1.0302],\n",
              "         [ 0.3561,  0.4130,  0.1046],\n",
              "         [-1.4979, -1.1303, -1.6741]])]"
            ]
          },
          "metadata": {},
          "execution_count": 11
        }
      ]
    },
    {
      "cell_type": "markdown",
      "source": [
        "Tensor aggregation values - min, max, mean, sum etc.."
      ],
      "metadata": {
        "id": "WiLZy2J3Fty6"
      }
    },
    {
      "cell_type": "code",
      "source": [
        "tensor = torch.arange(0,100,10)\n",
        "tensor"
      ],
      "metadata": {
        "colab": {
          "base_uri": "https://localhost:8080/"
        },
        "id": "2h2VKhKOGhuX",
        "outputId": "8c17dbd4-3ad8-473c-f929-55cc15db11e7"
      },
      "execution_count": null,
      "outputs": [
        {
          "output_type": "execute_result",
          "data": {
            "text/plain": [
              "tensor([ 0, 10, 20, 30, 40, 50, 60, 70, 80, 90])"
            ]
          },
          "metadata": {},
          "execution_count": 12
        }
      ]
    },
    {
      "cell_type": "code",
      "source": [
        "tensor = tensor.type(torch.float16)\n",
        "tensor.mean()"
      ],
      "metadata": {
        "colab": {
          "base_uri": "https://localhost:8080/"
        },
        "id": "XRR1D-0kJxvf",
        "outputId": "2e5f29ca-175f-42ed-e8ef-5ea0feea628f"
      },
      "execution_count": null,
      "outputs": [
        {
          "output_type": "execute_result",
          "data": {
            "text/plain": [
              "tensor(45., dtype=torch.float16)"
            ]
          },
          "metadata": {},
          "execution_count": 13
        }
      ]
    },
    {
      "cell_type": "code",
      "source": [
        "tensor[tensor.argmin()]"
      ],
      "metadata": {
        "colab": {
          "base_uri": "https://localhost:8080/"
        },
        "id": "BP1SoT27J5Lt",
        "outputId": "92eef81a-803b-42ed-daa4-0eca29634a40"
      },
      "execution_count": null,
      "outputs": [
        {
          "output_type": "execute_result",
          "data": {
            "text/plain": [
              "tensor(0., dtype=torch.float16)"
            ]
          },
          "metadata": {},
          "execution_count": 14
        }
      ]
    },
    {
      "cell_type": "code",
      "source": [
        "tensor_stacked = torch.stack([ tensor, tensor, tensor], dim=0)"
      ],
      "metadata": {
        "id": "YCigO181s2oV"
      },
      "execution_count": null,
      "outputs": []
    },
    {
      "cell_type": "code",
      "source": [
        "# Both methods of indexing works!!\n",
        "tensor_stacked[1][4] = 692   \n",
        "tensor_stacked[1,5] = 22\n",
        "tensor_stacked"
      ],
      "metadata": {
        "colab": {
          "base_uri": "https://localhost:8080/"
        },
        "id": "n3dfsgK0rnYh",
        "outputId": "0d29f631-245b-45ca-fd6e-464582b59416"
      },
      "execution_count": null,
      "outputs": [
        {
          "output_type": "execute_result",
          "data": {
            "text/plain": [
              "tensor([[  0.,  10.,  20.,  30.,  40.,  50.,  60.,  70.,  80.,  90.],\n",
              "        [  0.,  10.,  20.,  30., 692.,  22.,  60.,  70.,  80.,  90.],\n",
              "        [  0.,  10.,  20.,  30.,  40.,  50.,  60.,  70.,  80.,  90.]],\n",
              "       dtype=torch.float16)"
            ]
          },
          "metadata": {},
          "execution_count": 16
        }
      ]
    },
    {
      "cell_type": "code",
      "source": [
        "tensor_stacked.shape"
      ],
      "metadata": {
        "colab": {
          "base_uri": "https://localhost:8080/"
        },
        "id": "VRPS1O0fsna3",
        "outputId": "7c80b253-01c9-444b-bcc6-66ba560ee726"
      },
      "execution_count": null,
      "outputs": [
        {
          "output_type": "execute_result",
          "data": {
            "text/plain": [
              "torch.Size([3, 10])"
            ]
          },
          "metadata": {},
          "execution_count": 17
        }
      ]
    },
    {
      "cell_type": "code",
      "source": [
        "x = torch.randn(2,4,3)\n",
        "x.shape"
      ],
      "metadata": {
        "colab": {
          "base_uri": "https://localhost:8080/"
        },
        "id": "da1jOd8VyIHD",
        "outputId": "963b2a07-b910-4bd8-f4cd-99d2d5ec130e"
      },
      "execution_count": null,
      "outputs": [
        {
          "output_type": "execute_result",
          "data": {
            "text/plain": [
              "torch.Size([2, 4, 3])"
            ]
          },
          "metadata": {},
          "execution_count": 18
        }
      ]
    },
    {
      "cell_type": "code",
      "source": [
        "x_reshaped = x.permute(1,0,2)\n",
        "x_reshaped.shape"
      ],
      "metadata": {
        "colab": {
          "base_uri": "https://localhost:8080/"
        },
        "id": "cYzSCBzoya0A",
        "outputId": "72fc79ad-9a37-4bb0-f6b7-18acd8536f04"
      },
      "execution_count": null,
      "outputs": [
        {
          "output_type": "execute_result",
          "data": {
            "text/plain": [
              "torch.Size([4, 2, 3])"
            ]
          },
          "metadata": {},
          "execution_count": 19
        }
      ]
    },
    {
      "cell_type": "code",
      "source": [
        "x = torch.randn(1,2,1,6,1,3)\n",
        "x.shape"
      ],
      "metadata": {
        "colab": {
          "base_uri": "https://localhost:8080/"
        },
        "id": "j_y5P7vhym0X",
        "outputId": "e3706546-7d20-4bec-ee43-5df9a5b94d18"
      },
      "execution_count": null,
      "outputs": [
        {
          "output_type": "execute_result",
          "data": {
            "text/plain": [
              "torch.Size([1, 2, 1, 6, 1, 3])"
            ]
          },
          "metadata": {},
          "execution_count": 20
        }
      ]
    },
    {
      "cell_type": "code",
      "source": [
        "x_squeezed = x.squeeze()\n",
        "x_squeezed.shape"
      ],
      "metadata": {
        "colab": {
          "base_uri": "https://localhost:8080/"
        },
        "id": "Zpb3khWuyxHk",
        "outputId": "4ce3eeaa-40ec-4dd8-c895-c7d7aad40210"
      },
      "execution_count": null,
      "outputs": [
        {
          "output_type": "execute_result",
          "data": {
            "text/plain": [
              "torch.Size([2, 6, 3])"
            ]
          },
          "metadata": {},
          "execution_count": 21
        }
      ]
    },
    {
      "cell_type": "code",
      "source": [
        "x_unsqueezed = x_squeezed.unsqueeze(2)\n",
        "x_unsqueezed.shape"
      ],
      "metadata": {
        "colab": {
          "base_uri": "https://localhost:8080/"
        },
        "id": "UqZFGDINy4vt",
        "outputId": "e180193a-71f2-4771-afb3-44d11a5e2c30"
      },
      "execution_count": null,
      "outputs": [
        {
          "output_type": "execute_result",
          "data": {
            "text/plain": [
              "torch.Size([2, 6, 1, 3])"
            ]
          },
          "metadata": {},
          "execution_count": 22
        }
      ]
    },
    {
      "cell_type": "code",
      "source": [
        "x.numpy()"
      ],
      "metadata": {
        "colab": {
          "base_uri": "https://localhost:8080/"
        },
        "id": "IeOcb0nXzK3f",
        "outputId": "5cdf453b-8ba0-425a-d6c6-e749e491d9eb"
      },
      "execution_count": null,
      "outputs": [
        {
          "output_type": "execute_result",
          "data": {
            "text/plain": [
              "array([[[[[[ 0.2551876 , -0.253135  ,  0.44701   ]],\n",
              "\n",
              "          [[ 0.37118053, -0.41854778,  0.22729127]],\n",
              "\n",
              "          [[ 2.3916469 , -0.04884563, -0.3171588 ]],\n",
              "\n",
              "          [[ 2.0215845 , -0.12431845,  0.46505424]],\n",
              "\n",
              "          [[ 1.0046515 , -0.04057334, -0.81888187]],\n",
              "\n",
              "          [[ 0.57072514,  0.9665199 , -0.0668356 ]]]],\n",
              "\n",
              "\n",
              "\n",
              "        [[[[-1.1332495 , -0.7310898 , -0.0554735 ]],\n",
              "\n",
              "          [[-0.3009607 , -1.1304651 , -0.76141965]],\n",
              "\n",
              "          [[ 0.9073713 , -0.51171947,  0.0623714 ]],\n",
              "\n",
              "          [[-0.40239656,  1.1562593 , -0.8726147 ]],\n",
              "\n",
              "          [[ 0.03999587, -1.0780708 ,  1.4183995 ]],\n",
              "\n",
              "          [[ 0.17740378,  0.40933305,  1.1325244 ]]]]]], dtype=float32)"
            ]
          },
          "metadata": {},
          "execution_count": 23
        }
      ]
    },
    {
      "cell_type": "code",
      "source": [
        "arr = np.array([1,3,4,2])\n",
        "tensor = torch.from_numpy(arr)\n",
        "tensor"
      ],
      "metadata": {
        "colab": {
          "base_uri": "https://localhost:8080/"
        },
        "id": "QMPOedOZ1ZFJ",
        "outputId": "95c6bdc4-aabf-47bc-de0f-d8b59c3ef09d"
      },
      "execution_count": null,
      "outputs": [
        {
          "output_type": "execute_result",
          "data": {
            "text/plain": [
              "tensor([1, 3, 4, 2])"
            ]
          },
          "metadata": {},
          "execution_count": 24
        }
      ]
    },
    {
      "cell_type": "code",
      "source": [
        "torch.manual_seed(0)\n",
        "tensor1 = torch.randn(3,4)\n",
        "torch.manual_seed(0)\n",
        "tensor2 = torch.randn(3,4)\n",
        "print(tensor1 == tensor2)"
      ],
      "metadata": {
        "colab": {
          "base_uri": "https://localhost:8080/"
        },
        "id": "zpH0uknK1q_Q",
        "outputId": "29f0d9e3-1355-4d44-9c24-01623fbcba28"
      },
      "execution_count": null,
      "outputs": [
        {
          "output_type": "stream",
          "name": "stdout",
          "text": [
            "tensor([[True, True, True, True],\n",
            "        [True, True, True, True],\n",
            "        [True, True, True, True]])\n"
          ]
        }
      ]
    },
    {
      "cell_type": "code",
      "source": [
        "# Setting up device agnostic code\n",
        "\n",
        "device = 'cuda' if torch.cuda.is_available() else 'cpu'\n",
        "device"
      ],
      "metadata": {
        "id": "qM5hkTMw4sq5",
        "colab": {
          "base_uri": "https://localhost:8080/",
          "height": 36
        },
        "outputId": "d7f21a79-4975-4be7-fe52-16fefd9fa458"
      },
      "execution_count": null,
      "outputs": [
        {
          "output_type": "execute_result",
          "data": {
            "text/plain": [
              "'cuda'"
            ],
            "application/vnd.google.colaboratory.intrinsic+json": {
              "type": "string"
            }
          },
          "metadata": {},
          "execution_count": 26
        }
      ]
    },
    {
      "cell_type": "code",
      "source": [
        "tensor = torch.tensor([1,3,4,2,5])\n",
        "tensor.device"
      ],
      "metadata": {
        "colab": {
          "base_uri": "https://localhost:8080/"
        },
        "id": "k8nG73Jz01q2",
        "outputId": "ef6eab28-c682-44d1-9efc-22d3983d91be"
      },
      "execution_count": null,
      "outputs": [
        {
          "output_type": "execute_result",
          "data": {
            "text/plain": [
              "device(type='cpu')"
            ]
          },
          "metadata": {},
          "execution_count": 29
        }
      ]
    },
    {
      "cell_type": "code",
      "source": [
        "tensor_gpu = tensor.to(device)\n",
        "tensor_gpu"
      ],
      "metadata": {
        "colab": {
          "base_uri": "https://localhost:8080/"
        },
        "id": "v_phXBq71mD4",
        "outputId": "996d0a3d-32de-4665-9e15-c03b66fd04f5"
      },
      "execution_count": null,
      "outputs": [
        {
          "output_type": "execute_result",
          "data": {
            "text/plain": [
              "tensor([1, 3, 4, 2, 5], device='cuda:0')"
            ]
          },
          "metadata": {},
          "execution_count": 31
        }
      ]
    },
    {
      "cell_type": "code",
      "source": [],
      "metadata": {
        "id": "e7NHlIMY13ma"
      },
      "execution_count": null,
      "outputs": []
    }
  ]
}