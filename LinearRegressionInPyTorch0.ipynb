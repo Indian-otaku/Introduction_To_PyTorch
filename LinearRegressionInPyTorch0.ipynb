{
  "nbformat": 4,
  "nbformat_minor": 0,
  "metadata": {
    "colab": {
      "provenance": [],
      "authorship_tag": "ABX9TyPiVqVcCusIbtZpbpHtCCd2",
      "include_colab_link": true
    },
    "kernelspec": {
      "name": "python3",
      "display_name": "Python 3"
    },
    "language_info": {
      "name": "python"
    },
    "accelerator": "GPU",
    "gpuClass": "standard"
  },
  "cells": [
    {
      "cell_type": "markdown",
      "metadata": {
        "id": "view-in-github",
        "colab_type": "text"
      },
      "source": [
        "<a href=\"https://colab.research.google.com/github/Indian-otaku/Introduction_To_PyTorch/blob/main/LinearRegressionInPyTorch0.ipynb\" target=\"_parent\"><img src=\"https://colab.research.google.com/assets/colab-badge.svg\" alt=\"Open In Colab\"/></a>"
      ]
    },
    {
      "cell_type": "code",
      "execution_count": null,
      "metadata": {
        "id": "u8InhN75KUNZ"
      },
      "outputs": [],
      "source": [
        "import torch \n",
        "from torch import nn\n",
        "import matplotlib.pyplot as plt\n",
        "import numpy as np"
      ]
    },
    {
      "cell_type": "code",
      "source": [
        "class LinearRegression(nn.Module):\n",
        "    def __init__(self):\n",
        "        super().__init__()\n",
        "        self.weights = nn.Parameter(torch.randn(1,\n",
        "                                   requires_grad=True,\n",
        "                                   dtype=torch.float))\n",
        "        self.bias = nn.Parameter(torch.randn(1,\n",
        "                                requires_grad=True,\n",
        "                                dtype=torch.float))\n",
        "    \n",
        "    def forward(self, X):\n",
        "        return self.weights * X + self.bias\n"
      ],
      "metadata": {
        "id": "pDx-eOm2XMI9"
      },
      "execution_count": null,
      "outputs": []
    },
    {
      "cell_type": "code",
      "source": [
        "torch.manual_seed(48)\n",
        "\n",
        "X = torch.arange(1,51,1,dtype=torch.float).unsqueeze(dim=1) + torch.randint(low=-40, high=40, size=(50,1),dtype=torch.float)\n",
        "y = 4 * X + 2 + torch.randn(size=(50,1))\n",
        "\n",
        "X_train, y_train = X[:40], y[:40]\n",
        "X_test, y_test = X[40:], y[40:]\n",
        "\n",
        "X_test"
      ],
      "metadata": {
        "id": "5Gs-jojybf22",
        "colab": {
          "base_uri": "https://localhost:8080/"
        },
        "outputId": "520a6024-9899-4029-a0ec-ea47f51dd3d2"
      },
      "execution_count": null,
      "outputs": [
        {
          "output_type": "execute_result",
          "data": {
            "text/plain": [
              "tensor([[32.],\n",
              "        [44.],\n",
              "        [15.],\n",
              "        [69.],\n",
              "        [26.],\n",
              "        [44.],\n",
              "        [22.],\n",
              "        [40.],\n",
              "        [30.],\n",
              "        [86.]])"
            ]
          },
          "metadata": {},
          "execution_count": 59
        }
      ]
    },
    {
      "cell_type": "code",
      "source": [
        "model = LinearRegression()"
      ],
      "metadata": {
        "id": "cftUMuttYRyB"
      },
      "execution_count": null,
      "outputs": []
    },
    {
      "cell_type": "code",
      "source": [
        "loss_function = nn.L1Loss()\n",
        "optimizer = torch.optim.SGD(params=model.parameters(),\n",
        "                            lr=0.01)\n",
        "epochs = 1100\n",
        "\n",
        "for epoch in range(epochs):\n",
        "    # Training part\n",
        "    model.train()\n",
        "    y_pred_train = model(X_train)\n",
        "    loss_train = loss_function(y_pred_train, y_train)\n",
        "    model.zero_grad()\n",
        "    loss_train.backward()\n",
        "    optimizer.step()\n",
        "\n",
        "    if (epoch%100 == 0):\n",
        "        # Validation part\n",
        "        model.eval()\n",
        "        with torch.inference_mode():\n",
        "            y_pred_test = model(X_test)\n",
        "            loss_test = loss_function(y_pred_test, y_test)\n",
        "        \n",
        "        print(f\"Epoch: {epoch} | Train loss: {loss_train} | Test loss: {loss_test} | Parameters: {model.state_dict()}\")\n",
        "\n",
        "\n"
      ],
      "metadata": {
        "colab": {
          "base_uri": "https://localhost:8080/"
        },
        "id": "CJqGuSfpX4VJ",
        "outputId": "da838172-89a8-4500-ddb9-cc49fd975abb"
      },
      "execution_count": null,
      "outputs": [
        {
          "output_type": "stream",
          "name": "stdout",
          "text": [
            "Epoch: 0 | Train loss: 69.98072814941406 | Test loss: 93.16213989257812 | Parameters: OrderedDict([('weights', tensor([1.7122])), ('bias', tensor([2.0026]))])\n",
            "Epoch: 100 | Train loss: 3.408167600631714 | Test loss: 6.33937931060791 | Parameters: OrderedDict([('weights', tensor([3.8407])), ('bias', tensor([1.9826]))])\n",
            "Epoch: 200 | Train loss: 3.0774893760681152 | Test loss: 6.6836137771606445 | Parameters: OrderedDict([('weights', tensor([3.8337])), ('bias', tensor([1.9241]))])\n",
            "Epoch: 300 | Train loss: 2.8525257110595703 | Test loss: 7.027854919433594 | Parameters: OrderedDict([('weights', tensor([3.8267])), ('bias', tensor([1.8656]))])\n",
            "Epoch: 400 | Train loss: 2.847951889038086 | Test loss: 7.033674716949463 | Parameters: OrderedDict([('weights', tensor([3.8277])), ('bias', tensor([1.8191]))])\n",
            "Epoch: 500 | Train loss: 2.912170886993408 | Test loss: 6.935629844665527 | Parameters: OrderedDict([('weights', tensor([3.8307])), ('bias', tensor([1.7946]))])\n",
            "Epoch: 600 | Train loss: 2.953782320022583 | Test loss: 6.872278690338135 | Parameters: OrderedDict([('weights', tensor([3.8327])), ('bias', tensor([1.7761]))])\n",
            "Epoch: 700 | Train loss: 2.9953885078430176 | Test loss: 6.8089280128479 | Parameters: OrderedDict([('weights', tensor([3.8347])), ('bias', tensor([1.7576]))])\n",
            "Epoch: 800 | Train loss: 3.1435184478759766 | Test loss: 6.745581150054932 | Parameters: OrderedDict([('weights', tensor([3.8367])), ('bias', tensor([1.7391]))])\n",
            "Epoch: 900 | Train loss: 3.1850080490112305 | Test loss: 6.682231903076172 | Parameters: OrderedDict([('weights', tensor([3.8387])), ('bias', tensor([1.7206]))])\n",
            "Epoch: 1000 | Train loss: 3.1267940998077393 | Test loss: 6.607926845550537 | Parameters: OrderedDict([('weights', tensor([3.8407])), ('bias', tensor([1.7131]))])\n"
          ]
        }
      ]
    },
    {
      "cell_type": "code",
      "source": [
        "def plot_data(x_train=X_train.cpu(), y_train=y_train.cpu(), x_test=X_test.cpu(), y_test=y_test.cpu(), y_pred=None):\n",
        "    plt.scatter(x_train, y_train, c=\"r\", label=\"Training data\")\n",
        "    plt.scatter(x_test, y_test, c=\"b\", label=\"Testing data\")\n",
        "\n",
        "    if y_pred is not None:\n",
        "        plt.scatter(x_test, y_pred, c=\"g\", label=\"Predicted data\")\n",
        "    \n",
        "    plt.legend()\n",
        "    plt.show()\n",
        "        "
      ],
      "metadata": {
        "id": "scsQoGa4bMM3"
      },
      "execution_count": null,
      "outputs": []
    },
    {
      "cell_type": "code",
      "source": [
        "plot_data()"
      ],
      "metadata": {
        "colab": {
          "base_uri": "https://localhost:8080/",
          "height": 265
        },
        "id": "VEQHE_19dq9T",
        "outputId": "3085842e-5af6-4403-e7f8-48ba6b39c502"
      },
      "execution_count": null,
      "outputs": [
        {
          "output_type": "display_data",
          "data": {
            "text/plain": [
              "<Figure size 432x288 with 1 Axes>"
            ],
            "image/png": "[encoded data removed]"
          },
          "metadata": {
            "needs_background": "light"
          }
        }
      ]
    },
    {
      "cell_type": "code",
      "source": [
        "with torch.inference_mode():\n",
        "    predictions = model(X_test)\n",
        "    plot_data(y_pred=predictions)"
      ],
      "metadata": {
        "colab": {
          "base_uri": "https://localhost:8080/",
          "height": 265
        },
        "id": "XGy5fvIbfXtp",
        "outputId": "51c8b03b-5da1-42c1-baeb-95e32b1afd77"
      },
      "execution_count": null,
      "outputs": [
        {
          "output_type": "display_data",
          "data": {
            "text/plain": [
              "<Figure size 432x288 with 1 Axes>"
            ],
            "image/png": "[encoded data removed]"
          },
          "metadata": {
            "needs_background": "light"
          }
        }
      ]
    },
    {
      "cell_type": "code",
      "source": [
        "model.state_dict()"
      ],
      "metadata": {
        "colab": {
          "base_uri": "https://localhost:8080/"
        },
        "id": "nBBFwBwofwo-",
        "outputId": "6b4bdbbd-c5ce-4702-c3d5-7c41addcf751"
      },
      "execution_count": null,
      "outputs": [
        {
          "output_type": "execute_result",
          "data": {
            "text/plain": [
              "OrderedDict([('weights', tensor([4.1050])), ('bias', tensor([1.7191]))])"
            ]
          },
          "metadata": {},
          "execution_count": 65
        }
      ]
    },
    {
      "cell_type": "markdown",
      "source": [
        "# Create a model using inbuilt Linear layers"
      ],
      "metadata": {
        "id": "J3A5cdgEhEzc"
      }
    },
    {
      "cell_type": "code",
      "source": [
        "class LinearRegressionMod(nn.Module):\n",
        "    def __init__(self):\n",
        "        super().__init__()\n",
        "        self.linear_layer = nn.Linear(in_features=1,\n",
        "                                 out_features=1,\n",
        "                                 bias=True)\n",
        "    def forward(self, X: torch.Tensor)-> torch.Tensor:\n",
        "        return self.linear_layer(X)\n",
        "    "
      ],
      "metadata": {
        "id": "dONp9BNUe-Ze"
      },
      "execution_count": null,
      "outputs": []
    },
    {
      "cell_type": "code",
      "source": [
        "torch.manual_seed(42)\n",
        "\n",
        "model_Mod1 = LinearRegressionMod()\n",
        "model_Mod1.state_dict()"
      ],
      "metadata": {
        "colab": {
          "base_uri": "https://localhost:8080/"
        },
        "id": "lZq2C6LqflvY",
        "outputId": "87cf1533-4018-4424-c4f3-f1a45e341eab"
      },
      "execution_count": null,
      "outputs": [
        {
          "output_type": "execute_result",
          "data": {
            "text/plain": [
              "OrderedDict([('linear_layer.weight', tensor([[0.7645]])),\n",
              "             ('linear_layer.bias', tensor([0.8300]))])"
            ]
          },
          "metadata": {},
          "execution_count": 67
        }
      ]
    },
    {
      "cell_type": "code",
      "source": [
        "# Device agnostic code for model\n",
        "\n",
        "device = \"cuda\" if torch.cuda.is_available() else \"cpu\"\n",
        "model_Mod1.to(device)\n",
        "next(model_Mod1.parameters()).device"
      ],
      "metadata": {
        "colab": {
          "base_uri": "https://localhost:8080/"
        },
        "id": "ai63RXfDhDec",
        "outputId": "31803ee3-ed01-44b1-c41a-057d15390cb9"
      },
      "execution_count": null,
      "outputs": [
        {
          "output_type": "execute_result",
          "data": {
            "text/plain": [
              "device(type='cuda', index=0)"
            ]
          },
          "metadata": {},
          "execution_count": 68
        }
      ]
    },
    {
      "cell_type": "code",
      "source": [
        "# Device agnostic code for data\n",
        "\n",
        "X_train = X_train.to(device)\n",
        "X_test = X_test.to(device)\n",
        "y_train = y_train.to(device)\n",
        "y_test = y_test.to(device)"
      ],
      "metadata": {
        "id": "1S1y6a-WqHaK"
      },
      "execution_count": null,
      "outputs": []
    },
    {
      "cell_type": "code",
      "source": [
        "# Loss function and optimizer\n",
        "\n",
        "loss_fn = nn.L1Loss()\n",
        "\n",
        "optimizer = torch.optim.SGD(params=model_Mod1.parameters(),\n",
        "                            lr=0.001)\n",
        "\n",
        "optimizer.state_dict()"
      ],
      "metadata": {
        "colab": {
          "base_uri": "https://localhost:8080/"
        },
        "id": "cbOH6vzRnOpx",
        "outputId": "3bccb3da-78fc-4328-a5de-34d8ae1f8301"
      },
      "execution_count": null,
      "outputs": [
        {
          "output_type": "execute_result",
          "data": {
            "text/plain": [
              "{'state': {},\n",
              " 'param_groups': [{'lr': 0.001,\n",
              "   'momentum': 0,\n",
              "   'dampening': 0,\n",
              "   'weight_decay': 0,\n",
              "   'nesterov': False,\n",
              "   'maximize': False,\n",
              "   'foreach': None,\n",
              "   'differentiable': False,\n",
              "   'params': [0, 1]}]}"
            ]
          },
          "metadata": {},
          "execution_count": 70
        }
      ]
    },
    {
      "cell_type": "code",
      "source": [
        "# Training and testing loop\n",
        "\n",
        "torch.manual_seed(42)\n",
        "epochs = 300\n",
        "\n",
        "for epoch in range(epochs):\n",
        "    # Training \n",
        "    model_Mod1.train()\n",
        "\n",
        "    # Forward pass\n",
        "    y_preds_train = model_Mod1(X_train)\n",
        "\n",
        "    # Calculating loss function\n",
        "    loss_train = loss_fn(y_preds_train, y_train)\n",
        "\n",
        "    # Clearing gradiets\n",
        "    model_Mod1.zero_grad()\n",
        "\n",
        "    # Backward pass\n",
        "    loss_train.backward()\n",
        "\n",
        "    # Gradient descent \n",
        "    optimizer.step()\n",
        "\n",
        "    # Evaluating\n",
        "    if (epoch%25 == 0):\n",
        "        model_Mod1.eval()\n",
        "        with torch.inference_mode():\n",
        "            y_preds_test = model_Mod1(X_test)\n",
        "        \n",
        "        print(f\"|Epoch:{epoch} |Train loss:{loss_train} |Test loss:{loss_test} |Parameters:{model_Mod1.state_dict()}\")"
      ],
      "metadata": {
        "colab": {
          "base_uri": "https://localhost:8080/"
        },
        "id": "m99BgQvgmw6w",
        "outputId": "86ee33a6-6524-42d4-b994-fbdf997d35a6"
      },
      "execution_count": null,
      "outputs": [
        {
          "output_type": "stream",
          "name": "stdout",
          "text": [
            "|Epoch:0 |Train loss:89.09160614013672 |Test loss:6.607926845550537 |Parameters:OrderedDict([('linear_layer.weight', tensor([[0.7920]], device='cuda:0')), ('linear_layer.bias', tensor([0.8306], device='cuda:0'))])\n",
            "|Epoch:25 |Train loss:70.2793197631836 |Test loss:6.607926845550537 |Parameters:OrderedDict([('linear_layer.weight', tensor([[1.4776]], device='cuda:0')), ('linear_layer.bias', tensor([0.8456], device='cuda:0'))])\n",
            "|Epoch:50 |Train loss:51.46841049194336 |Test loss:6.607926845550537 |Parameters:OrderedDict([('linear_layer.weight', tensor([[2.1632]], device='cuda:0')), ('linear_layer.bias', tensor([0.8594], device='cuda:0'))])\n",
            "|Epoch:75 |Train loss:32.65754318237305 |Test loss:6.607926845550537 |Parameters:OrderedDict([('linear_layer.weight', tensor([[2.8488]], device='cuda:0')), ('linear_layer.bias', tensor([0.8731], device='cuda:0'))])\n",
            "|Epoch:100 |Train loss:13.880515098571777 |Test loss:6.607926845550537 |Parameters:OrderedDict([('linear_layer.weight', tensor([[3.5337]], device='cuda:0')), ('linear_layer.bias', tensor([0.8871], device='cuda:0'))])\n",
            "|Epoch:125 |Train loss:0.8284743428230286 |Test loss:6.607926845550537 |Parameters:OrderedDict([('linear_layer.weight', tensor([[4.0118]], device='cuda:0')), ('linear_layer.bias', tensor([0.9018], device='cuda:0'))])\n",
            "|Epoch:150 |Train loss:0.8280650973320007 |Test loss:6.607926845550537 |Parameters:OrderedDict([('linear_layer.weight', tensor([[4.0107]], device='cuda:0')), ('linear_layer.bias', tensor([0.9080], device='cuda:0'))])\n",
            "|Epoch:175 |Train loss:0.8250247836112976 |Test loss:6.607926845550537 |Parameters:OrderedDict([('linear_layer.weight', tensor([[4.0138]], device='cuda:0')), ('linear_layer.bias', tensor([0.9144], device='cuda:0'))])\n",
            "|Epoch:200 |Train loss:0.8250762820243835 |Test loss:6.607926845550537 |Parameters:OrderedDict([('linear_layer.weight', tensor([[4.0106]], device='cuda:0')), ('linear_layer.bias', tensor([0.9206], device='cuda:0'))])\n",
            "|Epoch:225 |Train loss:0.8217383623123169 |Test loss:6.607926845550537 |Parameters:OrderedDict([('linear_layer.weight', tensor([[4.0136]], device='cuda:0')), ('linear_layer.bias', tensor([0.9269], device='cuda:0'))])\n",
            "|Epoch:250 |Train loss:0.8203176856040955 |Test loss:6.607926845550537 |Parameters:OrderedDict([('linear_layer.weight', tensor([[4.0110]], device='cuda:0')), ('linear_layer.bias', tensor([0.9332], device='cuda:0'))])\n",
            "|Epoch:275 |Train loss:0.818452000617981 |Test loss:6.607926845550537 |Parameters:OrderedDict([('linear_layer.weight', tensor([[4.0135]], device='cuda:0')), ('linear_layer.bias', tensor([0.9395], device='cuda:0'))])\n"
          ]
        }
      ]
    },
    {
      "cell_type": "code",
      "source": [
        "with torch.inference_mode():\n",
        "    preds = model_Mod1(X_test)\n",
        "    plot_data(y_pred=preds.cpu())"
      ],
      "metadata": {
        "colab": {
          "base_uri": "https://localhost:8080/",
          "height": 265
        },
        "id": "h2P4FXxYgAei",
        "outputId": "e52ab965-b39e-440c-db54-b502dac94882"
      },
      "execution_count": null,
      "outputs": [
        {
          "output_type": "display_data",
          "data": {
            "text/plain": [
              "<Figure size 432x288 with 1 Axes>"
            ],
            "image/png": "[encoded data removed]"
          },
          "metadata": {
            "needs_background": "light"
          }
        }
      ]
    },
    {
      "cell_type": "code",
      "source": [
        "preds"
      ],
      "metadata": {
        "colab": {
          "base_uri": "https://localhost:8080/"
        },
        "id": "SxxIGtQsg3Y3",
        "outputId": "0d4b237f-f7e1-4ed3-e4c6-0d8ca25c6941"
      },
      "execution_count": null,
      "outputs": [
        {
          "output_type": "execute_result",
          "data": {
            "text/plain": [
              "tensor([[129.3728],\n",
              "        [177.5330],\n",
              "        [ 61.1458],\n",
              "        [277.8668],\n",
              "        [105.2927],\n",
              "        [177.5330],\n",
              "        [ 89.2393],\n",
              "        [161.4796],\n",
              "        [121.3461],\n",
              "        [346.0938]], device='cuda:0')"
            ]
          },
          "metadata": {},
          "execution_count": 73
        }
      ]
    },
    {
      "cell_type": "markdown",
      "source": [
        "# Saving model and then loading it"
      ],
      "metadata": {
        "id": "BqGolOVqrR8I"
      }
    },
    {
      "cell_type": "code",
      "source": [
        "from pathlib import Path\n",
        "\n",
        "model_path = Path(\"Saved_Model\")\n",
        "model_path.mkdir(parents=True, exist_ok=True)\n",
        "\n",
        "model_name = \"Model1.pth\"\n",
        "full_model_path = model_path / model_name"
      ],
      "metadata": {
        "id": "cjg9Pgc7tHmR"
      },
      "execution_count": null,
      "outputs": []
    },
    {
      "cell_type": "code",
      "source": [
        "# Saving \n",
        "torch.save(obj=model_Mod1.state_dict(),\n",
        "           f=full_model_path)"
      ],
      "metadata": {
        "id": "--OxHDzityB3"
      },
      "execution_count": null,
      "outputs": []
    },
    {
      "cell_type": "code",
      "source": [
        "# Loading \n",
        "model_Mod2 = LinearRegressionMod()\n",
        "model_Mod2.load_state_dict(state_dict=torch.load(f=full_model_path))"
      ],
      "metadata": {
        "colab": {
          "base_uri": "https://localhost:8080/"
        },
        "id": "WZdiz-nduCzK",
        "outputId": "8ac7cad6-822a-4171-a603-ba3dc83a9605"
      },
      "execution_count": null,
      "outputs": [
        {
          "output_type": "execute_result",
          "data": {
            "text/plain": [
              "<All keys matched successfully>"
            ]
          },
          "metadata": {},
          "execution_count": 91
        }
      ]
    },
    {
      "cell_type": "code",
      "source": [
        "model_Mod2.to(device)"
      ],
      "metadata": {
        "colab": {
          "base_uri": "https://localhost:8080/"
        },
        "id": "0nrDPJ0WuyRw",
        "outputId": "99e7bf15-ec49-42cd-b87d-f8b0de00a951"
      },
      "execution_count": null,
      "outputs": [
        {
          "output_type": "execute_result",
          "data": {
            "text/plain": [
              "LinearRegressionMod(\n",
              "  (linear_layer): Linear(in_features=1, out_features=1, bias=True)\n",
              ")"
            ]
          },
          "metadata": {},
          "execution_count": 93
        }
      ]
    },
    {
      "cell_type": "code",
      "source": [
        "model_Mod2.eval()\n",
        "with torch.inference_mode():\n",
        "    new_preds = model_Mod2(X_test)\n",
        "\n",
        "(preds == new_preds).all()"
      ],
      "metadata": {
        "colab": {
          "base_uri": "https://localhost:8080/"
        },
        "id": "RfYGt7ctvuVB",
        "outputId": "bae22455-f2dc-4f99-d1f5-a9f7f736ace8"
      },
      "execution_count": null,
      "outputs": [
        {
          "output_type": "execute_result",
          "data": {
            "text/plain": [
              "tensor(True, device='cuda:0')"
            ]
          },
          "metadata": {},
          "execution_count": 94
        }
      ]
    },
    {
      "cell_type": "code",
      "source": [
        "import io\n",
        "with open(full_model_path, 'rb') as f:\n",
        "    # buffer = io.BytesIO(f.read())\n",
        "    buffer = io.BytesIO(f.read())\n",
        "    print(buffer"
      ],
      "metadata": {
        "colab": {
          "base_uri": "https://localhost:8080/",
          "height": 203
        },
        "id": "ZpLZ4pNUxUjw",
        "outputId": "f09a7dc2-3310-4d92-d950-854c2647ac76"
      },
      "execution_count": null,
      "outputs": [
        {
          "output_type": "error",
          "ename": "AttributeError",
          "evalue": "ignored",
          "traceback": [
            "\u001b[0;31m---------------------------------------------------------------------------\u001b[0m",
            "\u001b[0;31mAttributeError\u001b[0m                            Traceback (most recent call last)",
            "\u001b[0;32m<ipython-input-100-270a4b4138b0>\u001b[0m in \u001b[0;36m<module>\u001b[0;34m\u001b[0m\n\u001b[1;32m      3\u001b[0m     \u001b[0;31m# buffer = io.BytesIO(f.read())\u001b[0m\u001b[0;34m\u001b[0m\u001b[0;34m\u001b[0m\u001b[0;34m\u001b[0m\u001b[0m\n\u001b[1;32m      4\u001b[0m     \u001b[0mbuffer\u001b[0m \u001b[0;34m=\u001b[0m \u001b[0mio\u001b[0m\u001b[0;34m.\u001b[0m\u001b[0mBytesIO\u001b[0m\u001b[0;34m(\u001b[0m\u001b[0mf\u001b[0m\u001b[0;34m.\u001b[0m\u001b[0mread\u001b[0m\u001b[0;34m(\u001b[0m\u001b[0;34m)\u001b[0m\u001b[0;34m)\u001b[0m\u001b[0;34m\u001b[0m\u001b[0;34m\u001b[0m\u001b[0m\n\u001b[0;32m----> 5\u001b[0;31m     \u001b[0mprint\u001b[0m\u001b[0;34m(\u001b[0m\u001b[0mbuffer\u001b[0m\u001b[0;34m.\u001b[0m\u001b[0mitem\u001b[0m\u001b[0;34m(\u001b[0m\u001b[0;34m)\u001b[0m\u001b[0;34m)\u001b[0m\u001b[0;34m\u001b[0m\u001b[0;34m\u001b[0m\u001b[0m\n\u001b[0m",
            "\u001b[0;31mAttributeError\u001b[0m: '_io.BytesIO' object has no attribute 'item'"
          ]
        }
      ]
    },
    {
      "cell_type": "code",
      "source": [],
      "metadata": {
        "id": "k0RZDjgQ6G0O"
      },
      "execution_count": null,
      "outputs": []
    }
  ]
}