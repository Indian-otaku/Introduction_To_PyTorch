{
  "nbformat": 4,
  "nbformat_minor": 0,
  "metadata": {
    "colab": {
      "provenance": [],
      "authorship_tag": "ABX9TyNJzLV+ULDGL1yrxu3y+1bn",
      "include_colab_link": true
    },
    "kernelspec": {
      "name": "python3",
      "display_name": "Python 3"
    },
    "language_info": {
      "name": "python"
    },
    "accelerator": "GPU",
    "gpuClass": "standard",
    "widgets": {
      "application/vnd.jupyter.widget-state+json": {
        "dce4def8411044cf9317c418927bab5c": {
          "model_module": "@jupyter-widgets/controls",
          "model_name": "HBoxModel",
          "model_module_version": "1.5.0",
          "state": {
            "_dom_classes": [],
            "_model_module": "@jupyter-widgets/controls",
            "_model_module_version": "1.5.0",
            "_model_name": "HBoxModel",
            "_view_count": null,
            "_view_module": "@jupyter-widgets/controls",
            "_view_module_version": "1.5.0",
            "_view_name": "HBoxView",
            "box_style": "",
            "children": [
              "IPY_MODEL_d8d6c7d053c44c228a6e30b9e8f88ce2",
              "IPY_MODEL_982c22c8e48a45298fac35ff66dccf13",
              "IPY_MODEL_b4e11d89c74e4b5eaec1fbc83c2a7963"
            ],
            "layout": "IPY_MODEL_8d1264e990fd450a931115679a737208"
          }
        },
        "d8d6c7d053c44c228a6e30b9e8f88ce2": {
          "model_module": "@jupyter-widgets/controls",
          "model_name": "HTMLModel",
          "model_module_version": "1.5.0",
          "state": {
            "_dom_classes": [],
            "_model_module": "@jupyter-widgets/controls",
            "_model_module_version": "1.5.0",
            "_model_name": "HTMLModel",
            "_view_count": null,
            "_view_module": "@jupyter-widgets/controls",
            "_view_module_version": "1.5.0",
            "_view_name": "HTMLView",
            "description": "",
            "description_tooltip": null,
            "layout": "IPY_MODEL_7f13f05526094ae29ac82e96d328ff0d",
            "placeholder": "​",
            "style": "IPY_MODEL_fdefd5b1f1c246eeaf94586ea5a8af58",
            "value": "100%"
          }
        },
        "982c22c8e48a45298fac35ff66dccf13": {
          "model_module": "@jupyter-widgets/controls",
          "model_name": "FloatProgressModel",
          "model_module_version": "1.5.0",
          "state": {
            "_dom_classes": [],
            "_model_module": "@jupyter-widgets/controls",
            "_model_module_version": "1.5.0",
            "_model_name": "FloatProgressModel",
            "_view_count": null,
            "_view_module": "@jupyter-widgets/controls",
            "_view_module_version": "1.5.0",
            "_view_name": "ProgressView",
            "bar_style": "success",
            "description": "",
            "description_tooltip": null,
            "layout": "IPY_MODEL_32a84d1c6bb348eebb7f843095ad0e2f",
            "max": 3,
            "min": 0,
            "orientation": "horizontal",
            "style": "IPY_MODEL_a00d8a93c802468fa7a1fe9b03523f66",
            "value": 3
          }
        },
        "b4e11d89c74e4b5eaec1fbc83c2a7963": {
          "model_module": "@jupyter-widgets/controls",
          "model_name": "HTMLModel",
          "model_module_version": "1.5.0",
          "state": {
            "_dom_classes": [],
            "_model_module": "@jupyter-widgets/controls",
            "_model_module_version": "1.5.0",
            "_model_name": "HTMLModel",
            "_view_count": null,
            "_view_module": "@jupyter-widgets/controls",
            "_view_module_version": "1.5.0",
            "_view_name": "HTMLView",
            "description": "",
            "description_tooltip": null,
            "layout": "IPY_MODEL_53daaec99e61487c8439ae52a6126047",
            "placeholder": "​",
            "style": "IPY_MODEL_0f0b991af9bd41f0a37cb8b1c1537fb9",
            "value": " 3/3 [00:37&lt;00:00, 12.50s/it]"
          }
        },
        "8d1264e990fd450a931115679a737208": {
          "model_module": "@jupyter-widgets/base",
          "model_name": "LayoutModel",
          "model_module_version": "1.2.0",
          "state": {
            "_model_module": "@jupyter-widgets/base",
            "_model_module_version": "1.2.0",
            "_model_name": "LayoutModel",
            "_view_count": null,
            "_view_module": "@jupyter-widgets/base",
            "_view_module_version": "1.2.0",
            "_view_name": "LayoutView",
            "align_content": null,
            "align_items": null,
            "align_self": null,
            "border": null,
            "bottom": null,
            "display": null,
            "flex": null,
            "flex_flow": null,
            "grid_area": null,
            "grid_auto_columns": null,
            "grid_auto_flow": null,
            "grid_auto_rows": null,
            "grid_column": null,
            "grid_gap": null,
            "grid_row": null,
            "grid_template_areas": null,
            "grid_template_columns": null,
            "grid_template_rows": null,
            "height": null,
            "justify_content": null,
            "justify_items": null,
            "left": null,
            "margin": null,
            "max_height": null,
            "max_width": null,
            "min_height": null,
            "min_width": null,
            "object_fit": null,
            "object_position": null,
            "order": null,
            "overflow": null,
            "overflow_x": null,
            "overflow_y": null,
            "padding": null,
            "right": null,
            "top": null,
            "visibility": null,
            "width": null
          }
        },
        "7f13f05526094ae29ac82e96d328ff0d": {
          "model_module": "@jupyter-widgets/base",
          "model_name": "LayoutModel",
          "model_module_version": "1.2.0",
          "state": {
            "_model_module": "@jupyter-widgets/base",
            "_model_module_version": "1.2.0",
            "_model_name": "LayoutModel",
            "_view_count": null,
            "_view_module": "@jupyter-widgets/base",
            "_view_module_version": "1.2.0",
            "_view_name": "LayoutView",
            "align_content": null,
            "align_items": null,
            "align_self": null,
            "border": null,
            "bottom": null,
            "display": null,
            "flex": null,
            "flex_flow": null,
            "grid_area": null,
            "grid_auto_columns": null,
            "grid_auto_flow": null,
            "grid_auto_rows": null,
            "grid_column": null,
            "grid_gap": null,
            "grid_row": null,
            "grid_template_areas": null,
            "grid_template_columns": null,
            "grid_template_rows": null,
            "height": null,
            "justify_content": null,
            "justify_items": null,
            "left": null,
            "margin": null,
            "max_height": null,
            "max_width": null,
            "min_height": null,
            "min_width": null,
            "object_fit": null,
            "object_position": null,
            "order": null,
            "overflow": null,
            "overflow_x": null,
            "overflow_y": null,
            "padding": null,
            "right": null,
            "top": null,
            "visibility": null,
            "width": null
          }
        },
        "fdefd5b1f1c246eeaf94586ea5a8af58": {
          "model_module": "@jupyter-widgets/controls",
          "model_name": "DescriptionStyleModel",
          "model_module_version": "1.5.0",
          "state": {
            "_model_module": "@jupyter-widgets/controls",
            "_model_module_version": "1.5.0",
            "_model_name": "DescriptionStyleModel",
            "_view_count": null,
            "_view_module": "@jupyter-widgets/base",
            "_view_module_version": "1.2.0",
            "_view_name": "StyleView",
            "description_width": ""
          }
        },
        "32a84d1c6bb348eebb7f843095ad0e2f": {
          "model_module": "@jupyter-widgets/base",
          "model_name": "LayoutModel",
          "model_module_version": "1.2.0",
          "state": {
            "_model_module": "@jupyter-widgets/base",
            "_model_module_version": "1.2.0",
            "_model_name": "LayoutModel",
            "_view_count": null,
            "_view_module": "@jupyter-widgets/base",
            "_view_module_version": "1.2.0",
            "_view_name": "LayoutView",
            "align_content": null,
            "align_items": null,
            "align_self": null,
            "border": null,
            "bottom": null,
            "display": null,
            "flex": null,
            "flex_flow": null,
            "grid_area": null,
            "grid_auto_columns": null,
            "grid_auto_flow": null,
            "grid_auto_rows": null,
            "grid_column": null,
            "grid_gap": null,
            "grid_row": null,
            "grid_template_areas": null,
            "grid_template_columns": null,
            "grid_template_rows": null,
            "height": null,
            "justify_content": null,
            "justify_items": null,
            "left": null,
            "margin": null,
            "max_height": null,
            "max_width": null,
            "min_height": null,
            "min_width": null,
            "object_fit": null,
            "object_position": null,
            "order": null,
            "overflow": null,
            "overflow_x": null,
            "overflow_y": null,
            "padding": null,
            "right": null,
            "top": null,
            "visibility": null,
            "width": null
          }
        },
        "a00d8a93c802468fa7a1fe9b03523f66": {
          "model_module": "@jupyter-widgets/controls",
          "model_name": "ProgressStyleModel",
          "model_module_version": "1.5.0",
          "state": {
            "_model_module": "@jupyter-widgets/controls",
            "_model_module_version": "1.5.0",
            "_model_name": "ProgressStyleModel",
            "_view_count": null,
            "_view_module": "@jupyter-widgets/base",
            "_view_module_version": "1.2.0",
            "_view_name": "StyleView",
            "bar_color": null,
            "description_width": ""
          }
        },
        "53daaec99e61487c8439ae52a6126047": {
          "model_module": "@jupyter-widgets/base",
          "model_name": "LayoutModel",
          "model_module_version": "1.2.0",
          "state": {
            "_model_module": "@jupyter-widgets/base",
            "_model_module_version": "1.2.0",
            "_model_name": "LayoutModel",
            "_view_count": null,
            "_view_module": "@jupyter-widgets/base",
            "_view_module_version": "1.2.0",
            "_view_name": "LayoutView",
            "align_content": null,
            "align_items": null,
            "align_self": null,
            "border": null,
            "bottom": null,
            "display": null,
            "flex": null,
            "flex_flow": null,
            "grid_area": null,
            "grid_auto_columns": null,
            "grid_auto_flow": null,
            "grid_auto_rows": null,
            "grid_column": null,
            "grid_gap": null,
            "grid_row": null,
            "grid_template_areas": null,
            "grid_template_columns": null,
            "grid_template_rows": null,
            "height": null,
            "justify_content": null,
            "justify_items": null,
            "left": null,
            "margin": null,
            "max_height": null,
            "max_width": null,
            "min_height": null,
            "min_width": null,
            "object_fit": null,
            "object_position": null,
            "order": null,
            "overflow": null,
            "overflow_x": null,
            "overflow_y": null,
            "padding": null,
            "right": null,
            "top": null,
            "visibility": null,
            "width": null
          }
        },
        "0f0b991af9bd41f0a37cb8b1c1537fb9": {
          "model_module": "@jupyter-widgets/controls",
          "model_name": "DescriptionStyleModel",
          "model_module_version": "1.5.0",
          "state": {
            "_model_module": "@jupyter-widgets/controls",
            "_model_module_version": "1.5.0",
            "_model_name": "DescriptionStyleModel",
            "_view_count": null,
            "_view_module": "@jupyter-widgets/base",
            "_view_module_version": "1.2.0",
            "_view_name": "StyleView",
            "description_width": ""
          }
        }
      }
    }
  },
  "cells": [
    {
      "cell_type": "markdown",
      "metadata": {
        "id": "view-in-github",
        "colab_type": "text"
      },
      "source": [
        "<a href=\"https://colab.research.google.com/github/Indian-otaku/Introduction_To_PyTorch/blob/main/torchvision3.ipynb\" target=\"_parent\"><img src=\"https://colab.research.google.com/assets/colab-badge.svg\" alt=\"Open In Colab\"/></a>"
      ]
    },
    {
      "cell_type": "markdown",
      "source": [
        "## Import all necessary modules"
      ],
      "metadata": {
        "id": "EtTrFnS9H_oT"
      }
    },
    {
      "cell_type": "code",
      "source": [
        "import torch\n",
        "from torch import nn\n",
        "from torch.utils.data import DataLoader\n",
        "import torchvision\n",
        "import matplotlib.pyplot as plt\n",
        "from torchvision.datasets import FashionMNIST\n",
        "\n",
        "torch.manual_seed(42)"
      ],
      "metadata": {
        "colab": {
          "base_uri": "https://localhost:8080/"
        },
        "id": "vwfk_yRZJM6p",
        "outputId": "07efbb50-0af5-436e-a713-c45e658e999b"
      },
      "execution_count": null,
      "outputs": [
        {
          "output_type": "execute_result",
          "data": {
            "text/plain": [
              "<torch._C.Generator at 0x7fbc61ec7930>"
            ]
          },
          "metadata": {},
          "execution_count": 13
        }
      ]
    },
    {
      "cell_type": "code",
      "source": [
        "device = \"cuda\" if torch.cuda.is_available() else \"cpu\"\n",
        "device"
      ],
      "metadata": {
        "colab": {
          "base_uri": "https://localhost:8080/",
          "height": 36
        },
        "id": "EOLHdBjBRXfl",
        "outputId": "92469657-6d53-4df3-8cd6-b7700625b01f"
      },
      "execution_count": null,
      "outputs": [
        {
          "output_type": "execute_result",
          "data": {
            "text/plain": [
              "'cuda'"
            ],
            "application/vnd.google.colaboratory.intrinsic+json": {
              "type": "string"
            }
          },
          "metadata": {},
          "execution_count": 14
        }
      ]
    },
    {
      "cell_type": "code",
      "source": [
        "train_data = FashionMNIST(root='data',\n",
        "                          train=True,\n",
        "                          transform=torchvision.transforms.ToTensor(),\n",
        "                          target_transform=None,\n",
        "                          download=True)\n",
        "test_data = FashionMNIST(root='data',\n",
        "                         train=False,\n",
        "                         transform=torchvision.transforms.ToTensor(),\n",
        "                         target_transform=None,\n",
        "                         download=True)\n",
        "train_data"
      ],
      "metadata": {
        "colab": {
          "base_uri": "https://localhost:8080/"
        },
        "id": "Yr0JyEMaJOM-",
        "outputId": "55e6d82d-6953-432a-e1db-0ce9fd5421de"
      },
      "execution_count": null,
      "outputs": [
        {
          "output_type": "execute_result",
          "data": {
            "text/plain": [
              "Dataset FashionMNIST\n",
              "    Number of datapoints: 60000\n",
              "    Root location: data\n",
              "    Split: Train\n",
              "    StandardTransform\n",
              "Transform: ToTensor()"
            ]
          },
          "metadata": {},
          "execution_count": 15
        }
      ]
    },
    {
      "cell_type": "code",
      "source": [
        "type(train_data)"
      ],
      "metadata": {
        "colab": {
          "base_uri": "https://localhost:8080/"
        },
        "id": "6NvcRvaFNEu4",
        "outputId": "f275965d-273b-49b3-b0a6-d3a9eceed172"
      },
      "execution_count": null,
      "outputs": [
        {
          "output_type": "execute_result",
          "data": {
            "text/plain": [
              "torchvision.datasets.mnist.FashionMNIST"
            ]
          },
          "metadata": {},
          "execution_count": 16
        }
      ]
    },
    {
      "cell_type": "code",
      "source": [
        "row = 3\n",
        "col = 3\n",
        "\n",
        "plt.figure(figsize=(8,9))\n",
        "for i in range(1, row*col+1):\n",
        "    rand_index = torch.randint(0, len(train_data), size=[1]).item()\n",
        "    image, label = train_data[rand_index]\n",
        "    plt.subplot(row, col, i)\n",
        "    plt.imshow(image.squeeze(),\n",
        "               cmap='gray')\n",
        "    plt.title(train_data.classes[label])\n",
        "    plt.axis(False)"
      ],
      "metadata": {
        "colab": {
          "base_uri": "https://localhost:8080/",
          "height": 524
        },
        "id": "v_4krTKBNYXI",
        "outputId": "755f48e4-daee-42d9-b911-01a31a3c1354"
      },
      "execution_count": null,
      "outputs": [
        {
          "output_type": "display_data",
          "data": {
            "text/plain": [
              "<Figure size 576x648 with 9 Axes>"
            ],
            "image/png": "[encoded data removed]"
          },
          "metadata": {
            "needs_background": "light"
          }
        }
      ]
    },
    {
      "cell_type": "code",
      "source": [
        "BATCH_SIZE = 32\n",
        "\n",
        "train_data_loader = DataLoader(dataset=train_data,\n",
        "                               shuffle=True,\n",
        "                               batch_size=BATCH_SIZE)\n",
        "test_data_loader = DataLoader(dataset=test_data,\n",
        "                              shuffle=False,\n",
        "                              batch_size=BATCH_SIZE)\n",
        "train_data_loader"
      ],
      "metadata": {
        "colab": {
          "base_uri": "https://localhost:8080/"
        },
        "id": "4MRvVcWMO9Hp",
        "outputId": "bec5e7ce-8530-4a86-ba65-ee2ed007f91e"
      },
      "execution_count": null,
      "outputs": [
        {
          "output_type": "execute_result",
          "data": {
            "text/plain": [
              "<torch.utils.data.dataloader.DataLoader at 0x7fbbb774cd30>"
            ]
          },
          "metadata": {},
          "execution_count": 18
        }
      ]
    },
    {
      "cell_type": "code",
      "source": [
        "train_data_loader.dataset"
      ],
      "metadata": {
        "colab": {
          "base_uri": "https://localhost:8080/"
        },
        "id": "i1maiqelP76C",
        "outputId": "0d2ef952-0c37-4235-adfa-eda1c3d9f6bc"
      },
      "execution_count": null,
      "outputs": [
        {
          "output_type": "execute_result",
          "data": {
            "text/plain": [
              "Dataset FashionMNIST\n",
              "    Number of datapoints: 60000\n",
              "    Root location: data\n",
              "    Split: Train\n",
              "    StandardTransform\n",
              "Transform: ToTensor()"
            ]
          },
          "metadata": {},
          "execution_count": 19
        }
      ]
    },
    {
      "cell_type": "code",
      "source": [
        "class FMNISTModel(nn.Module):\n",
        "    def __init__(self, n_inputs, n_hidden, n_outputs):\n",
        "        super().__init__()\n",
        "        self.layer_stack = nn.Sequential(\n",
        "            nn.Flatten(),\n",
        "            nn.Linear(in_features=n_inputs,\n",
        "                      out_features=n_hidden,\n",
        "                      bias=True,\n",
        "                      device=device,\n",
        "                      dtype=torch.float),\n",
        "            nn.ReLU(),\n",
        "            nn.Linear(in_features=n_hidden,\n",
        "                      out_features=n_outputs,\n",
        "                      bias=True,\n",
        "                      device=device,\n",
        "                      dtype=torch.float),\n",
        "            nn.ReLU()\n",
        "        )\n",
        "    def forward(self, x):\n",
        "        return self.layer_stack(x)"
      ],
      "metadata": {
        "id": "SIhzJYMzQhwF"
      },
      "execution_count": null,
      "outputs": []
    },
    {
      "cell_type": "code",
      "source": [
        "torch.manual_seed(42)\n",
        "\n",
        "model1 = FMNISTModel(n_inputs=28*28,\n",
        "                     n_hidden=10,\n",
        "                     n_outputs=len(train_data_loader.dataset.classes)).to(device)\n",
        "model1"
      ],
      "metadata": {
        "colab": {
          "base_uri": "https://localhost:8080/"
        },
        "id": "tKtcV0pnSdHn",
        "outputId": "a45da8d0-129c-401f-e73c-ac6bf55834db"
      },
      "execution_count": null,
      "outputs": [
        {
          "output_type": "execute_result",
          "data": {
            "text/plain": [
              "FMNISTModel(\n",
              "  (layer_stack): Sequential(\n",
              "    (0): Flatten(start_dim=1, end_dim=-1)\n",
              "    (1): Linear(in_features=784, out_features=10, bias=True)\n",
              "    (2): ReLU()\n",
              "    (3): Linear(in_features=10, out_features=10, bias=True)\n",
              "    (4): ReLU()\n",
              "  )\n",
              ")"
            ]
          },
          "metadata": {},
          "execution_count": 21
        }
      ]
    },
    {
      "cell_type": "code",
      "source": [
        "def accuracy_fn(y_pred, y_true):\n",
        "    return (y_pred==y_true).sum().item() / len(y_pred)\n",
        "\n",
        "loss_fn = nn.CrossEntropyLoss()\n",
        "\n",
        "optimizer = torch.optim.SGD(params=model1.parameters(),\n",
        "                            lr=0.1)"
      ],
      "metadata": {
        "id": "ODd7_HN9QBb7"
      },
      "execution_count": null,
      "outputs": []
    },
    {
      "cell_type": "markdown",
      "source": [
        "\n",
        "\n",
        "# Not gonna use this \n",
        "def training(model:torch.nn.Module,\n",
        "             data_loader:torch.utils.data.DataLoader,\n",
        "             epochs:int,\n",
        "             loss_fn:torch.nn.Module,\n",
        "             accuracy_fn,\n",
        "             optimizer:torch.optim.SGD,\n",
        "             device:torch.device = device):\n",
        "    \n",
        "    start_time = default_timer()\n",
        "\n",
        "    model = model.to(device)\n",
        "\n",
        "    model.train()\n",
        "    for epoch in tqdm(range(epochs)):\n",
        "        train_loss = 0\n",
        "        train_acc = 0\n",
        "        for batch, (X_train, y_train) in enumerate(data_loader):\n",
        "            X_train = X_train.to(device)\n",
        "            y_train = y_train.to(device)\n",
        "\n",
        "            y_pred = model(X_train)\n",
        "            loss = loss_fn(y_pred, y_train)\n",
        "            train_loss += loss\n",
        "\n",
        "            acc = accuracy_fn(y_pred.argmax(dim=1), y_train)\n",
        "            train_acc += acc\n",
        "\n",
        "            model.zero_grad()\n",
        "            loss.backward()\n",
        "            optimizer.step()\n",
        "        train_loss /= len(data_loader)\n",
        "        train_acc /= len(data_loader)\n",
        "        print(f\"Train loss: {train_loss:.3f} accuracy: {train_acc*100:.3f}\")\n",
        "    \n",
        "    end_time = default_timer()\n",
        "\n",
        "    total_time = end_time - start_time\n",
        "\n",
        "    return {\"Model name\": model.__class__.__name__,\n",
        "            \"Average accuracy\": train_acc,\n",
        "            \"Average loss\": train_acc,\n",
        "            \"Total time taken\": total_time}\n",
        "\n"
      ],
      "metadata": {
        "id": "ShVHhNSLS4Zu"
      }
    },
    {
      "cell_type": "code",
      "source": [
        "def training_step(model:torch.nn.Module,\n",
        "             data_loader:torch.utils.data.DataLoader,\n",
        "             loss_fn:torch.nn.Module,\n",
        "             accuracy_fn,\n",
        "             optimizer:torch.optim.Optimizer,\n",
        "             device:torch.device = device):\n",
        "    \n",
        "    model = model.to(device)\n",
        "    model.train()\n",
        "\n",
        "    train_loss = 0\n",
        "    train_acc = 0\n",
        "\n",
        "    for batch, (X_train, y_train) in enumerate(data_loader):\n",
        "        X_train = X_train.to(device)\n",
        "        y_train = y_train.to(device)\n",
        "        y_pred = model(X_train)\n",
        "        loss = loss_fn(y_pred, y_train)\n",
        "        train_loss += loss\n",
        "        acc = accuracy_fn(y_pred=y_pred.argmax(dim=1), y_true=y_train)\n",
        "        train_acc += acc\n",
        "        model.zero_grad()\n",
        "        loss.backward()\n",
        "        optimizer.step()\n",
        "\n",
        "    train_loss /= len(data_loader)\n",
        "    train_acc /= len(data_loader)\n",
        "\n",
        "    print(f\"Train loss: {train_loss:.5f} accuracy: {train_acc*100:.3f}%\")\n",
        "\n",
        "\n",
        "def testing_step(model:torch.nn.Module,\n",
        "             data_loader:torch.utils.data.DataLoader,\n",
        "             loss_fn:torch.nn.Module,\n",
        "             accuracy_fn,\n",
        "             device:torch.device = device):\n",
        "    \n",
        "    model = model.to(device)\n",
        "    model.eval()\n",
        "\n",
        "    test_loss = 0\n",
        "    test_acc = 0\n",
        "\n",
        "    with torch.inference_mode():    \n",
        "        for X_test, y_test in data_loader:\n",
        "            X_test = X_test.to(device)\n",
        "            y_test = y_test.to(device)\n",
        "            y_pred = model(X_test)\n",
        "            loss = loss_fn(y_pred, y_test)\n",
        "            test_loss += loss\n",
        "            acc = accuracy_fn(y_pred=y_pred.argmax(dim=1), y_true=y_test)\n",
        "            test_acc += acc\n",
        "\n",
        "        test_loss /= len(data_loader)\n",
        "        test_acc /= len(data_loader)\n",
        "\n",
        "    print(f\"Test loss: {test_loss:.5f} accuracy: {test_acc*100:.3f}%\\n\")\n",
        "\n",
        "\n",
        "def accuracy_fn(y_pred, y_true):\n",
        "    return (y_pred==y_true).sum().item() / len(y_pred)"
      ],
      "metadata": {
        "id": "QbgwtXjSVBJP"
      },
      "execution_count": null,
      "outputs": []
    },
    {
      "cell_type": "code",
      "source": [
        "from timeit import default_timer\n",
        "from tqdm.auto import tqdm\n",
        "\n",
        "torch.manual_seed(42)\n",
        "\n",
        "epochs = 3\n",
        "start_timer = default_timer()\n",
        "\n",
        "loss_fn = nn.CrossEntropyLoss()\n",
        "\n",
        "optimizer = torch.optim.SGD(params=model1.parameters(),\n",
        "                            lr=0.1)\n",
        "\n",
        "for epoch in tqdm(range(epochs)):\n",
        "    print(f\"-----------------------------------------------------Epoch {epoch}---------------------------------------------------------\")\n",
        "    training_step(model=model1,\n",
        "                  data_loader=train_data_loader,\n",
        "                  loss_fn=loss_fn,\n",
        "                  accuracy_fn=accuracy_fn,\n",
        "                  optimizer=optimizer,\n",
        "                  device=device)\n",
        "    testing_step(model=model1,\n",
        "                 data_loader=test_data_loader,\n",
        "                 loss_fn=loss_fn,\n",
        "                 accuracy_fn=accuracy_fn,\n",
        "                 device=device)\n",
        "    \n",
        "end_timer = default_timer()\n",
        "\n",
        "total_time = end_timer - start_timer\n",
        "print(f\"Total time taken : {total_time} on device {device}\")"
      ],
      "metadata": {
        "colab": {
          "base_uri": "https://localhost:8080/",
          "height": 275,
          "referenced_widgets": [
            "dce4def8411044cf9317c418927bab5c",
            "d8d6c7d053c44c228a6e30b9e8f88ce2",
            "982c22c8e48a45298fac35ff66dccf13",
            "b4e11d89c74e4b5eaec1fbc83c2a7963",
            "8d1264e990fd450a931115679a737208",
            "7f13f05526094ae29ac82e96d328ff0d",
            "fdefd5b1f1c246eeaf94586ea5a8af58",
            "32a84d1c6bb348eebb7f843095ad0e2f",
            "a00d8a93c802468fa7a1fe9b03523f66",
            "53daaec99e61487c8439ae52a6126047",
            "0f0b991af9bd41f0a37cb8b1c1537fb9"
          ]
        },
        "id": "EeDdTVkGd2nb",
        "outputId": "e38e3107-3d9e-40f6-f163-511ee526e234"
      },
      "execution_count": null,
      "outputs": [
        {
          "output_type": "display_data",
          "data": {
            "text/plain": [
              "  0%|          | 0/3 [00:00<?, ?it/s]"
            ],
            "application/vnd.jupyter.widget-view+json": {
              "version_major": 2,
              "version_minor": 0,
              "model_id": "dce4def8411044cf9317c418927bab5c"
            }
          },
          "metadata": {}
        },
        {
          "output_type": "stream",
          "name": "stdout",
          "text": [
            "-----------------------------------------------------Epoch 0---------------------------------------------------------\n",
            "Train loss: 0.89563 accuracy: 68.658%\n",
            "Test loss: 0.71564 accuracy: 73.762%\n",
            "\n",
            "-----------------------------------------------------Epoch 1---------------------------------------------------------\n",
            "Train loss: 0.68536 accuracy: 74.895%\n",
            "Test loss: 0.68568 accuracy: 74.720%\n",
            "\n",
            "-----------------------------------------------------Epoch 2---------------------------------------------------------\n",
            "Train loss: 0.52485 accuracy: 81.180%\n",
            "Test loss: 0.51050 accuracy: 82.099%\n",
            "\n",
            "Total time taken : 37.659530503999974 on device cuda\n"
          ]
        }
      ]
    },
    {
      "cell_type": "code",
      "source": [],
      "metadata": {
        "id": "ifnwMAdzgtg1"
      },
      "execution_count": null,
      "outputs": []
    },
    {
      "cell_type": "code",
      "source": [],
      "metadata": {
        "id": "g3NYr_yahQij"
      },
      "execution_count": null,
      "outputs": []
    }
  ]
}